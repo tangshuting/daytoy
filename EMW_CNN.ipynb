{
  "nbformat": 4,
  "nbformat_minor": 0,
  "metadata": {
    "colab": {
      "name": "EMW_CNN.ipynb",
      "provenance": [],
      "collapsed_sections": [],
      "authorship_tag": "ABX9TyPNry53csR00atWLpVKXQ4X",
      "include_colab_link": true
    },
    "kernelspec": {
      "name": "python3",
      "display_name": "Python 3"
    }
  },
  "cells": [
    {
      "cell_type": "markdown",
      "metadata": {
        "id": "view-in-github",
        "colab_type": "text"
      },
      "source": [
        "<a href=\"https://colab.research.google.com/github/tangshuting/daytoy/blob/master/EMW_CNN.ipynb\" target=\"_parent\"><img src=\"https://colab.research.google.com/assets/colab-badge.svg\" alt=\"Open In Colab\"/></a>"
      ]
    },
    {
      "cell_type": "code",
      "metadata": {
        "id": "CxcuKux6kNrY",
        "colab_type": "code",
        "colab": {
          "base_uri": "https://localhost:8080/",
          "height": 88
        },
        "outputId": "bf10254e-ae23-4a06-fb96-44b56409bc04"
      },
      "source": [
        "import pickle\n",
        "import numpy as np\n",
        "from scipy import integrate\n",
        "import os,random\n",
        "#os.environ[\"KERAS_BACKEND\"] = \"theano\"\n",
        "os.environ[\"KERAS_BACKEND\"] = \"tensorflow\"\n",
        "#os.environ[\"THEANO_FLAGS\"]  = \"device=cuda,floatX=float32\"\n",
        "from keras.utils import np_utils\n",
        "import keras.models as models\n",
        "from keras.layers.core import Reshape,Dense,Dropout,Activation,Flatten\n",
        "from keras.layers.noise import GaussianNoise\n",
        "from keras.layers.convolutional import Conv2D, MaxPooling2D, ZeroPadding2D\n",
        "from keras.regularizers import *\n",
        "from keras.optimizers import adam\n",
        "import matplotlib.pyplot as plt\n",
        "import seaborn as sns\n",
        "import pickle, random, sys, keras"
      ],
      "execution_count": 1,
      "outputs": [
        {
          "output_type": "stream",
          "text": [
            "Using TensorFlow backend.\n",
            "/usr/local/lib/python3.6/dist-packages/statsmodels/tools/_testing.py:19: FutureWarning: pandas.util.testing is deprecated. Use the functions in the public API at pandas.testing instead.\n",
            "  import pandas.util.testing as tm\n"
          ],
          "name": "stderr"
        }
      ]
    },
    {
      "cell_type": "code",
      "metadata": {
        "id": "g91d85rkkSus",
        "colab_type": "code",
        "colab": {
          "base_uri": "https://localhost:8080/",
          "height": 156
        },
        "outputId": "abbaad4d-a1e0-4e80-b553-3d274de25ceb"
      },
      "source": [
        "from google.colab import drive\n",
        "drive.mount('/content/drive')\n",
        "f = open(r'/content/drive/My Drive/EMW/2016.04C.multisnr.pkl','rb') \n",
        "dataDict = pickle.load(f,encoding='bytes')\n",
        "print(type(dataDict))   # dict\n",
        "print(len(dataDict))  #220=11（类别）×20（20个snr）"
      ],
      "execution_count": 2,
      "outputs": [
        {
          "output_type": "stream",
          "text": [
            "Go to this URL in a browser: https://accounts.google.com/o/oauth2/auth?client_id=947318989803-6bn6qk8qdgf4n4g3pfee6491hc0brc4i.apps.googleusercontent.com&redirect_uri=urn%3aietf%3awg%3aoauth%3a2.0%3aoob&response_type=code&scope=email%20https%3a%2f%2fwww.googleapis.com%2fauth%2fdocs.test%20https%3a%2f%2fwww.googleapis.com%2fauth%2fdrive%20https%3a%2f%2fwww.googleapis.com%2fauth%2fdrive.photos.readonly%20https%3a%2f%2fwww.googleapis.com%2fauth%2fpeopleapi.readonly\n",
            "\n",
            "Enter your authorization code:\n",
            "··········\n",
            "Mounted at /content/drive\n",
            "<class 'dict'>\n",
            "220\n"
          ],
          "name": "stdout"
        }
      ]
    },
    {
      "cell_type": "code",
      "metadata": {
        "id": "avYwSjSakWHm",
        "colab_type": "code",
        "colab": {
          "base_uri": "https://localhost:8080/",
          "height": 170
        },
        "outputId": "10ec15a5-2c02-4a32-b330-f646a3b105d0"
      },
      "source": [
        "data = []\n",
        "labels = []\n",
        "for d in dataDict:\n",
        "   signals=dataDict[d]\n",
        "   for s in signals:\n",
        "     data.append(np.array(s))\n",
        "     labels.append(d)\n",
        "data = np.array(data)\n",
        "labels = np.array(labels)\n",
        "print(data.shape) \n",
        "print(labels.shape)\n",
        "print(labels)\n"
      ],
      "execution_count": 3,
      "outputs": [
        {
          "output_type": "stream",
          "text": [
            "(162060, 2, 128)\n",
            "(162060, 2)\n",
            "[[b'QPSK' b'2']\n",
            " [b'QPSK' b'2']\n",
            " [b'QPSK' b'2']\n",
            " ...\n",
            " [b'WBFM' b'12']\n",
            " [b'WBFM' b'12']\n",
            " [b'WBFM' b'12']]\n"
          ],
          "name": "stdout"
        }
      ]
    },
    {
      "cell_type": "code",
      "metadata": {
        "id": "ULIVLwLLkWwi",
        "colab_type": "code",
        "colab": {
          "base_uri": "https://localhost:8080/",
          "height": 119
        },
        "outputId": "4906c369-8abb-46d8-bce1-a7555a8c9823"
      },
      "source": [
        "# 划分数据集 手动（固定的）和自动（可随机选）\n",
        "\n",
        "# 使用函数分测试集和训练集\n",
        "# from sklearn.model_selection import train_test_split\n",
        "# xTrain, xTest, yTrain, yTest = train_test_split(data,labels, test_size=0.5, random_state=62)\n",
        "\n",
        "# 手动划分\n",
        "indices = random.sample(range(0,162060),162060)\n",
        "xTrain = []\n",
        "yTrain = []\n",
        "iTrain = []\n",
        "for i in range(0,81030):\n",
        "  xTrain.append(data[indices[i]])\n",
        "  yTrain.append(labels[indices[i]])\n",
        "  iTrain.append(indices[i])\n",
        "xTrain = np.array(xTrain)\n",
        "yTrain = np.array(yTrain)\n",
        "iTrain = np.array(iTrain)\n",
        "\n",
        "xTest = []\n",
        "yTest = []\n",
        "iTest = []\n",
        "for i in range(81030, 162060):\n",
        "  xTest.append(data[indices[i]])\n",
        "  yTest.append(labels[indices[i]])\n",
        "  iTest.append(indices[i])\n",
        "xTest = np.array(xTrain)\n",
        "yTest = np.array(yTrain)\n",
        "iTest = np.array(iTest)  \n",
        "\n",
        "print(xTrain.shape)\n",
        "print(yTrain.shape)\n",
        "print(xTest.shape)\n",
        "print(yTest.shape)\n",
        "print(iTrain.shape)\n",
        "print(iTest.shape)"
      ],
      "execution_count": 4,
      "outputs": [
        {
          "output_type": "stream",
          "text": [
            "(81030, 2, 128)\n",
            "(81030, 2)\n",
            "(81030, 2, 128)\n",
            "(81030, 2)\n",
            "(81030,)\n",
            "(81030,)\n"
          ],
          "name": "stdout"
        }
      ]
    },
    {
      "cell_type": "code",
      "metadata": {
        "id": "xcdUaQ5WkYQ8",
        "colab_type": "code",
        "colab": {
          "base_uri": "https://localhost:8080/",
          "height": 221
        },
        "outputId": "a5fe68d2-749f-4c49-a89e-837fa1252292"
      },
      "source": [
        "# one-hot enconding\n",
        "#Sklearn’s one hot encoder doesn’t actually know how to convert categories to numbers, \n",
        "#it only knows how to convert numbers to binary. We have to use the labelencoder first.\n",
        "from sklearn.preprocessing import OneHotEncoder, LabelEncoder\n",
        "le = LabelEncoder()\n",
        "\n",
        "yTrain_SNR = yTrain[:,1]\n",
        "yTest_SNR = yTest[:,1]\n",
        "print(yTrain_SNR.shape)\n",
        "print(yTest_SNR.shape)\n",
        "print(yTrain_SNR)\n",
        "print(yTest_SNR)\n",
        "print(yTest[81028])  #随便找一个例子看一下输出结果是否正确\n",
        "print(yTest_SNR[81028])\n",
        "\n",
        "yTrain_le = le.fit_transform(yTrain[:, 0])\n",
        "yTest_le = le.fit_transform(yTest[:, 0])\n",
        "print(yTrain_le.shape)\n",
        "print(yTest_le.shape)\n",
        "print(yTrain_le[81028])\n",
        "print(yTest_le[81028])   #label编码后\n",
        "\n",
        "yTrain_le = yTrain_le.reshape(len(yTrain_le), 1)\n",
        "yTest_le = yTest_le.reshape(len(yTest_le), 1)\n",
        "\n",
        "enc = OneHotEncoder(categories = 'auto',sparse = False )  #将分类特征的每个元素转化为一个可以用来计算的值\n",
        "yTrain_ohe = enc.fit_transform(yTrain_le)  # 如果不加 toarray() 的话，输出的是稀疏的存储格式，即索引加值的形式，也可以通过参数指定 sparse = False 来达到同样的效果\n",
        "yTest_ohe = enc.fit_transform(yTest_le)\n",
        "print(yTrain_ohe[81028])  #onehot编码后\n",
        "print(yTest_ohe[81028])  #onehot编码后"
      ],
      "execution_count": 5,
      "outputs": [
        {
          "output_type": "stream",
          "text": [
            "(81030,)\n",
            "(81030,)\n",
            "[b'-8' b'6' b'-6' ... b'-14' b'4' b'16']\n",
            "[b'-8' b'6' b'-6' ... b'-14' b'4' b'16']\n",
            "[b'GFSK' b'4']\n",
            "b'4'\n",
            "(81030,)\n",
            "(81030,)\n",
            "5\n",
            "5\n",
            "[0. 0. 0. 0. 0. 1. 0. 0. 0. 0. 0.]\n",
            "[0. 0. 0. 0. 0. 1. 0. 0. 0. 0. 0.]\n"
          ],
          "name": "stdout"
        }
      ]
    },
    {
      "cell_type": "code",
      "metadata": {
        "id": "MIhbtfqzkbZk",
        "colab_type": "code",
        "colab": {
          "base_uri": "https://localhost:8080/",
          "height": 479
        },
        "outputId": "c0753f38-407c-4e01-bb3a-cf59984d7fbc"
      },
      "source": [
        "\"\"\"##Neural Networks\n",
        "###CNN\n",
        "\"\"\"\n",
        "from keras.models import Sequential\n",
        "from keras.layers import Conv1D, Convolution2D, Flatten, Dense, Reshape\n",
        "from keras import optimizers\n",
        "\n",
        "model = Sequential()\n",
        "in_shp = [2, 128]\n",
        "model.add(Reshape([1]+in_shp, input_shape=in_shp))\n",
        "# model.add(Conv2D(filters=64, kernel_size=(1,3), data_format='channels_first', activation='relu', padding='valid'))\n",
        "# model.add(Conv2D(filters=16, kernel_size=(2,3), data_format='channels_first', activation='relu', padding='valid'))\n",
        "model.add(ZeroPadding2D((0, 2)))\n",
        "model.add(Convolution2D(64,1,3,border_mode='valid', activation=\"relu\", name=\"conv1\", init='glorot_uniform'))\n",
        "# model.add(ZeroPadding2D(0,2))\n",
        "model.add(Convolution2D(16,1,3,border_mode='valid', activation=\"relu\", name=\"conv2\", init='glorot_uniform'))  # 改了（16，2，3）\n",
        "model.add(Flatten())\n",
        "model.add(Dense(128, activation='relu'))\n",
        "model.add(Dense(11, activation='softmax'))\n",
        "\n",
        "model.compile(loss='categorical_crossentropy', optimizer='adam', metrics=['accuracy'])\n",
        "model.summary()"
      ],
      "execution_count": 30,
      "outputs": [
        {
          "output_type": "stream",
          "text": [
            "Model: \"sequential_24\"\n",
            "_________________________________________________________________\n",
            "Layer (type)                 Output Shape              Param #   \n",
            "=================================================================\n",
            "reshape_24 (Reshape)         (None, 1, 2, 128)         0         \n",
            "_________________________________________________________________\n",
            "zero_padding2d_6 (ZeroPaddin (None, 1, 6, 128)         0         \n",
            "_________________________________________________________________\n",
            "conv1 (Conv2D)               (None, 1, 4, 64)          24640     \n",
            "_________________________________________________________________\n",
            "conv2 (Conv2D)               (None, 1, 2, 16)          3088      \n",
            "_________________________________________________________________\n",
            "flatten_1 (Flatten)          (None, 32)                0         \n",
            "_________________________________________________________________\n",
            "dense_1 (Dense)              (None, 128)               4224      \n",
            "_________________________________________________________________\n",
            "dense_2 (Dense)              (None, 11)                1419      \n",
            "=================================================================\n",
            "Total params: 33,371\n",
            "Trainable params: 33,371\n",
            "Non-trainable params: 0\n",
            "_________________________________________________________________\n"
          ],
          "name": "stdout"
        },
        {
          "output_type": "stream",
          "text": [
            "/usr/local/lib/python3.6/dist-packages/ipykernel_launcher.py:14: UserWarning: Update your `Conv2D` call to the Keras 2 API: `Conv2D(64, (1, 3), activation=\"relu\", name=\"conv1\", padding=\"valid\", kernel_initializer=\"glorot_uniform\")`\n",
            "  \n",
            "/usr/local/lib/python3.6/dist-packages/ipykernel_launcher.py:16: UserWarning: Update your `Conv2D` call to the Keras 2 API: `Conv2D(16, (1, 3), activation=\"relu\", name=\"conv2\", padding=\"valid\", kernel_initializer=\"glorot_uniform\")`\n",
            "  app.launch_new_instance()\n"
          ],
          "name": "stderr"
        }
      ]
    },
    {
      "cell_type": "code",
      "metadata": {
        "id": "uTefzNlwk4q9",
        "colab_type": "code",
        "colab": {
          "base_uri": "https://localhost:8080/",
          "height": 1000
        },
        "outputId": "ad90605e-79d1-4fb1-dae7-50cf49bd807c"
      },
      "source": [
        "from keras.callbacks import EarlyStopping, ModelCheckpoint\n",
        "epochs=50\n",
        "batch_size=1000\n",
        "es = EarlyStopping(monitor='val_acc', mode='max', verbose=1, patience=30)\n",
        "mc = ModelCheckpoint('best_model.h5', monitor='val_acc', mode='max', save_best_only=True, verbose=1)\n",
        "model.fit(xTrain, yTrain_ohe, validation_split=0.2, shuffle=True, batch_size=batch_size, epochs=epochs, verbose=1, callbacks=[es, mc])"
      ],
      "execution_count": 31,
      "outputs": [
        {
          "output_type": "stream",
          "text": [
            "Train on 64824 samples, validate on 16206 samples\n",
            "Epoch 1/50\n",
            "64824/64824 [==============================] - 2s 27us/step - loss: 2.8050 - accuracy: 0.1753 - val_loss: 2.2453 - val_accuracy: 0.2021\n",
            "Epoch 2/50\n",
            "10000/64824 [===>..........................] - ETA: 1s - loss: 2.2109 - accuracy: 0.2118"
          ],
          "name": "stdout"
        },
        {
          "output_type": "stream",
          "text": [
            "/usr/local/lib/python3.6/dist-packages/keras/callbacks/callbacks.py:846: RuntimeWarning: Early stopping conditioned on metric `val_acc` which is not available. Available metrics are: val_loss,val_accuracy,loss,accuracy\n",
            "  (self.monitor, ','.join(list(logs.keys()))), RuntimeWarning\n",
            "/usr/local/lib/python3.6/dist-packages/keras/callbacks/callbacks.py:707: RuntimeWarning: Can save best model only with val_acc available, skipping.\n",
            "  'skipping.' % (self.monitor), RuntimeWarning)\n"
          ],
          "name": "stderr"
        },
        {
          "output_type": "stream",
          "text": [
            "64824/64824 [==============================] - 1s 22us/step - loss: 2.1656 - accuracy: 0.2300 - val_loss: 2.1365 - val_accuracy: 0.2371\n",
            "Epoch 3/50\n",
            "64824/64824 [==============================] - 1s 22us/step - loss: 2.0770 - accuracy: 0.2584 - val_loss: 2.0760 - val_accuracy: 0.2514\n",
            "Epoch 4/50\n",
            "64824/64824 [==============================] - 1s 21us/step - loss: 2.0198 - accuracy: 0.2732 - val_loss: 2.0427 - val_accuracy: 0.2656\n",
            "Epoch 5/50\n",
            "64824/64824 [==============================] - 1s 21us/step - loss: 1.9749 - accuracy: 0.2884 - val_loss: 2.0084 - val_accuracy: 0.2851\n",
            "Epoch 6/50\n",
            "64824/64824 [==============================] - 1s 22us/step - loss: 1.9291 - accuracy: 0.3019 - val_loss: 1.9800 - val_accuracy: 0.2994\n",
            "Epoch 7/50\n",
            "64824/64824 [==============================] - 1s 22us/step - loss: 1.8726 - accuracy: 0.3183 - val_loss: 1.9240 - val_accuracy: 0.3060\n",
            "Epoch 8/50\n",
            "64824/64824 [==============================] - 1s 22us/step - loss: 1.8092 - accuracy: 0.3366 - val_loss: 1.8589 - val_accuracy: 0.3307\n",
            "Epoch 9/50\n",
            "64824/64824 [==============================] - 1s 21us/step - loss: 1.7213 - accuracy: 0.3762 - val_loss: 1.7689 - val_accuracy: 0.4057\n",
            "Epoch 10/50\n",
            "64824/64824 [==============================] - 1s 22us/step - loss: 1.5836 - accuracy: 0.4421 - val_loss: 1.6209 - val_accuracy: 0.4441\n",
            "Epoch 11/50\n",
            "64824/64824 [==============================] - 1s 22us/step - loss: 1.4319 - accuracy: 0.4813 - val_loss: 1.5001 - val_accuracy: 0.4755\n",
            "Epoch 12/50\n",
            "64824/64824 [==============================] - 1s 21us/step - loss: 1.3225 - accuracy: 0.5119 - val_loss: 1.4471 - val_accuracy: 0.5002\n",
            "Epoch 13/50\n",
            "64824/64824 [==============================] - 1s 21us/step - loss: 1.2396 - accuracy: 0.5386 - val_loss: 1.3844 - val_accuracy: 0.5224\n",
            "Epoch 14/50\n",
            "64824/64824 [==============================] - 1s 21us/step - loss: 1.1758 - accuracy: 0.5618 - val_loss: 1.3692 - val_accuracy: 0.5408\n",
            "Epoch 15/50\n",
            "64824/64824 [==============================] - 1s 22us/step - loss: 1.1262 - accuracy: 0.5799 - val_loss: 1.3442 - val_accuracy: 0.5553\n",
            "Epoch 16/50\n",
            "64824/64824 [==============================] - 1s 21us/step - loss: 1.0874 - accuracy: 0.5939 - val_loss: 1.3461 - val_accuracy: 0.5505\n",
            "Epoch 17/50\n",
            "64824/64824 [==============================] - 1s 21us/step - loss: 1.0566 - accuracy: 0.6034 - val_loss: 1.3004 - val_accuracy: 0.5647\n",
            "Epoch 18/50\n",
            "64824/64824 [==============================] - 1s 22us/step - loss: 1.0344 - accuracy: 0.6112 - val_loss: 1.3434 - val_accuracy: 0.5669\n",
            "Epoch 19/50\n",
            "64824/64824 [==============================] - 1s 21us/step - loss: 1.0087 - accuracy: 0.6210 - val_loss: 1.3301 - val_accuracy: 0.5707\n",
            "Epoch 20/50\n",
            "64824/64824 [==============================] - 1s 21us/step - loss: 0.9919 - accuracy: 0.6267 - val_loss: 1.3371 - val_accuracy: 0.5723\n",
            "Epoch 21/50\n",
            "64824/64824 [==============================] - 1s 22us/step - loss: 0.9778 - accuracy: 0.6324 - val_loss: 1.3678 - val_accuracy: 0.5757\n",
            "Epoch 22/50\n",
            "64824/64824 [==============================] - 1s 21us/step - loss: 0.9626 - accuracy: 0.6395 - val_loss: 1.4042 - val_accuracy: 0.5749\n",
            "Epoch 23/50\n",
            "64824/64824 [==============================] - 1s 22us/step - loss: 0.9485 - accuracy: 0.6422 - val_loss: 1.3460 - val_accuracy: 0.5790\n",
            "Epoch 24/50\n",
            "64824/64824 [==============================] - 1s 21us/step - loss: 0.9358 - accuracy: 0.6458 - val_loss: 1.4065 - val_accuracy: 0.5728\n",
            "Epoch 25/50\n",
            "64824/64824 [==============================] - 1s 22us/step - loss: 0.9240 - accuracy: 0.6509 - val_loss: 1.4021 - val_accuracy: 0.5760\n",
            "Epoch 26/50\n",
            "64824/64824 [==============================] - 1s 22us/step - loss: 0.9125 - accuracy: 0.6567 - val_loss: 1.4025 - val_accuracy: 0.5771\n",
            "Epoch 27/50\n",
            "64824/64824 [==============================] - 1s 21us/step - loss: 0.9023 - accuracy: 0.6586 - val_loss: 1.4277 - val_accuracy: 0.5805\n",
            "Epoch 28/50\n",
            "64824/64824 [==============================] - 1s 22us/step - loss: 0.8959 - accuracy: 0.6627 - val_loss: 1.4596 - val_accuracy: 0.5808\n",
            "Epoch 29/50\n",
            "64824/64824 [==============================] - 1s 22us/step - loss: 0.8841 - accuracy: 0.6676 - val_loss: 1.4680 - val_accuracy: 0.5829\n",
            "Epoch 30/50\n",
            "64824/64824 [==============================] - 1s 21us/step - loss: 0.8775 - accuracy: 0.6701 - val_loss: 1.4880 - val_accuracy: 0.5815\n",
            "Epoch 31/50\n",
            "64824/64824 [==============================] - 1s 22us/step - loss: 0.8714 - accuracy: 0.6736 - val_loss: 1.4704 - val_accuracy: 0.5775\n",
            "Epoch 32/50\n",
            "64824/64824 [==============================] - 1s 22us/step - loss: 0.8655 - accuracy: 0.6762 - val_loss: 1.4953 - val_accuracy: 0.5814\n",
            "Epoch 33/50\n",
            "64824/64824 [==============================] - 1s 21us/step - loss: 0.8600 - accuracy: 0.6765 - val_loss: 1.4952 - val_accuracy: 0.5847\n",
            "Epoch 34/50\n",
            "64824/64824 [==============================] - 1s 21us/step - loss: 0.8451 - accuracy: 0.6816 - val_loss: 1.4894 - val_accuracy: 0.5846\n",
            "Epoch 35/50\n",
            "64824/64824 [==============================] - 1s 21us/step - loss: 0.8384 - accuracy: 0.6857 - val_loss: 1.5446 - val_accuracy: 0.5757\n",
            "Epoch 36/50\n",
            "64824/64824 [==============================] - 1s 21us/step - loss: 0.8308 - accuracy: 0.6877 - val_loss: 1.5319 - val_accuracy: 0.5823\n",
            "Epoch 37/50\n",
            "64824/64824 [==============================] - 1s 22us/step - loss: 0.8337 - accuracy: 0.6852 - val_loss: 1.6176 - val_accuracy: 0.5848\n",
            "Epoch 38/50\n",
            "64824/64824 [==============================] - 1s 22us/step - loss: 0.8275 - accuracy: 0.6892 - val_loss: 1.6111 - val_accuracy: 0.5781\n",
            "Epoch 39/50\n",
            "64824/64824 [==============================] - 1s 22us/step - loss: 0.8116 - accuracy: 0.6943 - val_loss: 1.6195 - val_accuracy: 0.5810\n",
            "Epoch 40/50\n",
            "64824/64824 [==============================] - 1s 21us/step - loss: 0.8095 - accuracy: 0.6950 - val_loss: 1.6598 - val_accuracy: 0.5817\n",
            "Epoch 41/50\n",
            "64824/64824 [==============================] - 1s 21us/step - loss: 0.8051 - accuracy: 0.6971 - val_loss: 1.6887 - val_accuracy: 0.5847\n",
            "Epoch 42/50\n",
            "64824/64824 [==============================] - 1s 22us/step - loss: 0.7941 - accuracy: 0.7032 - val_loss: 1.6763 - val_accuracy: 0.5824\n",
            "Epoch 43/50\n",
            "64824/64824 [==============================] - 1s 21us/step - loss: 0.7902 - accuracy: 0.7035 - val_loss: 1.6751 - val_accuracy: 0.5823\n",
            "Epoch 44/50\n",
            "64824/64824 [==============================] - 1s 21us/step - loss: 0.7871 - accuracy: 0.7038 - val_loss: 1.8073 - val_accuracy: 0.5807\n",
            "Epoch 45/50\n",
            "64824/64824 [==============================] - 1s 22us/step - loss: 0.7783 - accuracy: 0.7086 - val_loss: 1.7813 - val_accuracy: 0.5826\n",
            "Epoch 46/50\n",
            "64824/64824 [==============================] - 1s 22us/step - loss: 0.7770 - accuracy: 0.7071 - val_loss: 1.7076 - val_accuracy: 0.5823\n",
            "Epoch 47/50\n",
            "64824/64824 [==============================] - 1s 21us/step - loss: 0.7703 - accuracy: 0.7109 - val_loss: 1.7567 - val_accuracy: 0.5848\n",
            "Epoch 48/50\n",
            "64824/64824 [==============================] - 1s 21us/step - loss: 0.7661 - accuracy: 0.7104 - val_loss: 1.7974 - val_accuracy: 0.5815\n",
            "Epoch 49/50\n",
            "64824/64824 [==============================] - 1s 21us/step - loss: 0.7573 - accuracy: 0.7157 - val_loss: 1.8749 - val_accuracy: 0.5856\n",
            "Epoch 50/50\n",
            "64824/64824 [==============================] - 1s 22us/step - loss: 0.7493 - accuracy: 0.7196 - val_loss: 1.8714 - val_accuracy: 0.5847\n"
          ],
          "name": "stdout"
        },
        {
          "output_type": "execute_result",
          "data": {
            "text/plain": [
              "<keras.callbacks.callbacks.History at 0x7f002895dfd0>"
            ]
          },
          "metadata": {
            "tags": []
          },
          "execution_count": 31
        }
      ]
    },
    {
      "cell_type": "code",
      "metadata": {
        "id": "kjlfO4Kmqcpd",
        "colab_type": "code",
        "colab": {
          "base_uri": "https://localhost:8080/",
          "height": 85
        },
        "outputId": "de2b0001-fdc3-4cdd-a6b0-88fdcd5b43e6"
      },
      "source": [
        "batch_size=1000\n",
        "score = model.evaluate(xTest, yTest_ohe, verbose=0, batch_size=batch_size)\n",
        "print (score)   #结果是 1.9665707177208425，不是100%下的结果，这个结果应该是默认的loss\n",
        "print (score[1])  #报错 'float' object is not subscriptable\n",
        "print ('loss： %.4lf' % score[0])\n",
        "print('accuracy: ', score[1])"
      ],
      "execution_count": 33,
      "outputs": [
        {
          "output_type": "stream",
          "text": [
            "[0.9570456359263748, 0.7010366320610046]\n",
            "0.7010366320610046\n",
            "loss： 0.9570\n",
            "accuracy:  0.7010366320610046\n"
          ],
          "name": "stdout"
        }
      ]
    },
    {
      "cell_type": "code",
      "metadata": {
        "id": "emQi3swtk5Gi",
        "colab_type": "code",
        "colab": {
          "base_uri": "https://localhost:8080/",
          "height": 635
        },
        "outputId": "635e22a0-548b-4c44-90c3-78f84917f1a6"
      },
      "source": [
        "\"\"\"###Evaluate Test set\"\"\"\n",
        "filepath = \"CNN.h5\"\n",
        "model.save(filepath)\n",
        "\n",
        "from keras.models import load_model\n",
        "saved_model = load_model('CNN.h5')\n",
        "\n",
        "SNR = np.unique(labels[:,1])\n",
        "SNR = list(map(int, SNR))\n",
        "SNR.sort()\n",
        "SNR = list(map(str, SNR))\n",
        "\n",
        "yTest_SNR_str = []\n",
        "for i in yTest_SNR:\n",
        "  yTest_SNR_str.append(str(i).split('\\'')[1])\n",
        "\n",
        "\n",
        "accuracy = []\n",
        "\n",
        "for s in SNR:\n",
        "    SNR_index = []\n",
        "    SNR_Y = []\n",
        "    SNR_X = []\n",
        "    for index in range(0,len(yTest_SNR_str)):\n",
        "        if s == yTest_SNR_str[index]:\n",
        "            SNR_index.append(index)\n",
        "            SNR_Y.append(yTest_ohe[index])\n",
        "            SNR_X.append(xTest[index])\n",
        "\n",
        "    y = np.array(SNR_Y)\n",
        "    # print(y)\n",
        "    x = np.array(SNR_X)\n",
        "    result = model.evaluate(x, y, verbose=2)\n",
        "    print('Accuracy for SNR = ', s, ' is ', result[1] * 100)\n",
        "    accuracy.append(result[1])\n",
        "\n",
        "  \n",
        "import matplotlib.pyplot as plt\n",
        "plt.ylim(0, 1)\n",
        "plt.plot(SNR, accuracy)\n",
        "plt.title('CNN Classification Accuracy RadioML 2016.04C')\n",
        "plt.xlabel('SNR\\dB')\n",
        "plt.ylabel('Accuracy')\n",
        "plt.show()"
      ],
      "execution_count": 36,
      "outputs": [
        {
          "output_type": "stream",
          "text": [
            "Accuracy for SNR =  -20  is  42.835670709609985\n",
            "Accuracy for SNR =  -18  is  41.37499928474426\n",
            "Accuracy for SNR =  -16  is  37.451171875\n",
            "Accuracy for SNR =  -14  is  35.888588428497314\n",
            "Accuracy for SNR =  -12  is  38.25257122516632\n",
            "Accuracy for SNR =  -10  is  43.866536021232605\n",
            "Accuracy for SNR =  -8  is  58.773887157440186\n",
            "Accuracy for SNR =  -6  is  73.34155440330505\n",
            "Accuracy for SNR =  -4  is  78.76831293106079\n",
            "Accuracy for SNR =  -2  is  83.60112309455872\n",
            "Accuracy for SNR =  0  is  85.12540459632874\n",
            "Accuracy for SNR =  2  is  84.78964567184448\n",
            "Accuracy for SNR =  4  is  85.32742261886597\n",
            "Accuracy for SNR =  6  is  86.12313866615295\n",
            "Accuracy for SNR =  8  is  85.07028818130493\n",
            "Accuracy for SNR =  10  is  89.62655663490295\n",
            "Accuracy for SNR =  12  is  90.47970771789551\n",
            "Accuracy for SNR =  14  is  83.73983502388\n",
            "Accuracy for SNR =  16  is  86.77582144737244\n",
            "Accuracy for SNR =  18  is  90.55960774421692\n"
          ],
          "name": "stdout"
        },
        {
          "output_type": "display_data",
          "data": {
            "image/png": "[encoded data removed]",
            "text/plain": [
              "<Figure size 432x288 with 1 Axes>"
            ]
          },
          "metadata": {
            "tags": [],
            "needs_background": "light"
          }
        }
      ]
    }
  ]
}