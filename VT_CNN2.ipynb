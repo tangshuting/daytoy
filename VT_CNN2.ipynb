{
  "nbformat": 4,
  "nbformat_minor": 0,
  "metadata": {
    "colab": {
      "name": "VT_CNN2.ipynb",
      "provenance": [],
      "authorship_tag": "ABX9TyMQDBEj9Dk1ge5hr36wptxp",
      "include_colab_link": true
    },
    "kernelspec": {
      "name": "python3",
      "display_name": "Python 3"
    }
  },
  "cells": [
    {
      "cell_type": "markdown",
      "metadata": {
        "id": "view-in-github",
        "colab_type": "text"
      },
      "source": [
        "<a href=\"https://colab.research.google.com/github/tangshuting/daytoy/blob/master/VT_CNN2.ipynb\" target=\"_parent\"><img src=\"https://colab.research.google.com/assets/colab-badge.svg\" alt=\"Open In Colab\"/></a>"
      ]
    },
    {
      "cell_type": "code",
      "metadata": {
        "id": "RJKS2HKANAX_",
        "colab_type": "code",
        "colab": {
          "base_uri": "https://localhost:8080/",
          "height": 35
        },
        "outputId": "b5ab9acd-b15f-42fe-93a1-ac728fcee0c6"
      },
      "source": [
        "import keras.models as models\n",
        "# from keras.models as models\n",
        "from keras.layers.core import Reshape,Dense,Dropout,Activation,Flatten\n",
        "from keras.layers.convolutional import Convolution2D,MaxPooling2D,ZeroPadding2D\n",
        "from keras.optimizers import adam"
      ],
      "execution_count": 1,
      "outputs": [
        {
          "output_type": "stream",
          "text": [
            "Using TensorFlow backend.\n"
          ],
          "name": "stderr"
        }
      ]
    },
    {
      "cell_type": "code",
      "metadata": {
        "id": "84o3bwqceCC_",
        "colab_type": "code",
        "outputId": "d8e0c804-5110-40f5-9839-6023cc48983b",
        "colab": {
          "base_uri": "https://localhost:8080/",
          "height": 352
        }
      },
      "source": [
        "\n",
        "import pickle\n",
        "import numpy as np\n",
        "from scipy import integrate\n",
        "import os,random\n",
        "#os.environ[\"KERAS_BACKEND\"] = \"theano\"\n",
        "os.environ[\"KERAS_BACKEND\"] = \"tensorflow\"\n",
        "#os.environ[\"THEANO_FLAGS\"]  = \"device=cuda,floatX=float32\"\n",
        "from keras.utils import np_utils\n",
        "import keras.models as models\n",
        "from keras.layers.core import Reshape,Dense,Dropout,Activation,Flatten\n",
        "from keras.layers.noise import GaussianNoise\n",
        "from keras.layers.convolutional import Conv2D, MaxPooling2D, ZeroPadding2D\n",
        "from keras.regularizers import *\n",
        "from keras.optimizers import adam\n",
        "import matplotlib.pyplot as plt\n",
        "import seaborn as sns\n",
        "import pickle, random, sys, keras\n",
        "\n",
        "from google.colab import drive\n",
        "drive.mount('/content/drive')\n",
        "f = open(r'/content/drive/My Drive/EMW/2016.04C.multisnr.pkl','rb') \n",
        "dataDict = pickle.load(f,encoding='bytes')\n",
        "print(type(dataDict))   # dict\n",
        "print(len(dataDict))  #220=11（类别）×20（20个snr）\n",
        "\n",
        "data = []\n",
        "labels = []\n",
        "for d in dataDict:\n",
        "   signals=dataDict[d]\n",
        "   for s in signals:\n",
        "     data.append(np.array(s))\n",
        "     labels.append(d)\n",
        "data = np.array(data)\n",
        "labels = np.array(labels)\n",
        "print(data.shape)\n",
        "print(labels.shape)\n",
        "print(labels)"
      ],
      "execution_count": 2,
      "outputs": [
        {
          "output_type": "stream",
          "text": [
            "/usr/local/lib/python3.6/dist-packages/statsmodels/tools/_testing.py:19: FutureWarning: pandas.util.testing is deprecated. Use the functions in the public API at pandas.testing instead.\n",
            "  import pandas.util.testing as tm\n"
          ],
          "name": "stderr"
        },
        {
          "output_type": "stream",
          "text": [
            "Go to this URL in a browser: https://accounts.google.com/o/oauth2/auth?client_id=947318989803-6bn6qk8qdgf4n4g3pfee6491hc0brc4i.apps.googleusercontent.com&redirect_uri=urn%3aietf%3awg%3aoauth%3a2.0%3aoob&response_type=code&scope=email%20https%3a%2f%2fwww.googleapis.com%2fauth%2fdocs.test%20https%3a%2f%2fwww.googleapis.com%2fauth%2fdrive%20https%3a%2f%2fwww.googleapis.com%2fauth%2fdrive.photos.readonly%20https%3a%2f%2fwww.googleapis.com%2fauth%2fpeopleapi.readonly\n",
            "\n",
            "Enter your authorization code:\n",
            "··········\n",
            "Mounted at /content/drive\n",
            "<class 'dict'>\n",
            "220\n",
            "(162060, 2, 128)\n",
            "(162060, 2)\n",
            "[[b'QPSK' b'2']\n",
            " [b'QPSK' b'2']\n",
            " [b'QPSK' b'2']\n",
            " ...\n",
            " [b'WBFM' b'12']\n",
            " [b'WBFM' b'12']\n",
            " [b'WBFM' b'12']]\n"
          ],
          "name": "stdout"
        }
      ]
    },
    {
      "cell_type": "code",
      "metadata": {
        "id": "UXIoBnctem7K",
        "colab_type": "code",
        "outputId": "6d9d1286-c16b-4810-ec85-5c6c608dd6bc",
        "colab": {
          "base_uri": "https://localhost:8080/",
          "height": 122
        }
      },
      "source": [
        "# 划分数据集 手动（固定的）和自动（可随机选）\n",
        "\n",
        "# 使用函数分测试集和训练集\n",
        "# from sklearn.model_selection import train_test_split\n",
        "# xTrain, xTest, yTrain, yTest = train_test_split(data,labels, test_size=0.5, random_state=62)\n",
        "\n",
        "indices = random.sample(range(0,162060),162060)\n",
        "xTrain = []\n",
        "yTrain = []\n",
        "iTrain = []\n",
        "for i in range(0,81030):\n",
        "  xTrain.append(data[indices[i]])\n",
        "  yTrain.append(labels[indices[i]])\n",
        "  iTrain.append(indices[i])\n",
        "xTrain = np.array(xTrain)\n",
        "yTrain = np.array(yTrain)\n",
        "iTrain = np.array(iTrain)\n",
        "\n",
        "xTest = []\n",
        "yTest = []\n",
        "iTest = []\n",
        "for i in range(81030, 162060):\n",
        "  xTest.append(data[indices[i]])\n",
        "  yTest.append(labels[indices[i]])\n",
        "  iTest.append(indices[i])\n",
        "xTest = np.array(xTrain)\n",
        "yTest = np.array(yTrain)\n",
        "iTest = np.array(iTest)\n",
        "\n",
        "print(xTrain.shape)\n",
        "print(yTrain.shape)\n",
        "print(xTest.shape)\n",
        "print(yTest.shape)\n",
        "print(iTrain.shape)\n",
        "print(iTest.shape)"
      ],
      "execution_count": 3,
      "outputs": [
        {
          "output_type": "stream",
          "text": [
            "(81030, 2, 128)\n",
            "(81030, 2)\n",
            "(81030, 2, 128)\n",
            "(81030, 2)\n",
            "(81030,)\n",
            "(81030,)\n"
          ],
          "name": "stdout"
        }
      ]
    },
    {
      "cell_type": "code",
      "metadata": {
        "id": "ks7iM-xVejb-",
        "colab_type": "code",
        "outputId": "bb09de97-644c-49c6-dd15-7393c962fd84",
        "colab": {
          "base_uri": "https://localhost:8080/",
          "height": 227
        }
      },
      "source": [
        "\n",
        "# one-hot enconding\n",
        "#Sklearn’s one hot encoder doesn’t actually know how to convert categories to numbers,\n",
        "#it only knows how to convert numbers to binary. We have to use the labelencoder first.\n",
        "from sklearn.preprocessing import OneHotEncoder, LabelEncoder\n",
        "le = LabelEncoder()\n",
        "\n",
        "yTrain_SNR = yTrain[:,1]\n",
        "yTest_SNR = yTest[:,1]\n",
        "print(yTrain_SNR.shape)\n",
        "print(yTest_SNR.shape)\n",
        "print(yTrain_SNR)\n",
        "print(yTest_SNR)\n",
        "print(yTest[81028])  #随便找一个例子看一下输出结果是否正确\n",
        "print(yTest_SNR[81028])\n",
        "\n",
        "yTrain_le = le.fit_transform(yTrain[:, 0])\n",
        "yTest_le = le.fit_transform(yTest[:, 0])\n",
        "print(yTrain_le.shape)\n",
        "print(yTest_le.shape)\n",
        "print(yTrain_le[81028])\n",
        "print(yTest_le[81028])   #label编码后\n",
        "\n",
        "yTrain_le = yTrain_le.reshape(len(yTrain_le), 1)\n",
        "yTest_le = yTest_le.reshape(len(yTest_le), 1)\n",
        "\n",
        "enc = OneHotEncoder(categories = 'auto',sparse = False )  #将分类特征的每个元素转化为一个可以用来计算的值\n",
        "yTrain_ohe = enc.fit_transform(yTrain_le)  # 如果不加 toarray() 的话，输出的是稀疏的存储格式，即索引加值的形式，也可以通过参数指定 sparse = False 来达到同样的效果\n",
        "yTest_ohe = enc.fit_transform(yTest_le)\n",
        "print(yTrain_ohe[81028])  #onehot编码后\n",
        "print(yTest_ohe[81028])  #onehot编码后\n"
      ],
      "execution_count": 4,
      "outputs": [
        {
          "output_type": "stream",
          "text": [
            "(81030,)\n",
            "(81030,)\n",
            "[b'-14' b'-14' b'-18' ... b'2' b'6' b'4']\n",
            "[b'-14' b'-14' b'-18' ... b'2' b'6' b'4']\n",
            "[b'GFSK' b'6']\n",
            "b'6'\n",
            "(81030,)\n",
            "(81030,)\n",
            "5\n",
            "5\n",
            "[0. 0. 0. 0. 0. 1. 0. 0. 0. 0. 0.]\n",
            "[0. 0. 0. 0. 0. 1. 0. 0. 0. 0. 0.]\n"
          ],
          "name": "stdout"
        }
      ]
    },
    {
      "cell_type": "code",
      "metadata": {
        "id": "yRP58XnKolwI",
        "colab_type": "code",
        "outputId": "98c63bd9-3a2d-45a4-bcfc-105646ff4d76",
        "colab": {
          "base_uri": "https://localhost:8080/",
          "height": 702
        }
      },
      "source": [
        "import os,random\n",
        "os.environ[\"KERAS_BACKEND\"] = \"theano\"\n",
        "#os.environ[\"KERAS_BACKEND\"] = \"tensorflow\"\n",
        "os.environ[\"THEANO_FLAGS\"]  = \"device=gpu%d\"%(1)\n",
        "import numpy as np\n",
        "import theano as th\n",
        "import theano.tensor as T\n",
        "from keras.utils import np_utils\n",
        "import keras.models as models\n",
        "from keras.layers.core import Reshape,Dense,Dropout,Activation,Flatten\n",
        "from keras.layers.noise import GaussianNoise\n",
        "from keras.layers.convolutional import Convolution2D, MaxPooling2D, ZeroPadding2D\n",
        "from keras.regularizers import *\n",
        "from keras.optimizers import adam\n",
        "import matplotlib.pyplot as plt\n",
        "import seaborn as sns\n",
        "\n",
        "\n",
        "dr = 0.5 # dropout rate (%)\n",
        "model = models.Sequential()\n",
        "in_shp = [2, 128]\n",
        "model.add(Reshape([1]+in_shp, input_shape=in_shp))\n",
        "model.add(ZeroPadding2D((0, 2)))\n",
        "model.add(Convolution2D(256, 1, 3, border_mode='valid', activation=\"relu\", name=\"conv1\", init='glorot_uniform'))\n",
        "model.add(Dropout(dr))\n",
        "model.add(ZeroPadding2D((0, 2)))\n",
        "model.add(Convolution2D(80, 1, 3, border_mode=\"valid\", activation=\"relu\", name=\"conv2\", init='glorot_uniform'))  #(80,2,3)改成了（80，1，3）\n",
        "model.add(Dropout(dr))\n",
        "model.add(Flatten())\n",
        "model.add(Dense(256, activation='relu', init='he_normal', name=\"dense1\"))\n",
        "model.add(Dropout(dr))\n",
        "model.add(Dense(11, init='he_normal', name=\"dense2\" ))\n",
        "model.add(Activation('softmax'))\n",
        "model.add(Dense(11,activation='softmax'))\n",
        "# model.add(Reshape(11)) \n",
        "# 加上metrics=['acc']这一句\n",
        "# model.compile(loss='categorical_crossentropy', optimizer='adam') \n",
        "model.compile(loss='categorical_crossentropy', optimizer='adam', metrics=['accuracy'])\n",
        "model.summary()"
      ],
      "execution_count": 38,
      "outputs": [
        {
          "output_type": "stream",
          "text": [
            "Model: \"sequential_14\"\n",
            "_________________________________________________________________\n",
            "Layer (type)                 Output Shape              Param #   \n",
            "=================================================================\n",
            "reshape_15 (Reshape)         (None, 1, 2, 128)         0         \n",
            "_________________________________________________________________\n",
            "zero_padding2d_12 (ZeroPaddi (None, 1, 6, 128)         0         \n",
            "_________________________________________________________________\n",
            "conv1 (Conv2D)               (None, 1, 4, 256)         98560     \n",
            "_________________________________________________________________\n",
            "dropout_15 (Dropout)         (None, 1, 4, 256)         0         \n",
            "_________________________________________________________________\n",
            "zero_padding2d_13 (ZeroPaddi (None, 1, 8, 256)         0         \n",
            "_________________________________________________________________\n",
            "conv2 (Conv2D)               (None, 1, 6, 80)          61520     \n",
            "_________________________________________________________________\n",
            "dropout_16 (Dropout)         (None, 1, 6, 80)          0         \n",
            "_________________________________________________________________\n",
            "flatten_5 (Flatten)          (None, 480)               0         \n",
            "_________________________________________________________________\n",
            "dense1 (Dense)               (None, 256)               123136    \n",
            "_________________________________________________________________\n",
            "dropout_17 (Dropout)         (None, 256)               0         \n",
            "_________________________________________________________________\n",
            "dense2 (Dense)               (None, 11)                2827      \n",
            "_________________________________________________________________\n",
            "activation_5 (Activation)    (None, 11)                0         \n",
            "_________________________________________________________________\n",
            "dense_4 (Dense)              (None, 11)                132       \n",
            "=================================================================\n",
            "Total params: 286,175\n",
            "Trainable params: 286,175\n",
            "Non-trainable params: 0\n",
            "_________________________________________________________________\n"
          ],
          "name": "stdout"
        },
        {
          "output_type": "stream",
          "text": [
            "/usr/local/lib/python3.6/dist-packages/ipykernel_launcher.py:24: UserWarning: Update your `Conv2D` call to the Keras 2 API: `Conv2D(256, (1, 3), activation=\"relu\", name=\"conv1\", padding=\"valid\", kernel_initializer=\"glorot_uniform\")`\n",
            "/usr/local/lib/python3.6/dist-packages/ipykernel_launcher.py:27: UserWarning: Update your `Conv2D` call to the Keras 2 API: `Conv2D(80, (1, 3), activation=\"relu\", name=\"conv2\", padding=\"valid\", kernel_initializer=\"glorot_uniform\")`\n",
            "/usr/local/lib/python3.6/dist-packages/ipykernel_launcher.py:30: UserWarning: Update your `Dense` call to the Keras 2 API: `Dense(256, activation=\"relu\", name=\"dense1\", kernel_initializer=\"he_normal\")`\n",
            "/usr/local/lib/python3.6/dist-packages/ipykernel_launcher.py:32: UserWarning: Update your `Dense` call to the Keras 2 API: `Dense(11, name=\"dense2\", kernel_initializer=\"he_normal\")`\n"
          ],
          "name": "stderr"
        }
      ]
    },
    {
      "cell_type": "code",
      "metadata": {
        "id": "qyb_0XoHQSVD",
        "colab_type": "code",
        "colab": {
          "base_uri": "https://localhost:8080/",
          "height": 1000
        },
        "outputId": "70f2623f-e3cc-4b43-b97b-f73c4b1baa41"
      },
      "source": [
        "from keras.callbacks import EarlyStopping, ModelCheckpoint\n",
        "epochs=50\n",
        "batch_size=1000\n",
        "es = EarlyStopping(monitor='val_acc', mode='max', verbose=1, patience=30)\n",
        "mc = ModelCheckpoint('best.hdf5weights.best2.hdf5', monitor='val_acc', mode='max', save_best_only=True, verbose=1)\n",
        "model.fit(xTrain, yTrain_ohe, validation_split=0.2, shuffle=True, batch_size=batch_size, epochs=epochs, verbose=1, callbacks=[es, mc])  #不加 metrics=['accuracy']这一句时，结果显示是loss和val_loss，不显示准去率"
      ],
      "execution_count": 46,
      "outputs": [
        {
          "output_type": "stream",
          "text": [
            "Train on 64824 samples, validate on 16206 samples\n",
            "Epoch 1/50\n",
            "64824/64824 [==============================] - 9s 136us/step - loss: 1.9827 - accuracy: 0.2829 - val_loss: 1.9583 - val_accuracy: 0.2963\n",
            "Epoch 2/50\n",
            " 1000/64824 [..............................] - ETA: 8s - loss: 1.9401 - accuracy: 0.2940"
          ],
          "name": "stdout"
        },
        {
          "output_type": "stream",
          "text": [
            "/usr/local/lib/python3.6/dist-packages/keras/callbacks/callbacks.py:846: RuntimeWarning: Early stopping conditioned on metric `val_acc` which is not available. Available metrics are: val_loss,val_accuracy,loss,accuracy\n",
            "  (self.monitor, ','.join(list(logs.keys()))), RuntimeWarning\n",
            "/usr/local/lib/python3.6/dist-packages/keras/callbacks/callbacks.py:707: RuntimeWarning: Can save best model only with val_acc available, skipping.\n",
            "  'skipping.' % (self.monitor), RuntimeWarning)\n"
          ],
          "name": "stderr"
        },
        {
          "output_type": "stream",
          "text": [
            "64824/64824 [==============================] - 9s 137us/step - loss: 1.9719 - accuracy: 0.2849 - val_loss: 1.9504 - val_accuracy: 0.3001\n",
            "Epoch 3/50\n",
            "64824/64824 [==============================] - 9s 136us/step - loss: 1.9688 - accuracy: 0.2831 - val_loss: 1.9459 - val_accuracy: 0.2975\n",
            "Epoch 4/50\n",
            "64824/64824 [==============================] - 9s 137us/step - loss: 1.9579 - accuracy: 0.2875 - val_loss: 1.9329 - val_accuracy: 0.3004\n",
            "Epoch 5/50\n",
            "64824/64824 [==============================] - 9s 136us/step - loss: 1.9460 - accuracy: 0.2885 - val_loss: 1.9243 - val_accuracy: 0.3002\n",
            "Epoch 6/50\n",
            "64824/64824 [==============================] - 9s 137us/step - loss: 1.9378 - accuracy: 0.2907 - val_loss: 1.9241 - val_accuracy: 0.3025\n",
            "Epoch 7/50\n",
            "64824/64824 [==============================] - 9s 137us/step - loss: 1.9335 - accuracy: 0.2917 - val_loss: 1.9063 - val_accuracy: 0.3054\n",
            "Epoch 8/50\n",
            "64824/64824 [==============================] - 9s 137us/step - loss: 1.9175 - accuracy: 0.2958 - val_loss: 1.8924 - val_accuracy: 0.3041\n",
            "Epoch 9/50\n",
            "64824/64824 [==============================] - 9s 136us/step - loss: 1.9123 - accuracy: 0.2946 - val_loss: 1.8874 - val_accuracy: 0.3054\n",
            "Epoch 10/50\n",
            "64824/64824 [==============================] - 9s 136us/step - loss: 1.9040 - accuracy: 0.2941 - val_loss: 1.8742 - val_accuracy: 0.3047\n",
            "Epoch 11/50\n",
            "64824/64824 [==============================] - 9s 135us/step - loss: 1.8911 - accuracy: 0.2920 - val_loss: 1.8589 - val_accuracy: 0.3046\n",
            "Epoch 12/50\n",
            "64824/64824 [==============================] - 9s 135us/step - loss: 1.8737 - accuracy: 0.2975 - val_loss: 1.8461 - val_accuracy: 0.3037\n",
            "Epoch 13/50\n",
            "64824/64824 [==============================] - 9s 135us/step - loss: 1.8673 - accuracy: 0.2985 - val_loss: 1.8306 - val_accuracy: 0.3022\n",
            "Epoch 14/50\n",
            "64824/64824 [==============================] - 9s 137us/step - loss: 1.8553 - accuracy: 0.2979 - val_loss: 1.8264 - val_accuracy: 0.3029\n",
            "Epoch 15/50\n",
            "64824/64824 [==============================] - 9s 136us/step - loss: 1.8541 - accuracy: 0.2975 - val_loss: 1.8356 - val_accuracy: 0.2998\n",
            "Epoch 16/50\n",
            "64824/64824 [==============================] - 9s 135us/step - loss: 1.8414 - accuracy: 0.2958 - val_loss: 1.8087 - val_accuracy: 0.3026\n",
            "Epoch 17/50\n",
            "64824/64824 [==============================] - 9s 135us/step - loss: 1.8320 - accuracy: 0.2954 - val_loss: 1.8045 - val_accuracy: 0.3035\n",
            "Epoch 18/50\n",
            "64824/64824 [==============================] - 9s 136us/step - loss: 1.8259 - accuracy: 0.2959 - val_loss: 1.7932 - val_accuracy: 0.3050\n",
            "Epoch 19/50\n",
            "64824/64824 [==============================] - 9s 135us/step - loss: 1.8235 - accuracy: 0.2979 - val_loss: 1.7943 - val_accuracy: 0.3030\n",
            "Epoch 20/50\n",
            "64824/64824 [==============================] - 9s 136us/step - loss: 1.8158 - accuracy: 0.2992 - val_loss: 1.7833 - val_accuracy: 0.3039\n",
            "Epoch 21/50\n",
            "64824/64824 [==============================] - 9s 137us/step - loss: 1.8135 - accuracy: 0.2963 - val_loss: 1.7922 - val_accuracy: 0.3046\n",
            "Epoch 22/50\n",
            "64824/64824 [==============================] - 9s 139us/step - loss: 1.8098 - accuracy: 0.2978 - val_loss: 1.7780 - val_accuracy: 0.3075\n",
            "Epoch 23/50\n",
            "64824/64824 [==============================] - 9s 136us/step - loss: 1.8121 - accuracy: 0.3007 - val_loss: 1.7890 - val_accuracy: 0.3035\n",
            "Epoch 24/50\n",
            "64824/64824 [==============================] - 9s 135us/step - loss: 1.8074 - accuracy: 0.2980 - val_loss: 1.7879 - val_accuracy: 0.3051\n",
            "Epoch 25/50\n",
            "64824/64824 [==============================] - 9s 135us/step - loss: 1.8028 - accuracy: 0.2975 - val_loss: 1.7784 - val_accuracy: 0.3053\n",
            "Epoch 26/50\n",
            "64824/64824 [==============================] - 9s 135us/step - loss: 1.7991 - accuracy: 0.2988 - val_loss: 1.7732 - val_accuracy: 0.3041\n",
            "Epoch 27/50\n",
            "64824/64824 [==============================] - 9s 136us/step - loss: 1.8059 - accuracy: 0.2959 - val_loss: 1.7719 - val_accuracy: 0.3032\n",
            "Epoch 28/50\n",
            "64824/64824 [==============================] - 9s 137us/step - loss: 1.7940 - accuracy: 0.2954 - val_loss: 1.7655 - val_accuracy: 0.3054\n",
            "Epoch 29/50\n",
            "64824/64824 [==============================] - 9s 135us/step - loss: 1.7910 - accuracy: 0.2983 - val_loss: 1.7679 - val_accuracy: 0.3037\n",
            "Epoch 30/50\n",
            "64824/64824 [==============================] - 9s 135us/step - loss: 1.7868 - accuracy: 0.3004 - val_loss: 1.7636 - val_accuracy: 0.3045\n",
            "Epoch 31/50\n",
            "64824/64824 [==============================] - 9s 135us/step - loss: 1.7922 - accuracy: 0.3004 - val_loss: 1.7653 - val_accuracy: 0.3024\n",
            "Epoch 32/50\n",
            "64824/64824 [==============================] - 9s 135us/step - loss: 1.7983 - accuracy: 0.3008 - val_loss: 1.7682 - val_accuracy: 0.3055\n",
            "Epoch 33/50\n",
            "64824/64824 [==============================] - 9s 136us/step - loss: 1.7902 - accuracy: 0.2995 - val_loss: 1.7631 - val_accuracy: 0.3044\n",
            "Epoch 34/50\n",
            "64824/64824 [==============================] - 9s 135us/step - loss: 1.7850 - accuracy: 0.3019 - val_loss: 1.7595 - val_accuracy: 0.3043\n",
            "Epoch 35/50\n",
            "64824/64824 [==============================] - 9s 136us/step - loss: 1.7866 - accuracy: 0.2996 - val_loss: 1.7625 - val_accuracy: 0.3040\n",
            "Epoch 36/50\n",
            "64824/64824 [==============================] - 9s 136us/step - loss: 1.7857 - accuracy: 0.2996 - val_loss: 1.7626 - val_accuracy: 0.3031\n",
            "Epoch 37/50\n",
            "64824/64824 [==============================] - 9s 135us/step - loss: 1.7798 - accuracy: 0.3003 - val_loss: 1.7539 - val_accuracy: 0.3057\n",
            "Epoch 38/50\n",
            "64824/64824 [==============================] - 9s 135us/step - loss: 1.7789 - accuracy: 0.3012 - val_loss: 1.7505 - val_accuracy: 0.3069\n",
            "Epoch 39/50\n",
            "64824/64824 [==============================] - 9s 135us/step - loss: 1.7780 - accuracy: 0.3012 - val_loss: 1.7511 - val_accuracy: 0.3074\n",
            "Epoch 40/50\n",
            "64824/64824 [==============================] - 9s 136us/step - loss: 1.7751 - accuracy: 0.3019 - val_loss: 1.7524 - val_accuracy: 0.3040\n",
            "Epoch 41/50\n",
            "64824/64824 [==============================] - 9s 137us/step - loss: 1.7764 - accuracy: 0.3010 - val_loss: 1.7456 - val_accuracy: 0.3062\n",
            "Epoch 42/50\n",
            "64824/64824 [==============================] - 9s 137us/step - loss: 1.7778 - accuracy: 0.3024 - val_loss: 1.7480 - val_accuracy: 0.3077\n",
            "Epoch 43/50\n",
            "64824/64824 [==============================] - 9s 138us/step - loss: 1.7744 - accuracy: 0.3007 - val_loss: 1.7504 - val_accuracy: 0.3045\n",
            "Epoch 44/50\n",
            "64824/64824 [==============================] - 9s 136us/step - loss: 1.7745 - accuracy: 0.2993 - val_loss: 1.7519 - val_accuracy: 0.3049\n",
            "Epoch 45/50\n",
            "64824/64824 [==============================] - 9s 136us/step - loss: 1.7775 - accuracy: 0.2987 - val_loss: 1.7498 - val_accuracy: 0.3042\n",
            "Epoch 46/50\n",
            "64824/64824 [==============================] - 9s 136us/step - loss: 1.7726 - accuracy: 0.3019 - val_loss: 1.7478 - val_accuracy: 0.3053\n",
            "Epoch 47/50\n",
            "64824/64824 [==============================] - 9s 137us/step - loss: 1.7761 - accuracy: 0.2999 - val_loss: 1.7514 - val_accuracy: 0.3017\n",
            "Epoch 48/50\n",
            "64824/64824 [==============================] - 9s 137us/step - loss: 1.7686 - accuracy: 0.2985 - val_loss: 1.7562 - val_accuracy: 0.2986\n",
            "Epoch 49/50\n",
            "64824/64824 [==============================] - 9s 138us/step - loss: 1.7756 - accuracy: 0.3002 - val_loss: 1.7586 - val_accuracy: 0.3012\n",
            "Epoch 50/50\n",
            "64824/64824 [==============================] - 9s 137us/step - loss: 1.7706 - accuracy: 0.3016 - val_loss: 1.7477 - val_accuracy: 0.3025\n"
          ],
          "name": "stdout"
        },
        {
          "output_type": "execute_result",
          "data": {
            "text/plain": [
              "<keras.callbacks.callbacks.History at 0x7fde9c547f98>"
            ]
          },
          "metadata": {
            "tags": []
          },
          "execution_count": 46
        }
      ]
    },
    {
      "cell_type": "code",
      "metadata": {
        "id": "FIKS2-91R_VZ",
        "colab_type": "code",
        "colab": {
          "base_uri": "https://localhost:8080/",
          "height": 87
        },
        "outputId": "542b7dec-dc98-4c79-8e6b-6d3c7632dd20"
      },
      "source": [
        "batch_size=1000\n",
        "score = model.evaluate(xTest, yTest_ohe, verbose=0, batch_size=batch_size)\n",
        "print (score)   #结果是 1.9665707177208425，不是100%下的结果，这个结果应该是默认的loss\n",
        "print (score[1])  #报错 'float' object is not subscriptable\n",
        "print ('loss： %.4lf' % score[0])\n",
        "print('accuracy: ', score[1])"
      ],
      "execution_count": 47,
      "outputs": [
        {
          "output_type": "stream",
          "text": [
            "[1.7418596819125913, 0.30427002906799316]\n",
            "0.30427002906799316\n",
            "loss： 1.7419\n",
            "accuracy:  0.30427002906799316\n"
          ],
          "name": "stdout"
        }
      ]
    },
    {
      "cell_type": "code",
      "metadata": {
        "id": "Q7FV6B6CegmR",
        "colab_type": "code",
        "colab": {
          "base_uri": "https://localhost:8080/",
          "height": 645
        },
        "outputId": "ddcd0e9e-513e-4c44-9860-7c636e835164"
      },
      "source": [
        "\n",
        "\"\"\"###Evaluate Test set\"\"\"\n",
        "\n",
        "\n",
        "filepath = \"VT_CNN2.hdf5\"\n",
        "model.save(filepath)\n",
        "\n",
        "SNR = np.unique(labels[:,1])\n",
        "SNR = list(map(int, SNR))\n",
        "SNR.sort()\n",
        "SNR = list(map(str, SNR))\n",
        "\n",
        "from keras.models import load_model\n",
        "saved_model = load_model('VT_CNN2.hdf5')\n",
        "\n",
        "yTest_SNR_str = []\n",
        "for i in yTest_SNR:\n",
        "  yTest_SNR_str.append(str(i).split('\\'')[1])\n",
        "\n",
        "accuracy = []\n",
        "\n",
        "for s in SNR:\n",
        "    SNR_index = []\n",
        "    SNR_Y = []\n",
        "    SNR_X = []\n",
        "    for index in range(0,len(yTest_SNR_str)):\n",
        "        if s == yTest_SNR_str[index]:\n",
        "            SNR_index.append(index)\n",
        "            SNR_Y.append(yTest_ohe[index])\n",
        "            SNR_X.append(xTest[index])\n",
        "\n",
        "    y = np.array(SNR_Y)\n",
        "    # print(y)\n",
        "    x = np.array(SNR_X)\n",
        "    result = model.evaluate(x, y, verbose=2)\n",
        "    print('Accuracy for SNR = ', s, ' is ', result[1] * 100)\n",
        "    accuracy.append(result[1])\n",
        "\n",
        "import matplotlib.pyplot as plt\n",
        "plt.ylim(0, 1)\n",
        "plt.plot(SNR, accuracy)\n",
        "plt.title('VT_CNN2 Classification Accuracy RadioML 2016.04C')\n",
        "plt.xlabel('SNR\\dB')\n",
        "plt.ylabel('Accuracy')\n",
        "plt.show()\n",
        "\n",
        "\n",
        "# 曲线不合理：先降后升现象\n",
        "# 解决方法：多画几次\n"
      ],
      "execution_count": 48,
      "outputs": [
        {
          "output_type": "stream",
          "text": [
            "Accuracy for SNR =  -20  is  14.65517282485962\n",
            "Accuracy for SNR =  -18  is  15.956120193004608\n",
            "Accuracy for SNR =  -16  is  14.997495710849762\n",
            "Accuracy for SNR =  -14  is  14.909268915653229\n",
            "Accuracy for SNR =  -12  is  15.499146282672882\n",
            "Accuracy for SNR =  -10  is  15.814536809921265\n",
            "Accuracy for SNR =  -8  is  18.428781628608704\n",
            "Accuracy for SNR =  -6  is  24.40711408853531\n",
            "Accuracy for SNR =  -4  is  38.03513944149017\n",
            "Accuracy for SNR =  -2  is  40.476781129837036\n",
            "Accuracy for SNR =  0  is  40.31296670436859\n",
            "Accuracy for SNR =  2  is  38.766297698020935\n",
            "Accuracy for SNR =  4  is  39.26380276679993\n",
            "Accuracy for SNR =  6  is  38.943490386009216\n",
            "Accuracy for SNR =  8  is  39.15175199508667\n",
            "Accuracy for SNR =  10  is  39.57915902137756\n",
            "Accuracy for SNR =  12  is  39.21375870704651\n",
            "Accuracy for SNR =  14  is  39.945852756500244\n",
            "Accuracy for SNR =  16  is  40.004804730415344\n",
            "Accuracy for SNR =  18  is  39.8723304271698\n"
          ],
          "name": "stdout"
        },
        {
          "output_type": "display_data",
          "data": {
            "image/png": "[encoded data removed]",
            "text/plain": [
              "<Figure size 432x288 with 1 Axes>"
            ]
          },
          "metadata": {
            "tags": [],
            "needs_background": "light"
          }
        }
      ]
    },
    {
      "cell_type": "code",
      "metadata": {
        "id": "_jw1ikrsf1XY",
        "colab_type": "code",
        "colab": {}
      },
      "source": [
        "os.environ[\"KERAS_BACKEND\"] = \"theano\"\n",
        "import theano as th\n",
        "import theano.tensor as T\n",
        "\n",
        "import keras.models as models\n",
        "from keras.layers.core import Reshape,Dense,Dropout,Activation,Flatten\n",
        "from keras.layers.noise import GaussianNoise\n",
        "from keras.layers.convolutional import Convolution2D, MaxPooling2D, ZeroPadding2D\n",
        "from keras.regularizers import *\n",
        "from keras.optimizers import adam\n",
        "\n",
        "dr = 0.5 # dropout rate (%)\n",
        "model = models.Sequential()\n",
        "# # model.add(Reshape([1]+in_shp, input_shape=in_shp))\n",
        "# model.add(Reshape((1,2,128), input_shape=(2,128)))\n",
        "# model.add(ZeroPadding2D((0, 2)))\n",
        "# # model.add(Conv2D(filters=256, kernel_size=(1,3), data_format='channels_first', activation='relu', padding='valid'))  #module 'tensorflow._api.v2.config' has no attribute 'experimental_list_devices'\n",
        "# model.add(Conv2D(filters=256, kernel_size=(1,3), data_format='channels_first', activation='relu', padding='valid'))\n",
        "# model.add(Dropout(dr))\n",
        "# model.add(ZeroPadding2D((0, 2)))\n",
        "# model.add(Conv2D(filters=80, kernel_size=(2,3), data_format='channels_first', activation='relu', padding='valid'))\n",
        "# model.add(Dropout(dr))\n",
        "# model.add(Flatten())\n",
        "# model.add(Dense(256, activation='relu'))\n",
        "# model.add(Dropout(dr))\n",
        "# model.add(Dense( 11, activation='softmax' ))\n",
        "# model.add(Reshape(11))\n",
        "# model.compile(loss='categorical_crossentropy', optimizer='adam')\n",
        "# model.summary()\n",
        "# in_shp=[2,128]\n",
        "# model.add(Reshape([1]+in_shp, input_shape=in_shp))\n",
        "\n",
        "model.add(Reshape((1,2,128), input_shape=(2,128)))\n",
        "model.add(Conv2D(256,(1,3),activation='relu',padding='valid'))\n",
        "model.add(Dropout(dr))\n",
        "model.add(ZeroPadding2D((0, 2)))\n",
        "model.add(Conv2D(80,(2,3),activation='relu',padding='valid'))\n",
        "model.add(Dropout(dr))\n",
        "model.add(Flatten())\n",
        "model.add(Dense(11,activation='relu'))\n",
        "model.add(Dense(11,activation='softmax'))\n",
        "model.add(Reshape(11))\n",
        "model.compile(loss='categorical_crossentropy', optimizer='adam')\n",
        "model.summary()\n",
        "\n",
        "\n",
        "\n",
        "model.compile(loss='categorical_crossentropy', optimizer='adam')\n",
        "# model.summary()  This model has not yet been built. Build the model first by calling build() or calling fit() with some data. Or specify input_shape or batch_input_shape in the first layer for automatic build. \n",
        "model.bulit(input_shape)\n",
        "model.summary()"
      ],
      "execution_count": 0,
      "outputs": []
    },
    {
      "cell_type": "code",
      "metadata": {
        "id": "Qo-_6LyBeItF",
        "colab_type": "code",
        "colab": {}
      },
      "source": [
        "\"\"\"##Neural Networks\n",
        "###CNN:VT_CNN2\n",
        "\"\"\"\n",
        "# from keras.models import Sequential\n",
        "# from keras.layers import Conv1D, Conv2D, Flatten, Dense, Reshape\n",
        "# from keras import optimizers\n",
        "# import keras.models as models\n",
        "\n",
        "from keras.layers.core import Reshape,Dense,Dropout,Activation,Flatten\n",
        "from keras.layers.convolutional import Convolution2D,MaxPooling2D,ZeroPadding2D\n",
        "from keras.optimizers import adam\n",
        "\n",
        "dr = 0.5\n",
        "model = models.Sequential()\n",
        "# model.add(Reshape(1,2,128),input_shape=(2,128))\n",
        "model.add(Reshape((1,2,128), input_shape=(2,128)))\n",
        "model.add(ZeroPadding2D((0,2))) # 为什么加两个括号就不报错了\n",
        "# model.add(Convolution2D(256,1,3),border_mode='valid',activation='relu',name='conv1',init='glorot_uniform') # 后面这些项都算是con里面的吗\n",
        "model.add(Convolution2D(256, 1, 3, border_mode='valid', activation=\"relu\", name=\"conv1\", init='glorot_uniform'))\n",
        "model.add(Dropout(dr))\n",
        "# model.add(ZeroPadding2D(0,2))\n",
        "model.add(Convolution2D(80,2,3,border_mode='valid',activation='relu',name='conv2',init='glorot_uniform'))\n",
        "model.add(Dropout(dr))\n",
        "model.add(Flatten())\n",
        "model.add(Dense(256,activation='relu',init='he_normal',name='dense1'))\n",
        "model.add(Dropout(dr))\n",
        "# model.add(Dense(len(classes),init='he_normal',name=dense2''))\n",
        "model.add(Dense( 11, init='he_normal', name=\"dense2\" ))\n",
        "model.add(activation='softmax')\n",
        "# model.add(Reshape([len(classes)]))\n",
        "model.add(Reshape(11))\n",
        "model.compile(loss='categorial_crossentropy',optimize='adam')\n",
        "model.summary()\n",
        "\n",
        "from keras.callbacks import EarlyStopping, ModelCheckpoint\n",
        "\n",
        "es = EarlyStopping(monitor='val_acc', mode='max', verbose=1, patience=30)\n",
        "mc = ModelCheckpoint('best.hdf5weights.best2.hdf5', monitor='val_acc', mode='max', save_best_only=True, verbose=1)\n",
        "model.fit(xTrain, yTrain_ohe, validation_split=0.05, shuffle=True, batch_size=1000, epochs=10, verbose=1, callbacks=[es, mc])\n"
      ],
      "execution_count": 0,
      "outputs": []
    }
  ]
}