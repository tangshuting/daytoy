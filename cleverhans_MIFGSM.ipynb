{
  "nbformat": 4,
  "nbformat_minor": 0,
  "metadata": {
    "colab": {
      "name": "cleverhans_MIFGSM",
      "provenance": [],
      "collapsed_sections": [],
      "authorship_tag": "ABX9TyNeqZFcYOPRj39FoqI8vmKm",
      "include_colab_link": true
    },
    "kernelspec": {
      "name": "python3",
      "display_name": "Python 3"
    },
    "accelerator": "GPU"
  },
  "cells": [
    {
      "cell_type": "markdown",
      "metadata": {
        "id": "view-in-github",
        "colab_type": "text"
      },
      "source": [
        "<a href=\"https://colab.research.google.com/github/tangshuting/daytoy/blob/master/cleverhans_MIFGSM.ipynb\" target=\"_parent\"><img src=\"https://colab.research.google.com/assets/colab-badge.svg\" alt=\"Open In Colab\"/></a>"
      ]
    },
    {
      "cell_type": "code",
      "metadata": {
        "id": "9V1dQFUiYhL9",
        "colab_type": "code",
        "colab": {
          "base_uri": "https://localhost:8080/",
          "height": 573
        },
        "outputId": "ab36e0e2-ba20-4c8e-986c-1d33261a9956"
      },
      "source": [
        "pip install git+https://github.com/tensorflow/cleverhans.git#egg=cleverhans"
      ],
      "execution_count": null,
      "outputs": [
        {
          "output_type": "stream",
          "text": [
            "Collecting cleverhans\n",
            "  Cloning https://github.com/tensorflow/cleverhans.git to /tmp/pip-install-g7yyb2ao/cleverhans\n",
            "  Running command git clone -q https://github.com/tensorflow/cleverhans.git /tmp/pip-install-g7yyb2ao/cleverhans\n",
            "Collecting nose\n",
            "\u001b[?25l  Downloading https://files.pythonhosted.org/packages/15/d8/dd071918c040f50fa1cf80da16423af51ff8ce4a0f2399b7bf8de45ac3d9/nose-1.3.7-py3-none-any.whl (154kB)\n",
            "\u001b[K     |████████████████████████████████| 163kB 2.8MB/s \n",
            "\u001b[?25hCollecting pycodestyle\n",
            "\u001b[?25l  Downloading https://files.pythonhosted.org/packages/10/5b/88879fb861ab79aef45c7e199cae3ef7af487b5603dcb363517a50602dd7/pycodestyle-2.6.0-py2.py3-none-any.whl (41kB)\n",
            "\u001b[K     |████████████████████████████████| 51kB 5.8MB/s \n",
            "\u001b[?25hRequirement already satisfied: scipy in /usr/local/lib/python3.6/dist-packages (from cleverhans) (1.4.1)\n",
            "Requirement already satisfied: matplotlib in /usr/local/lib/python3.6/dist-packages (from cleverhans) (3.2.2)\n",
            "Collecting mnist~=0.2\n",
            "  Downloading https://files.pythonhosted.org/packages/c6/c4/5db3bfe009f8d71f1d532bbadbd0ec203764bba3a469e4703a889db8e5e0/mnist-0.2.2-py2.py3-none-any.whl\n",
            "Requirement already satisfied: numpy in /usr/local/lib/python3.6/dist-packages (from cleverhans) (1.18.5)\n",
            "Requirement already satisfied: tensorflow-probability in /usr/local/lib/python3.6/dist-packages (from cleverhans) (0.10.0)\n",
            "Requirement already satisfied: joblib in /usr/local/lib/python3.6/dist-packages (from cleverhans) (0.16.0)\n",
            "Requirement already satisfied: python-dateutil>=2.1 in /usr/local/lib/python3.6/dist-packages (from matplotlib->cleverhans) (2.8.1)\n",
            "Requirement already satisfied: pyparsing!=2.0.4,!=2.1.2,!=2.1.6,>=2.0.1 in /usr/local/lib/python3.6/dist-packages (from matplotlib->cleverhans) (2.4.7)\n",
            "Requirement already satisfied: cycler>=0.10 in /usr/local/lib/python3.6/dist-packages (from matplotlib->cleverhans) (0.10.0)\n",
            "Requirement already satisfied: kiwisolver>=1.0.1 in /usr/local/lib/python3.6/dist-packages (from matplotlib->cleverhans) (1.2.0)\n",
            "Requirement already satisfied: decorator in /usr/local/lib/python3.6/dist-packages (from tensorflow-probability->cleverhans) (4.4.2)\n",
            "Requirement already satisfied: gast>=0.3.2 in /usr/local/lib/python3.6/dist-packages (from tensorflow-probability->cleverhans) (0.3.3)\n",
            "Requirement already satisfied: cloudpickle>=1.2.2 in /usr/local/lib/python3.6/dist-packages (from tensorflow-probability->cleverhans) (1.3.0)\n",
            "Requirement already satisfied: six>=1.10.0 in /usr/local/lib/python3.6/dist-packages (from tensorflow-probability->cleverhans) (1.15.0)\n",
            "Building wheels for collected packages: cleverhans\n",
            "  Building wheel for cleverhans (setup.py) ... \u001b[?25l\u001b[?25hdone\n",
            "  Created wheel for cleverhans: filename=cleverhans-3.0.1-cp36-none-any.whl size=262573 sha256=14e1c0adb134e4b03719fd08ad83943a63f4ed235068c596b530389e74d6f719\n",
            "  Stored in directory: /tmp/pip-ephem-wheel-cache-vyf2ce3u/wheels/6e/59/ec/723a6f654aaf62c8c40f0f0850fdf71a4948598697f56c3bfa\n",
            "Successfully built cleverhans\n",
            "Installing collected packages: nose, pycodestyle, mnist, cleverhans\n",
            "Successfully installed cleverhans-3.0.1 mnist-0.2.2 nose-1.3.7 pycodestyle-2.6.0\n"
          ],
          "name": "stdout"
        }
      ]
    },
    {
      "cell_type": "code",
      "metadata": {
        "id": "FyIGjgRFYqUZ",
        "colab_type": "code",
        "colab": {}
      },
      "source": [
        "import cleverhans\n",
        "import tensorflow as tf\n",
        "import numpy as np\n",
        "import matplotlib.pyplot as plt"
      ],
      "execution_count": null,
      "outputs": []
    },
    {
      "cell_type": "code",
      "metadata": {
        "id": "YUyEudMMYqv0",
        "colab_type": "code",
        "colab": {
          "base_uri": "https://localhost:8080/",
          "height": 331
        },
        "outputId": "f272e743-7c2c-45ef-8407-6c0d7ac7adaa"
      },
      "source": [
        "import pickle\n",
        "from google.colab import drive\n",
        "drive.mount('/content/drive')\n",
        "f = open(r'/content/drive/My Drive/EMW/2016.04C.multisnr.pkl','rb') #open的参数是pkl文件的路径\n",
        "Xd = pickle.load(f,encoding='bytes')\n",
        "print(type(Xd))   # dict\n",
        "print(len(Xd))  #220=11（类别）×20（20个snr）\n",
        "snrs,mods = map(lambda j: sorted(list(set(map(lambda x: x[j], Xd.keys())))), [1,0])  # set()创建一个无序的不重复元素序列\n",
        "X = []\n",
        "lbl = []\n",
        "for mod in mods:\n",
        "    for snr in snrs:\n",
        "        X.append(Xd[(mod,snr)])\n",
        "        for i in range(Xd[(mod,snr)].shape[0]):  lbl.append((mod,snr)) # append末尾添加对象\n",
        "X = np.vstack(X)\n",
        "\n",
        "np.random.seed(2016)\n",
        "n_examples = X.shape[0]  # int 162060\n",
        "n_train = n_examples * 0.5\n",
        "train_idx = np.random.choice(range(0,n_examples), size= int(n_train), replace=False)  # ndarray with shape (81030,)\n",
        "test_idx = list(set(range(0,n_examples))-set(train_idx))   # list (81030 items total)\n",
        "\n",
        "X_train = X[train_idx]  # ndarray with shape (81030, 2, 128)\n",
        "X_test =  X[test_idx]   # 同上\n",
        "print(X_train.shape)\n",
        "\n",
        "# print(lbl.shape) # AttributeError: 'list' object has no attribute 'shape' 解决办法是使用vstack函数\n",
        "lbl_no = np.vstack(lbl)  # 这一步骤没必要，因为可以直接使用lbl去取出来调制方式\n",
        "print(lbl_no)  # ndarray with shape (162060, 2)  [b'8PSK' b'-20']\n",
        "\n",
        "lbl_mods = lbl_no[0]\n",
        "print(lbl_mods)\n",
        "\n",
        "Y_train_no = list(map(lambda x: mods.index(lbl[x][0]), train_idx))  # 显示的是1-11数字表示调制方式list (81030 items total)\n",
        "print(Y_train_no[1])\n",
        "Y_train_no = np.vstack(Y_train_no)  # # ndarray with shape (81030, 1)\n",
        "\n",
        "Y_test_no = list(map(lambda x: mods.index(lbl[x][0]), test_idx))  \n",
        "Y_test_no = np.vstack(Y_test_no) \n"
      ],
      "execution_count": null,
      "outputs": [
        {
          "output_type": "stream",
          "text": [
            "Go to this URL in a browser: https://accounts.google.com/o/oauth2/auth?client_id=947318989803-6bn6qk8qdgf4n4g3pfee6491hc0brc4i.apps.googleusercontent.com&redirect_uri=urn%3aietf%3awg%3aoauth%3a2.0%3aoob&response_type=code&scope=email%20https%3a%2f%2fwww.googleapis.com%2fauth%2fdocs.test%20https%3a%2f%2fwww.googleapis.com%2fauth%2fdrive%20https%3a%2f%2fwww.googleapis.com%2fauth%2fdrive.photos.readonly%20https%3a%2f%2fwww.googleapis.com%2fauth%2fpeopleapi.readonly\n",
            "\n",
            "Enter your authorization code:\n",
            "··········\n",
            "Mounted at /content/drive\n",
            "<class 'dict'>\n",
            "220\n",
            "(81030, 2, 128)\n",
            "[[b'8PSK' b'-20']\n",
            " [b'8PSK' b'-20']\n",
            " [b'8PSK' b'-20']\n",
            " ...\n",
            " [b'WBFM' b'18']\n",
            " [b'WBFM' b'18']\n",
            " [b'WBFM' b'18']]\n",
            "[b'8PSK' b'-20']\n",
            "10\n"
          ],
          "name": "stdout"
        }
      ]
    },
    {
      "cell_type": "code",
      "metadata": {
        "id": "fMqApuVVbnRi",
        "colab_type": "code",
        "colab": {
          "base_uri": "https://localhost:8080/",
          "height": 155
        },
        "outputId": "54bacaba-df58-479c-9455-fbc9956b19d4"
      },
      "source": [
        "Y_train_mod = lbl_no[:,0]\n",
        "Y_train_mod_vsatck = np.vstack(Y_train_mod)  # 字幕显示调制方式\n",
        "print(Y_train_mod_vsatck)\n",
        "\n",
        "Y_train_snrs = list(map(lambda x: snrs.index(lbl[x][1]), train_idx))\n",
        "# print(Y_train_snrs)\n",
        "Y_train_snrs = np.vstack(Y_train_snrs)  \n",
        "Y_test_snrs = list(map(lambda x: snrs.index(lbl[x][1]), test_idx))\n",
        "print(Y_test_snrs[1])\n",
        "Y_test_snrs = np.vstack(Y_test_snrs) "
      ],
      "execution_count": null,
      "outputs": [
        {
          "output_type": "stream",
          "text": [
            "[[b'8PSK']\n",
            " [b'8PSK']\n",
            " [b'8PSK']\n",
            " ...\n",
            " [b'WBFM']\n",
            " [b'WBFM']\n",
            " [b'WBFM']]\n",
            "5\n"
          ],
          "name": "stdout"
        }
      ]
    },
    {
      "cell_type": "code",
      "metadata": {
        "id": "bjTj1N3GYsIt",
        "colab_type": "code",
        "colab": {}
      },
      "source": [
        "def to_onehot(yy):\n",
        "    yy1 = np.zeros([len(yy), max(yy)+1])\n",
        "    yy1[np.arange(len(yy)),yy] = 1\n",
        "    return yy1\n",
        "Y_train = to_onehot(list(map(lambda x: mods.index(lbl[x][0]), train_idx)))\n",
        "Y_test = to_onehot(list(map(lambda x: mods.index(lbl[x][0]), test_idx)))  # ndarray with shape (81030, 11)"
      ],
      "execution_count": null,
      "outputs": []
    },
    {
      "cell_type": "code",
      "metadata": {
        "id": "ZcSYvD_bYttc",
        "colab_type": "code",
        "colab": {
          "base_uri": "https://localhost:8080/",
          "height": 35
        },
        "outputId": "5b50ac4a-0a8d-4cf1-df38-252e047b1e42"
      },
      "source": [
        "in_shp = list(X_train.shape[1:])   # list [2, 128]\n",
        "\n",
        "classes = mods  # list [b'8PSK', b'AM-DSB', b'AM-SSB', b'BPSK', b'CPFSK', b'GFSK', b'PAM4', b'QAM16', b'QAM64', b'QPSK', b'WBFM'] (11 items total)\n",
        "\n",
        "mods_str = []\n",
        "for i in mods:\n",
        "  mods_str.append(str(i).split('\\'')[1])\n",
        "print(mods_str)   # list ['8PSK', 'AM-DSB', 'AM-SSB', 'BPSK', 'CPFSK', 'GFSK', 'PAM4', 'QAM16', 'QAM64', 'QPSK', 'WBFM']\n",
        "# print(Y_train[1])  # [0. 0. 0. 0. 0. 0. 0. 0. 0. 0. 1.]\n",
        "# print(Y_train.shape)  # ndarray with shape (81030, 11)"
      ],
      "execution_count": null,
      "outputs": [
        {
          "output_type": "stream",
          "text": [
            "['8PSK', 'AM-DSB', 'AM-SSB', 'BPSK', 'CPFSK', 'GFSK', 'PAM4', 'QAM16', 'QAM64', 'QPSK', 'WBFM']\n"
          ],
          "name": "stdout"
        }
      ]
    },
    {
      "cell_type": "code",
      "metadata": {
        "id": "UzIQ17WuYvAH",
        "colab_type": "code",
        "colab": {
          "base_uri": "https://localhost:8080/",
          "height": 1000
        },
        "outputId": "cea017e5-f84b-43c5-985f-44ac9fdb3893"
      },
      "source": [
        "num_classes = 11\n",
        "\n",
        "model = tf.keras.Sequential([\n",
        "    tf.keras.layers.Dense(128, input_shape=in_shp),\n",
        "    tf.keras.layers.Flatten(),\n",
        "    tf.keras.layers.Dense(512,activation=tf.nn.relu),\n",
        "    tf.keras.layers.Dropout(0.2),\n",
        "    tf.keras.layers.Dense(135,activation=tf.nn.relu),\n",
        "    tf.keras.layers.Dense(11),\n",
        "    tf.keras.layers.Activation(tf.nn.softmax) # We seperate the activation layer to be able to access the logits of the previous layer later\n",
        "])\n",
        "\n",
        "model.compile(optimizer='adam',\n",
        "              loss= 'categorical_crossentropy',\n",
        "              metrics=['accuracy'])\n",
        "model.summary()\n",
        "\n",
        "nb_epoch = 100    # number of epochs to train on\n",
        "batch_size = 1024  # training batch size\n",
        "model.fit(X_train, Y_train, batch_size=batch_size, epochs=nb_epoch, verbose=2, validation_split=0.2)\n",
        "# model.fit(X_train, Y_train,  epochs=nb_epoch, verbose=2, validation_split=0.2)\n",
        "\n",
        "test_loss, test_acc = model.evaluate(X_test, Y_test)\n",
        "print('Test accuracy:', test_acc)"
      ],
      "execution_count": null,
      "outputs": [
        {
          "output_type": "stream",
          "text": [
            "Model: \"sequential\"\n",
            "_________________________________________________________________\n",
            "Layer (type)                 Output Shape              Param #   \n",
            "=================================================================\n",
            "dense (Dense)                (None, 2, 128)            16512     \n",
            "_________________________________________________________________\n",
            "flatten (Flatten)            (None, 256)               0         \n",
            "_________________________________________________________________\n",
            "dense_1 (Dense)              (None, 512)               131584    \n",
            "_________________________________________________________________\n",
            "dropout (Dropout)            (None, 512)               0         \n",
            "_________________________________________________________________\n",
            "dense_2 (Dense)              (None, 135)               69255     \n",
            "_________________________________________________________________\n",
            "dense_3 (Dense)              (None, 11)                1496      \n",
            "_________________________________________________________________\n",
            "activation (Activation)      (None, 11)                0         \n",
            "=================================================================\n",
            "Total params: 218,847\n",
            "Trainable params: 218,847\n",
            "Non-trainable params: 0\n",
            "_________________________________________________________________\n",
            "Epoch 1/100\n",
            "64/64 - 1s - loss: 4.2678 - accuracy: 0.1686 - val_loss: 2.2602 - val_accuracy: 0.1899\n",
            "Epoch 2/100\n",
            "64/64 - 0s - loss: 2.2416 - accuracy: 0.1949 - val_loss: 2.2033 - val_accuracy: 0.1931\n",
            "Epoch 3/100\n",
            "64/64 - 1s - loss: 2.1908 - accuracy: 0.1987 - val_loss: 2.1634 - val_accuracy: 0.1948\n",
            "Epoch 4/100\n",
            "64/64 - 1s - loss: 2.1473 - accuracy: 0.2317 - val_loss: 2.1196 - val_accuracy: 0.2766\n",
            "Epoch 5/100\n",
            "64/64 - 1s - loss: 2.0949 - accuracy: 0.2861 - val_loss: 2.0541 - val_accuracy: 0.3117\n",
            "Epoch 6/100\n",
            "64/64 - 0s - loss: 2.0074 - accuracy: 0.2995 - val_loss: 1.9489 - val_accuracy: 0.3188\n",
            "Epoch 7/100\n",
            "64/64 - 1s - loss: 1.8917 - accuracy: 0.3261 - val_loss: 1.8255 - val_accuracy: 0.3526\n",
            "Epoch 8/100\n",
            "64/64 - 1s - loss: 1.7741 - accuracy: 0.3571 - val_loss: 1.7214 - val_accuracy: 0.3737\n",
            "Epoch 9/100\n",
            "64/64 - 0s - loss: 1.6822 - accuracy: 0.3797 - val_loss: 1.6464 - val_accuracy: 0.3962\n",
            "Epoch 10/100\n",
            "64/64 - 0s - loss: 1.6099 - accuracy: 0.4045 - val_loss: 1.5637 - val_accuracy: 0.4253\n",
            "Epoch 11/100\n",
            "64/64 - 1s - loss: 1.5161 - accuracy: 0.4379 - val_loss: 1.4341 - val_accuracy: 0.4683\n",
            "Epoch 12/100\n",
            "64/64 - 0s - loss: 1.4167 - accuracy: 0.4737 - val_loss: 1.3649 - val_accuracy: 0.4876\n",
            "Epoch 13/100\n",
            "64/64 - 0s - loss: 1.3479 - accuracy: 0.4934 - val_loss: 1.3175 - val_accuracy: 0.5033\n",
            "Epoch 14/100\n",
            "64/64 - 0s - loss: 1.3062 - accuracy: 0.5087 - val_loss: 1.2842 - val_accuracy: 0.5122\n",
            "Epoch 15/100\n",
            "64/64 - 1s - loss: 1.2691 - accuracy: 0.5186 - val_loss: 1.2582 - val_accuracy: 0.5209\n",
            "Epoch 16/100\n",
            "64/64 - 1s - loss: 1.2402 - accuracy: 0.5309 - val_loss: 1.2396 - val_accuracy: 0.5263\n",
            "Epoch 17/100\n",
            "64/64 - 1s - loss: 1.2123 - accuracy: 0.5379 - val_loss: 1.2312 - val_accuracy: 0.5321\n",
            "Epoch 18/100\n",
            "64/64 - 1s - loss: 1.1931 - accuracy: 0.5475 - val_loss: 1.2089 - val_accuracy: 0.5370\n",
            "Epoch 19/100\n",
            "64/64 - 1s - loss: 1.1708 - accuracy: 0.5541 - val_loss: 1.1894 - val_accuracy: 0.5453\n",
            "Epoch 20/100\n",
            "64/64 - 1s - loss: 1.1516 - accuracy: 0.5636 - val_loss: 1.1787 - val_accuracy: 0.5509\n",
            "Epoch 21/100\n",
            "64/64 - 1s - loss: 1.1339 - accuracy: 0.5711 - val_loss: 1.1666 - val_accuracy: 0.5620\n",
            "Epoch 22/100\n",
            "64/64 - 1s - loss: 1.1204 - accuracy: 0.5762 - val_loss: 1.1588 - val_accuracy: 0.5596\n",
            "Epoch 23/100\n",
            "64/64 - 0s - loss: 1.1060 - accuracy: 0.5818 - val_loss: 1.1526 - val_accuracy: 0.5664\n",
            "Epoch 24/100\n",
            "64/64 - 1s - loss: 1.1020 - accuracy: 0.5867 - val_loss: 1.1482 - val_accuracy: 0.5650\n",
            "Epoch 25/100\n",
            "64/64 - 1s - loss: 1.0762 - accuracy: 0.5952 - val_loss: 1.1376 - val_accuracy: 0.5745\n",
            "Epoch 26/100\n",
            "64/64 - 1s - loss: 1.0625 - accuracy: 0.6012 - val_loss: 1.1231 - val_accuracy: 0.5770\n",
            "Epoch 27/100\n",
            "64/64 - 1s - loss: 1.0432 - accuracy: 0.6086 - val_loss: 1.1114 - val_accuracy: 0.5834\n",
            "Epoch 28/100\n",
            "64/64 - 1s - loss: 1.0255 - accuracy: 0.6161 - val_loss: 1.1038 - val_accuracy: 0.5926\n",
            "Epoch 29/100\n",
            "64/64 - 1s - loss: 1.0145 - accuracy: 0.6186 - val_loss: 1.0983 - val_accuracy: 0.5884\n",
            "Epoch 30/100\n",
            "64/64 - 0s - loss: 1.0056 - accuracy: 0.6223 - val_loss: 1.0843 - val_accuracy: 0.5959\n",
            "Epoch 31/100\n",
            "64/64 - 1s - loss: 0.9873 - accuracy: 0.6284 - val_loss: 1.0778 - val_accuracy: 0.5984\n",
            "Epoch 32/100\n",
            "64/64 - 0s - loss: 0.9766 - accuracy: 0.6308 - val_loss: 1.0695 - val_accuracy: 0.5974\n",
            "Epoch 33/100\n",
            "64/64 - 1s - loss: 0.9668 - accuracy: 0.6354 - val_loss: 1.0758 - val_accuracy: 0.6045\n",
            "Epoch 34/100\n",
            "64/64 - 0s - loss: 0.9555 - accuracy: 0.6380 - val_loss: 1.0709 - val_accuracy: 0.5960\n",
            "Epoch 35/100\n",
            "64/64 - 0s - loss: 0.9595 - accuracy: 0.6370 - val_loss: 1.0645 - val_accuracy: 0.6014\n",
            "Epoch 36/100\n",
            "64/64 - 0s - loss: 0.9430 - accuracy: 0.6434 - val_loss: 1.0578 - val_accuracy: 0.6030\n",
            "Epoch 37/100\n",
            "64/64 - 1s - loss: 0.9357 - accuracy: 0.6474 - val_loss: 1.0615 - val_accuracy: 0.6028\n",
            "Epoch 38/100\n",
            "64/64 - 1s - loss: 0.9230 - accuracy: 0.6493 - val_loss: 1.0522 - val_accuracy: 0.6081\n",
            "Epoch 39/100\n",
            "64/64 - 0s - loss: 0.9188 - accuracy: 0.6520 - val_loss: 1.0467 - val_accuracy: 0.6129\n",
            "Epoch 40/100\n",
            "64/64 - 1s - loss: 0.9153 - accuracy: 0.6531 - val_loss: 1.0450 - val_accuracy: 0.6083\n",
            "Epoch 41/100\n",
            "64/64 - 1s - loss: 0.9050 - accuracy: 0.6582 - val_loss: 1.0563 - val_accuracy: 0.6087\n",
            "Epoch 42/100\n",
            "64/64 - 1s - loss: 0.8980 - accuracy: 0.6610 - val_loss: 1.0445 - val_accuracy: 0.6119\n",
            "Epoch 43/100\n",
            "64/64 - 1s - loss: 0.9003 - accuracy: 0.6603 - val_loss: 1.0439 - val_accuracy: 0.6129\n",
            "Epoch 44/100\n",
            "64/64 - 1s - loss: 0.8931 - accuracy: 0.6627 - val_loss: 1.0487 - val_accuracy: 0.6127\n",
            "Epoch 45/100\n",
            "64/64 - 1s - loss: 0.8852 - accuracy: 0.6661 - val_loss: 1.0470 - val_accuracy: 0.6126\n",
            "Epoch 46/100\n",
            "64/64 - 1s - loss: 0.8794 - accuracy: 0.6667 - val_loss: 1.0449 - val_accuracy: 0.6137\n",
            "Epoch 47/100\n",
            "64/64 - 1s - loss: 0.8778 - accuracy: 0.6689 - val_loss: 1.0520 - val_accuracy: 0.6161\n",
            "Epoch 48/100\n",
            "64/64 - 1s - loss: 0.8687 - accuracy: 0.6707 - val_loss: 1.0529 - val_accuracy: 0.6154\n",
            "Epoch 49/100\n",
            "64/64 - 1s - loss: 0.8705 - accuracy: 0.6715 - val_loss: 1.0387 - val_accuracy: 0.6169\n",
            "Epoch 50/100\n",
            "64/64 - 1s - loss: 0.8633 - accuracy: 0.6733 - val_loss: 1.0510 - val_accuracy: 0.6182\n",
            "Epoch 51/100\n",
            "64/64 - 1s - loss: 0.8535 - accuracy: 0.6763 - val_loss: 1.0399 - val_accuracy: 0.6169\n",
            "Epoch 52/100\n",
            "64/64 - 1s - loss: 0.8498 - accuracy: 0.6789 - val_loss: 1.0525 - val_accuracy: 0.6150\n",
            "Epoch 53/100\n",
            "64/64 - 1s - loss: 0.8456 - accuracy: 0.6801 - val_loss: 1.0492 - val_accuracy: 0.6161\n",
            "Epoch 54/100\n",
            "64/64 - 1s - loss: 0.8415 - accuracy: 0.6805 - val_loss: 1.0509 - val_accuracy: 0.6193\n",
            "Epoch 55/100\n",
            "64/64 - 1s - loss: 0.8433 - accuracy: 0.6819 - val_loss: 1.0537 - val_accuracy: 0.6169\n",
            "Epoch 56/100\n",
            "64/64 - 1s - loss: 0.8413 - accuracy: 0.6823 - val_loss: 1.0491 - val_accuracy: 0.6180\n",
            "Epoch 57/100\n",
            "64/64 - 1s - loss: 0.8367 - accuracy: 0.6855 - val_loss: 1.0542 - val_accuracy: 0.6162\n",
            "Epoch 58/100\n",
            "64/64 - 1s - loss: 0.8329 - accuracy: 0.6837 - val_loss: 1.0563 - val_accuracy: 0.6163\n",
            "Epoch 59/100\n",
            "64/64 - 0s - loss: 0.8208 - accuracy: 0.6893 - val_loss: 1.0492 - val_accuracy: 0.6205\n",
            "Epoch 60/100\n",
            "64/64 - 0s - loss: 0.8248 - accuracy: 0.6895 - val_loss: 1.0818 - val_accuracy: 0.6103\n",
            "Epoch 61/100\n",
            "64/64 - 1s - loss: 0.8314 - accuracy: 0.6868 - val_loss: 1.0504 - val_accuracy: 0.6187\n",
            "Epoch 62/100\n",
            "64/64 - 0s - loss: 0.8227 - accuracy: 0.6914 - val_loss: 1.0594 - val_accuracy: 0.6184\n",
            "Epoch 63/100\n",
            "64/64 - 1s - loss: 0.8136 - accuracy: 0.6924 - val_loss: 1.0577 - val_accuracy: 0.6194\n",
            "Epoch 64/100\n",
            "64/64 - 1s - loss: 0.8053 - accuracy: 0.6957 - val_loss: 1.0610 - val_accuracy: 0.6201\n",
            "Epoch 65/100\n",
            "64/64 - 1s - loss: 0.8102 - accuracy: 0.6949 - val_loss: 1.0602 - val_accuracy: 0.6221\n",
            "Epoch 66/100\n",
            "64/64 - 1s - loss: 0.8039 - accuracy: 0.6974 - val_loss: 1.0702 - val_accuracy: 0.6150\n",
            "Epoch 67/100\n",
            "64/64 - 1s - loss: 0.8049 - accuracy: 0.6946 - val_loss: 1.0775 - val_accuracy: 0.6179\n",
            "Epoch 68/100\n",
            "64/64 - 0s - loss: 0.7979 - accuracy: 0.6988 - val_loss: 1.0659 - val_accuracy: 0.6140\n",
            "Epoch 69/100\n",
            "64/64 - 1s - loss: 0.7969 - accuracy: 0.6995 - val_loss: 1.0754 - val_accuracy: 0.6213\n",
            "Epoch 70/100\n",
            "64/64 - 1s - loss: 0.7963 - accuracy: 0.7003 - val_loss: 1.0765 - val_accuracy: 0.6175\n",
            "Epoch 71/100\n",
            "64/64 - 0s - loss: 0.8036 - accuracy: 0.6988 - val_loss: 1.0841 - val_accuracy: 0.6188\n",
            "Epoch 72/100\n",
            "64/64 - 1s - loss: 0.7895 - accuracy: 0.7015 - val_loss: 1.0897 - val_accuracy: 0.6217\n",
            "Epoch 73/100\n",
            "64/64 - 1s - loss: 0.7863 - accuracy: 0.7036 - val_loss: 1.0893 - val_accuracy: 0.6215\n",
            "Epoch 74/100\n",
            "64/64 - 0s - loss: 0.7829 - accuracy: 0.7050 - val_loss: 1.1021 - val_accuracy: 0.6194\n",
            "Epoch 75/100\n",
            "64/64 - 0s - loss: 0.7819 - accuracy: 0.7062 - val_loss: 1.0858 - val_accuracy: 0.6191\n",
            "Epoch 76/100\n",
            "64/64 - 1s - loss: 0.7792 - accuracy: 0.7064 - val_loss: 1.0909 - val_accuracy: 0.6204\n",
            "Epoch 77/100\n",
            "64/64 - 1s - loss: 0.7718 - accuracy: 0.7079 - val_loss: 1.0923 - val_accuracy: 0.6217\n",
            "Epoch 78/100\n",
            "64/64 - 1s - loss: 0.7776 - accuracy: 0.7084 - val_loss: 1.1009 - val_accuracy: 0.6201\n",
            "Epoch 79/100\n",
            "64/64 - 0s - loss: 0.7621 - accuracy: 0.7133 - val_loss: 1.0930 - val_accuracy: 0.6232\n",
            "Epoch 80/100\n",
            "64/64 - 1s - loss: 0.7625 - accuracy: 0.7142 - val_loss: 1.1074 - val_accuracy: 0.6189\n",
            "Epoch 81/100\n",
            "64/64 - 0s - loss: 0.7669 - accuracy: 0.7123 - val_loss: 1.1073 - val_accuracy: 0.6211\n",
            "Epoch 82/100\n",
            "64/64 - 1s - loss: 0.7638 - accuracy: 0.7140 - val_loss: 1.1031 - val_accuracy: 0.6195\n",
            "Epoch 83/100\n",
            "64/64 - 0s - loss: 0.7646 - accuracy: 0.7133 - val_loss: 1.1027 - val_accuracy: 0.6175\n",
            "Epoch 84/100\n",
            "64/64 - 1s - loss: 0.7619 - accuracy: 0.7123 - val_loss: 1.0994 - val_accuracy: 0.6219\n",
            "Epoch 85/100\n",
            "64/64 - 0s - loss: 0.7596 - accuracy: 0.7145 - val_loss: 1.0954 - val_accuracy: 0.6129\n",
            "Epoch 86/100\n",
            "64/64 - 1s - loss: 0.7578 - accuracy: 0.7150 - val_loss: 1.0984 - val_accuracy: 0.6210\n",
            "Epoch 87/100\n",
            "64/64 - 0s - loss: 0.7634 - accuracy: 0.7141 - val_loss: 1.1089 - val_accuracy: 0.6227\n",
            "Epoch 88/100\n",
            "64/64 - 1s - loss: 0.7530 - accuracy: 0.7172 - val_loss: 1.1151 - val_accuracy: 0.6188\n",
            "Epoch 89/100\n",
            "64/64 - 0s - loss: 0.7644 - accuracy: 0.7149 - val_loss: 1.1054 - val_accuracy: 0.6140\n",
            "Epoch 90/100\n",
            "64/64 - 1s - loss: 0.7575 - accuracy: 0.7179 - val_loss: 1.1203 - val_accuracy: 0.6193\n",
            "Epoch 91/100\n",
            "64/64 - 0s - loss: 0.7466 - accuracy: 0.7213 - val_loss: 1.1251 - val_accuracy: 0.6209\n",
            "Epoch 92/100\n",
            "64/64 - 1s - loss: 0.7391 - accuracy: 0.7217 - val_loss: 1.1174 - val_accuracy: 0.6242\n",
            "Epoch 93/100\n",
            "64/64 - 0s - loss: 0.7396 - accuracy: 0.7231 - val_loss: 1.1303 - val_accuracy: 0.6151\n",
            "Epoch 94/100\n",
            "64/64 - 0s - loss: 0.7379 - accuracy: 0.7239 - val_loss: 1.1276 - val_accuracy: 0.6222\n",
            "Epoch 95/100\n",
            "64/64 - 0s - loss: 0.7333 - accuracy: 0.7233 - val_loss: 1.1255 - val_accuracy: 0.6224\n",
            "Epoch 96/100\n",
            "64/64 - 1s - loss: 0.7406 - accuracy: 0.7247 - val_loss: 1.1314 - val_accuracy: 0.6207\n",
            "Epoch 97/100\n",
            "64/64 - 0s - loss: 0.7336 - accuracy: 0.7263 - val_loss: 1.1278 - val_accuracy: 0.6221\n",
            "Epoch 98/100\n",
            "64/64 - 1s - loss: 0.7317 - accuracy: 0.7264 - val_loss: 1.1171 - val_accuracy: 0.6185\n",
            "Epoch 99/100\n",
            "64/64 - 0s - loss: 0.7267 - accuracy: 0.7293 - val_loss: 1.1252 - val_accuracy: 0.6246\n",
            "Epoch 100/100\n",
            "64/64 - 1s - loss: 0.7244 - accuracy: 0.7289 - val_loss: 1.1315 - val_accuracy: 0.6221\n",
            "2533/2533 [==============================] - 9s 4ms/step - loss: 1.1372 - accuracy: 0.6215\n",
            "Test accuracy: 0.6215475797653198\n"
          ],
          "name": "stdout"
        }
      ]
    },
    {
      "cell_type": "code",
      "metadata": {
        "id": "TpKYq41XYwck",
        "colab_type": "code",
        "colab": {}
      },
      "source": [
        "# Import the attack\n",
        "from cleverhans.future.tf2.attacks import momentum_iterative_method\n",
        "\n",
        "#The attack requires the model to ouput the logits\n",
        "logits_model = tf.keras.Model(model.input,model.layers[-1].output)"
      ],
      "execution_count": null,
      "outputs": []
    },
    {
      "cell_type": "code",
      "metadata": {
        "id": "gX-T339EcNiM",
        "colab_type": "code",
        "colab": {
          "base_uri": "https://localhost:8080/",
          "height": 34
        },
        "outputId": "2dda6d80-51e4-4633-93c6-0e83dc5b6b86"
      },
      "source": [
        "random_index = 3\n",
        "print(Y_test[random_index],Y_test_no[random_index],Y_test_snrs[random_index])"
      ],
      "execution_count": null,
      "outputs": [
        {
          "output_type": "stream",
          "text": [
            "[0. 0. 0. 0. 0. 0. 0. 0. 1. 0. 0.] [8] [5]\n"
          ],
          "name": "stdout"
        }
      ]
    },
    {
      "cell_type": "code",
      "metadata": {
        "id": "kAM9TtAGOKw6",
        "colab_type": "code",
        "colab": {}
      },
      "source": [
        "# 现在是随机选择一个无线电信号，后面重新固定SNR和调制方式进行选择\n",
        "# random_index = np.random.randint(X_test.shape[0])\n",
        "# print(lbl_no[random_index])\n",
        "\n",
        "original_image = X_test[random_index] # EagerTensor with shape (1, 2, 128)\n",
        "original_image = tf.convert_to_tensor(original_image.reshape((1,2,128))) #The .reshape just gives it the proper form to input into the model, a batch of 1 a.k.a a tensor\n",
        "\n",
        "original_label = Y_test_no[random_index]\n",
        "original_label = np.reshape(original_label, (1,)).astype('int64')"
      ],
      "execution_count": null,
      "outputs": []
    },
    {
      "cell_type": "code",
      "metadata": {
        "id": "2P0pyYvtN3Oe",
        "colab_type": "code",
        "colab": {
          "base_uri": "https://localhost:8080/",
          "height": 102
        },
        "outputId": "31e28c52-6785-471b-a6cc-d01f0b9861a5"
      },
      "source": [
        "\n",
        "adv_example_untargeted_label = momentum_iterative_method(logits_model, original_image, eps=0.8, eps_iter=0.05, nb_iter=10, norm=np.inf,\n",
        "                               clip_min=None, clip_max=None, y=None, targeted=False,\n",
        "                               decay_factor=1.0, sanity_checks=True)\n",
        "# eps = 2\n",
        "# eps_iter = 0.05\n",
        "# nb_iter = 10\n",
        "# decay_factor=1.0\n",
        "# adv_example_untargeted_label = momentum_iterative_method(logits_model, original_image, eps, eps_iter, nb_iter, norm=np.inf,\n",
        "#                                clip_min=None, clip_max=None, y=None, targeted=False,\n",
        "#                                decay_factor, sanity_checks=True)\n",
        "example_untargeted_pred = model.predict(original_image) \n",
        "adv_example_untargeted_label_pred = model.predict(adv_example_untargeted_label)  # ndarray with shape (1, 11) 给出了11个概率\n",
        "# print(adv_example_untargeted_label.shape)\n",
        "print(np.argmax(example_untargeted_pred),example_untargeted_pred)\n",
        "print(np.argmax(adv_example_untargeted_label_pred),adv_example_untargeted_label_pred)\n",
        "\n"
      ],
      "execution_count": null,
      "outputs": [
        {
          "output_type": "stream",
          "text": [
            "8 [[7.2873995e-04 6.4036549e-06 7.1645346e-08 8.5878588e-04 6.0889719e-04\n",
            "  3.5920621e-05 4.2272687e-02 4.0763804e-01 5.4196072e-01 5.8666687e-03\n",
            "  2.3049937e-05]]\n",
            "4 [[0.06840288 0.05580281 0.09104174 0.13371775 0.17583415 0.13322504\n",
            "  0.09448635 0.05580385 0.02306948 0.09390389 0.07471202]]\n"
          ],
          "name": "stdout"
        }
      ]
    },
    {
      "cell_type": "code",
      "metadata": {
        "id": "xzlpm8DV33BR",
        "colab_type": "code",
        "colab": {
          "base_uri": "https://localhost:8080/",
          "height": 562
        },
        "outputId": "13f5f9b6-731c-4823-c495-8f92e96b16ef"
      },
      "source": [
        "original_image_plt = np.reshape(original_image, (2,128))\n",
        "real = original_image_plt[0]  #取（2，128）的行\n",
        "imag = original_image_plt[1]\n",
        "\n",
        "adv_example_untargeted_label_plt = np.reshape(adv_example_untargeted_label, (2,128))\n",
        "real_adv = adv_example_untargeted_label_plt[0]  #取（2，128）的行\n",
        "imag_adv = adv_example_untargeted_label_plt[1]\n",
        "# plt.plot(real_adv,label='real_adv')\n",
        "# plt.plot(imag_adv,label='imag_adv')\n",
        "# plt.title(\"Model Prediction: {}\".format(np.argmax(adv_example_untargeted_label_pred)))\n",
        "# plt.xlabel(\"Original Label: {}\".format(original_label[0]))\n",
        "# plt.legend()  #设置 legend 图例\n",
        "# plt.show()\n",
        "\n",
        "\n",
        "plt.figure()\n",
        "plt.plot(real,label='original')\n",
        "plt.plot(real_adv,label='attack')\n",
        "plt.title(\"real\")\n",
        "plt.legend()  #设置 legend 图例\n",
        "plt.figure()\n",
        "plt.plot(imag,label='original')\n",
        "plt.plot(imag_adv,label='attack')\n",
        "plt.title(\"imag\")\n",
        "plt.legend()  #设置 legend 图例"
      ],
      "execution_count": null,
      "outputs": [
        {
          "output_type": "execute_result",
          "data": {
            "text/plain": [
              "<matplotlib.legend.Legend at 0x7f8d59fff048>"
            ]
          },
          "metadata": {
            "tags": []
          },
          "execution_count": 16
        },
        {
          "output_type": "display_data",
          "data": {
            "image/png": "[encoded data removed]",
            "text/plain": [
              "<Figure size 432x288 with 1 Axes>"
            ]
          },
          "metadata": {
            "tags": [],
            "needs_background": "light"
          }
        },
        {
          "output_type": "display_data",
          "data": {
            "image/png": "[encoded data removed]",
            "text/plain": [
              "<Figure size 432x288 with 1 Axes>"
            ]
          },
          "metadata": {
            "tags": [],
            "needs_background": "light"
          }
        }
      ]
    },
    {
      "cell_type": "code",
      "metadata": {
        "id": "lQGaGlNvcdcU",
        "colab_type": "code",
        "colab": {
          "base_uri": "https://localhost:8080/",
          "height": 35
        },
        "outputId": "43d40e24-efe8-4344-f60d-faf26045950a"
      },
      "source": [
        "# 均方根误差\n",
        "x1 = original_image_plt\n",
        "x2 = adv_example_untargeted_label_plt\n",
        "# print(x1,x2)\n",
        "x1_2 = x1 - x2\n",
        "# print(x1_2)\n",
        "x1_2_2 = np.multiply(x1_2,x1_2)  # 矩阵对应元素相乘就相当于各个元素平方\n",
        "# print(x1_2_2.shape)\n",
        "x1_2_2_sum = x1_2_2.sum(axis=1)  # axis=1求行和\n",
        "x1_2_2_sum_chu = x1_2_2_sum / 128\n",
        "# print(x1_2_2_sum,x1_2_2_sum_chu)\n",
        "# print(x1_2_sum,abs(x1_2_sum))\n",
        "x_sqrt = np.sqrt(x1_2_2_sum_chu)\n",
        "print(x_sqrt) "
      ],
      "execution_count": null,
      "outputs": [
        {
          "output_type": "stream",
          "text": [
            "[0.5711838 0.5837491]\n"
          ],
          "name": "stdout"
        }
      ]
    },
    {
      "cell_type": "code",
      "metadata": {
        "id": "gg0NTrsh3y90",
        "colab_type": "code",
        "colab": {
          "base_uri": "https://localhost:8080/",
          "height": 52
        },
        "outputId": "4c5536ce-0216-428a-f51a-e7c0561cb8ae"
      },
      "source": [
        "x1 = original_image_plt\n",
        "x2 = adv_example_untargeted_label_plt\n",
        "x1_2 = x1 - x2\n",
        "x1_2_sum = x1_2.sum(axis=1)/128\n",
        "print(x1_2_sum,abs(x1_2_sum))\n",
        "x_sqrt = np.sqrt(abs(x1_2_sum))\n",
        "print(x_sqrt) "
      ],
      "execution_count": null,
      "outputs": [
        {
          "output_type": "stream",
          "text": [
            "[ 0.05812521 -0.01218756] [0.05812521 0.01218756]\n",
            "[0.24109171 0.11039728]\n"
          ],
          "name": "stdout"
        }
      ]
    }
  ]
}