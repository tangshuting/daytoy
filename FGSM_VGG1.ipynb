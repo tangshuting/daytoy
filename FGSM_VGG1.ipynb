{
  "nbformat": 4,
  "nbformat_minor": 0,
  "metadata": {
    "colab": {
      "name": "FGSM_VGG.ipynb",
      "provenance": [],
      "authorship_tag": "ABX9TyN98wXHRd5bvMudfLYf52NZ",
      "include_colab_link": true
    },
    "kernelspec": {
      "name": "python3",
      "display_name": "Python 3"
    }
  },
  "cells": [
    {
      "cell_type": "markdown",
      "metadata": {
        "id": "view-in-github",
        "colab_type": "text"
      },
      "source": [
        "<a href=\"https://colab.research.google.com/github/tangshuting/daytoy/blob/master/FGSM_VGG1.ipynb\" target=\"_parent\"><img src=\"https://colab.research.google.com/assets/colab-badge.svg\" alt=\"Open In Colab\"/></a>"
      ]
    },
    {
      "cell_type": "code",
      "metadata": {
        "id": "zUY5IXwR4S9a",
        "colab_type": "code",
        "colab": {}
      },
      "source": [
        "import tensorflow as tf\n",
        "from tensorflow import keras   # tensorflow模块没有get_default_graph属性 使用tf.keras\n",
        "from tensorflow.keras import backend, losses\n",
        "from tensorflow.keras import backend as K\n",
        "from tensorflow.keras.datasets import mnist\n",
        "import numpy as np\n",
        "import matplotlib as mpl \n",
        "import matplotlib.pyplot as plt\n",
        "from keras.utils import np_utils\n",
        "\n"
      ],
      "execution_count": 0,
      "outputs": []
    },
    {
      "cell_type": "code",
      "metadata": {
        "id": "fOyHAMx74qAm",
        "colab_type": "code",
        "outputId": "99da6e09-ece3-4e75-c062-af41117026d2",
        "colab": {
          "base_uri": "https://localhost:8080/",
          "height": 331
        }
      },
      "source": [
        "(train_x, train_y), (test_x, test_y) = mnist.load_data()\n",
        "image = test_x[234]\n",
        "y_true = test_y[234]\n",
        "print ('y_true:',y_true)\n",
        "plt.figure()\n",
        "plt.imshow(image)\n",
        "# train_x = train_x.reshape(train_x.shape[0], 28, 28, 1).astype('float32')\n",
        "# train_x/= 255\n",
        "\n",
        "image = image.reshape(1,1,28,28).astype('float32')\n",
        "# image = image.reshape(-1,224，224,3).astype('float32')\n",
        "iamge = image/255\n",
        "y_true = np_utils.to_categorical(y_true, 10)  #one-hot编码\n",
        "print ('y_true:',y_true)\n",
        "print ('iamge:',image.shape)\n",
        "print ('y_true:',y_true.shape)\n",
        "# print （'iamge:',image.shape）\n",
        "# print （'y_true:',y_true.shape）"
      ],
      "execution_count": 0,
      "outputs": [
        {
          "output_type": "stream",
          "text": [
            "y_true: 7\n",
            "y_true: [0. 0. 0. 0. 0. 0. 0. 1. 0. 0.]\n",
            "iamge: (1, 1, 28, 28)\n",
            "y_true: (10,)\n"
          ],
          "name": "stdout"
        },
        {
          "output_type": "display_data",
          "data": {
            "image/png": "[encoded data removed]",
            "text/plain": [
              "<Figure size 432x288 with 1 Axes>"
            ]
          },
          "metadata": {
            "tags": [],
            "needs_background": "light"
          }
        }
      ]
    },
    {
      "cell_type": "code",
      "metadata": {
        "id": "OfO64-3X-zP5",
        "colab_type": "code",
        "colab": {}
      },
      "source": [
        "m_model = tf.keras.applications.VGG16(include_top=True,weights='imagenet')\n",
        "m_model.summary()"
      ],
      "execution_count": 0,
      "outputs": []
    },
    {
      "cell_type": "code",
      "metadata": {
        "id": "mIGbBlMX5Eji",
        "colab_type": "code",
        "colab": {}
      },
      "source": [
        "def fgsm( m_model, image, y_true, eps=0.1):\n",
        "    \n",
        "    m_model = tf.keras.applications.VGG16(include_top=True,weights='imagenet')\n",
        "   \n",
        "    #image_pred = m_model.predict_classes(img)\n",
        "    predict = m_model.predict(image)\n",
        "    image_pred = np.argmax(predict,axis=1)\n",
        "    image_pred = np_utils.to_categorical(image_pred, 10)\n",
        "\n",
        "    loss = losses.categorical_crossentropy(y_true, image_pred)\n",
        "    gradient = backend.gradients(loss, y_true)   \n",
        "    gradient = gradient[0]\n",
        "\n",
        "    adv = image + backend.sign(gradient) * eps  # fgsm算法\n",
        "\n",
        "    # sess = backend.get_session()   #设置会话\n",
        "    # adv = sess.run(adv, feed_dict={model.input: image})  # 注意这里传递参数的情况\n",
        "    adv = np.clip(adv, 0, 1)  \n",
        "    return adv"
      ],
      "execution_count": 0,
      "outputs": []
    },
    {
      "cell_type": "code",
      "metadata": {
        "id": "wGUDvmED6mAJ",
        "colab_type": "code",
        "colab": {}
      },
      "source": [
        "def fgsm_attack(image):\n",
        "    m_model = tf.keras.applications.VGG16(include_top=True,weights='imagenet')\n",
        "   \n",
        "    epsilons = [0, 0.01, 0.1, 0.15, 0.2]\n",
        "\n",
        "    print(\"开始使用fgsm进行攻击\")\n",
        "    for i, eps in enumerate(epsilons):\n",
        "        img_attack = fgsm(m_model, image, y_true, eps=eps)\n",
        "        plt.figure()\n",
        "        plt.imshow(img_attack)\n",
        "        #attack =keras.m_model.predict_classes(img_attack)\n",
        "        attack = m_model.predict(img_attack)\n",
        "        fgsm_attack = np.argmax(attackt,axis=1)\n",
        "        Y_adv = np_utils.to_categorical(fgsm_attack, 10)\n",
        "\n",
        "        # 当识别的结果不等时，表示攻击成功\n",
        "        #if attack != y_pred:\n",
        "        if Y_adv != image_pred:\n",
        "            print('攻击成功，攻击后的结果为：', Y_adv)\n",
        "fgsm_attack(image)\n"
      ],
      "execution_count": 0,
      "outputs": []
    },
    {
      "cell_type": "code",
      "metadata": {
        "id": "psSeicizMHf4",
        "colab_type": "code",
        "colab": {}
      },
      "source": [
        "# if __name__ == \"__main__\":\n",
        "#     fgsm_attack(image)"
      ],
      "execution_count": 0,
      "outputs": []
    },
    {
      "cell_type": "code",
      "metadata": {
        "id": "8D7RCiR-Nzhh",
        "colab_type": "code",
        "colab": {}
      },
      "source": [
        ""
      ],
      "execution_count": 0,
      "outputs": []
    },
    {
      "cell_type": "code",
      "metadata": {
        "id": "PHSl1hTjk24t",
        "colab_type": "code",
        "colab": {}
      },
      "source": [
        "def fgsm( VGG16, image, y_true, eps=0.1):\n",
        "   with tf.GradientTape() as tape:\n",
        "    #image_pred = m_model.predict_classes(img)\n",
        "    predict = VGG16.predict(image)\n",
        "    image_pred = np.argmax(predict,axis=1)\n",
        "    image_pred = np_utils.to_categorical(image_pred, 10)\n",
        "    image_pred_resharp = image_pred.reshape(10,)\n",
        "\n",
        "    y_true_resharp = y_true.reshape(1,10)\n",
        "    loss = losses.categorical_crossentropy(y_true_resharp, image_pred)\n",
        "    \n",
        "    # gradient = backend.gradients(loss, y_true)   \n",
        "    # gradient = gradient[0]\n",
        "    gradient = tape.gradient(loss, y_true_resharp) \n",
        "    gradient = gradient[0]\n",
        "    adv = image + backend.sign(gradient) * eps  # fgsm算法\n",
        "\n",
        "    sess = backend.get_session()   #设置会话\n",
        "    adv = sess.run(adv, feed_dict={model.input: image})  # 注意这里传递参数的情况\n",
        "    adv = np.clip(adv, 0, 1)  \n",
        "    return adv"
      ],
      "execution_count": 0,
      "outputs": []
    }
  ]
}