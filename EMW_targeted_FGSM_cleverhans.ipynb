{
  "nbformat": 4,
  "nbformat_minor": 0,
  "metadata": {
    "colab": {
      "name": "EMW_targeted_FGSM_cleverhans.ipynb",
      "provenance": [],
      "authorship_tag": "ABX9TyMxBEyBSxR04YpQhOFgpFYP",
      "include_colab_link": true
    },
    "kernelspec": {
      "name": "python3",
      "display_name": "Python 3"
    },
    "accelerator": "GPU"
  },
  "cells": [
    {
      "cell_type": "markdown",
      "metadata": {
        "id": "view-in-github",
        "colab_type": "text"
      },
      "source": [
        "<a href=\"https://colab.research.google.com/github/tangshuting/daytoy/blob/master/EMW_targeted_FGSM_cleverhans.ipynb\" target=\"_parent\"><img src=\"https://colab.research.google.com/assets/colab-badge.svg\" alt=\"Open In Colab\"/></a>"
      ]
    },
    {
      "cell_type": "code",
      "metadata": {
        "id": "APhqNfGEcHvU",
        "colab_type": "code",
        "colab": {}
      },
      "source": [
        "import tensorflow as tf\n",
        "import numpy as np\n",
        "import pandas as pd\n",
        "import matplotlib.pyplot as plt"
      ],
      "execution_count": 1,
      "outputs": []
    },
    {
      "cell_type": "code",
      "metadata": {
        "id": "gbyRFcPCcU9N",
        "colab_type": "code",
        "colab": {
          "base_uri": "https://localhost:8080/",
          "height": 156
        },
        "outputId": "8805b0cc-2168-494c-fd1a-fffbab92f629"
      },
      "source": [
        "import pickle\n",
        "from google.colab import drive\n",
        "drive.mount('/content/drive')\n",
        "f = open(r'/content/drive/My Drive/EMW/2016.04C.multisnr.pkl','rb') #open的参数是pkl文件的路径\n",
        "Xd = pickle.load(f,encoding='bytes')\n",
        "print(type(Xd))   # dict\n",
        "print(len(Xd))  #220=11（类别）×20（20个snr）\n",
        "snrs,mods = map(lambda j: sorted(list(set(map(lambda x: x[j], Xd.keys())))), [1,0])  # set()创建一个无序的不重复元素序列\n",
        "X = []\n",
        "lbl = []\n",
        "for mod in mods:\n",
        "    for snr in snrs:\n",
        "        X.append(Xd[(mod,snr)])\n",
        "        for i in range(Xd[(mod,snr)].shape[0]):  lbl.append((mod,snr)) # append末尾添加对象\n",
        "X = np.vstack(X)"
      ],
      "execution_count": 2,
      "outputs": [
        {
          "output_type": "stream",
          "text": [
            "Go to this URL in a browser: https://accounts.google.com/o/oauth2/auth?client_id=947318989803-6bn6qk8qdgf4n4g3pfee6491hc0brc4i.apps.googleusercontent.com&redirect_uri=urn%3aietf%3awg%3aoauth%3a2.0%3aoob&response_type=code&scope=email%20https%3a%2f%2fwww.googleapis.com%2fauth%2fdocs.test%20https%3a%2f%2fwww.googleapis.com%2fauth%2fdrive%20https%3a%2f%2fwww.googleapis.com%2fauth%2fdrive.photos.readonly%20https%3a%2f%2fwww.googleapis.com%2fauth%2fpeopleapi.readonly\n",
            "\n",
            "Enter your authorization code:\n",
            "··········\n",
            "Mounted at /content/drive\n",
            "<class 'dict'>\n",
            "220\n"
          ],
          "name": "stdout"
        }
      ]
    },
    {
      "cell_type": "code",
      "metadata": {
        "id": "hh7Yrt9fcZen",
        "colab_type": "code",
        "colab": {
          "base_uri": "https://localhost:8080/",
          "height": 68
        },
        "outputId": "ab6437d2-86a2-4a21-b5f3-be7d817e9b0e"
      },
      "source": [
        "print(mods)\n",
        "mods_str = []\n",
        "for i in mods:\n",
        "  mods_str.append(str(i).split('\\'')[1])\n",
        "print(mods_str)\n",
        "\n",
        "print(snrs)"
      ],
      "execution_count": 3,
      "outputs": [
        {
          "output_type": "stream",
          "text": [
            "[b'8PSK', b'AM-DSB', b'AM-SSB', b'BPSK', b'CPFSK', b'GFSK', b'PAM4', b'QAM16', b'QAM64', b'QPSK', b'WBFM']\n",
            "['8PSK', 'AM-DSB', 'AM-SSB', 'BPSK', 'CPFSK', 'GFSK', 'PAM4', 'QAM16', 'QAM64', 'QPSK', 'WBFM']\n",
            "[-20, -18, -16, -14, -12, -10, -8, -6, -4, -2, 0, 2, 4, 6, 8, 10, 12, 14, 16, 18]\n"
          ],
          "name": "stdout"
        }
      ]
    },
    {
      "cell_type": "code",
      "metadata": {
        "id": "e_EwTssvcbbY",
        "colab_type": "code",
        "colab": {
          "base_uri": "https://localhost:8080/",
          "height": 34
        },
        "outputId": "04c3362c-6666-43ee-c000-8453c969378e"
      },
      "source": [
        "# 读取输入并划分训练集和测试集\n",
        "# np.random.seed(2016)\n",
        "n_examples = X.shape[0]  # int 162060\n",
        "n_train = n_examples * 0.5\n",
        "train_idx = np.random.choice(range(0,n_examples), size= int(n_train), replace=False)  # ndarray with shape (81030,)\n",
        "test_idx = list(set(range(0,n_examples))-set(train_idx))   # list (81030 items total)\n",
        "\n",
        "X_train = X[train_idx]  # ndarray with shape (81030, 2, 128)\n",
        "X_test =  X[test_idx]   # 同上\n",
        "print(X_train.shape)"
      ],
      "execution_count": 4,
      "outputs": [
        {
          "output_type": "stream",
          "text": [
            "(81030, 2, 128)\n"
          ],
          "name": "stdout"
        }
      ]
    },
    {
      "cell_type": "code",
      "metadata": {
        "id": "9_OKbtBaciNw",
        "colab_type": "code",
        "colab": {
          "base_uri": "https://localhost:8080/",
          "height": 68
        },
        "outputId": "18ba7089-af2a-44fc-db88-1fd576c9ecc9"
      },
      "source": [
        "# print(lbl.shape) # AttributeError: 'list' object has no attribute 'shape' 解决办法是使用vstack函数\n",
        "lbl_no = np.vstack(lbl)  # 这一步骤没必要，因为可以直接使用lbl去取出来调制方式\n",
        "# print(lbl_no)  # ndarray with shape (162060, 2)  [b'8PSK' b'-20']\n",
        "\n",
        "lbl_mods = lbl_no[0]\n",
        "print(lbl_mods)\n",
        "\n",
        "\n",
        "Y_train_no = list(map(lambda x: mods.index(lbl[x][0]), train_idx))  # 显示的是1-11数字表示调制方式list (81030 items total)\n",
        "print(Y_train_no[1])\n",
        "Y_train_mods = np.vstack(Y_train_no)  # # ndarray with shape (81030, 1)\n",
        "\n",
        "Y_test_no = list(map(lambda x: mods.index(lbl[x][0]), test_idx))  \n",
        "Y_test_no = np.vstack(Y_test_no) # ndarray with shape (81030, 1)\n",
        "# print(Y_test_no)\n",
        "\n",
        "Y_train_mod = lbl_no[:,0]\n",
        "Y_train_mod_vsatck = np.vstack(Y_train_mod)  # 字幕显示调制方式ndarray with shape (162060, 1)\n",
        "# print(Y_train_mod_vsatck)\n",
        "\n",
        "Y_train_snrs = list(map(lambda x: snrs.index(lbl[x][1]), train_idx))\n",
        "# print(Y_train_snrs)\n",
        "Y_train_snrs = np.vstack(Y_train_snrs)  \n",
        "Y_test_snrs = list(map(lambda x: snrs.index(lbl[x][1]), test_idx))\n",
        "print(Y_test_snrs[1])\n",
        "Y_test_snrs = np.vstack(Y_test_snrs)  "
      ],
      "execution_count": 220,
      "outputs": [
        {
          "output_type": "stream",
          "text": [
            "[b'8PSK' b'-20']\n",
            "9\n",
            "5\n"
          ],
          "name": "stdout"
        }
      ]
    },
    {
      "cell_type": "code",
      "metadata": {
        "id": "CjBVG_S2ckro",
        "colab_type": "code",
        "colab": {}
      },
      "source": [
        "def to_onehot(yy):\n",
        "    yy1 = np.zeros([len(yy), max(yy)+1])\n",
        "    yy1[np.arange(len(yy)),yy] = 1\n",
        "    return yy1\n",
        "Y_train = to_onehot(list(map(lambda x: mods.index(lbl[x][0]), train_idx)))\n",
        "Y_test = to_onehot(list(map(lambda x: mods.index(lbl[x][0]), test_idx)))  # ndarray with shape (81030, 11)"
      ],
      "execution_count": 6,
      "outputs": []
    },
    {
      "cell_type": "code",
      "metadata": {
        "id": "S0tn5hyOcmz2",
        "colab_type": "code",
        "colab": {
          "base_uri": "https://localhost:8080/",
          "height": 34
        },
        "outputId": "ca73dd91-4879-4948-fba2-cfd678725aa4"
      },
      "source": [
        "in_shp = list(X_train.shape[1:])   # list [2, 128]\n",
        "\n",
        "classes = mods  # list [b'8PSK', b'AM-DSB', b'AM-SSB', b'BPSK', b'CPFSK', b'GFSK', b'PAM4', b'QAM16', b'QAM64', b'QPSK', b'WBFM'] (11 items total)\n",
        "\n",
        "mods_str = []\n",
        "for i in mods:\n",
        "  mods_str.append(str(i).split('\\'')[1])\n",
        "print(mods_str)   # list ['8PSK', 'AM-DSB', 'AM-SSB', 'BPSK', 'CPFSK', 'GFSK', 'PAM4', 'QAM16', 'QAM64', 'QPSK', 'WBFM']\n",
        "# print(Y_train[1])  # [0. 0. 0. 0. 0. 0. 0. 0. 0. 0. 1.]\n",
        "# print(Y_train.shape)  # ndarray with shape (81030, 11)"
      ],
      "execution_count": 7,
      "outputs": [
        {
          "output_type": "stream",
          "text": [
            "['8PSK', 'AM-DSB', 'AM-SSB', 'BPSK', 'CPFSK', 'GFSK', 'PAM4', 'QAM16', 'QAM64', 'QPSK', 'WBFM']\n"
          ],
          "name": "stdout"
        }
      ]
    },
    {
      "cell_type": "code",
      "metadata": {
        "id": "IOgzSuybconO",
        "colab_type": "code",
        "colab": {}
      },
      "source": [
        "num_classes = 11\n",
        "\n",
        "model = tf.keras.Sequential([\n",
        "    tf.keras.layers.Dense(128, input_shape=in_shp),\n",
        "    tf.keras.layers.Flatten(),\n",
        "    tf.keras.layers.Dense(512,activation=tf.nn.relu),\n",
        "    tf.keras.layers.Dropout(0.2),\n",
        "    tf.keras.layers.Dense(135,activation=tf.nn.relu),\n",
        "    tf.keras.layers.Dense(11),\n",
        "    tf.keras.layers.Activation(tf.nn.softmax) # We seperate the activation layer to be able to access the logits of the previous layer later\n",
        "])\n",
        "\n",
        "model.compile(optimizer='adam',\n",
        "              loss= 'categorical_crossentropy',\n",
        "              metrics=['accuracy'])\n",
        "# model.summary()"
      ],
      "execution_count": 8,
      "outputs": []
    },
    {
      "cell_type": "code",
      "metadata": {
        "id": "YGV11jqFcqMe",
        "colab_type": "code",
        "colab": {
          "base_uri": "https://localhost:8080/",
          "height": 1000
        },
        "outputId": "372812db-fc87-4ce6-a7f0-60dd61e978f7"
      },
      "source": [
        "nb_epoch = 100    # number of epochs to train on\n",
        "batch_size = 1024  # training batch size\n",
        "model.fit(X_train, Y_train, batch_size=batch_size, epochs=nb_epoch, verbose=2, validation_split=0.2)\n",
        "# model.fit(X_train, Y_train,  epochs=nb_epoch, verbose=2, validation_split=0.2)\n",
        "\n",
        "test_loss, test_acc = model.evaluate(X_test, Y_test)\n",
        "print('Test accuracy:', test_acc)"
      ],
      "execution_count": 9,
      "outputs": [
        {
          "output_type": "stream",
          "text": [
            "Epoch 1/100\n",
            "64/64 - 1s - loss: 4.1203 - accuracy: 0.1738 - val_loss: 2.2512 - val_accuracy: 0.1845\n",
            "Epoch 2/100\n",
            "64/64 - 0s - loss: 2.2297 - accuracy: 0.1925 - val_loss: 2.1977 - val_accuracy: 0.1897\n",
            "Epoch 3/100\n",
            "64/64 - 0s - loss: 2.1766 - accuracy: 0.2132 - val_loss: 2.1505 - val_accuracy: 0.2219\n",
            "Epoch 4/100\n",
            "64/64 - 0s - loss: 2.1182 - accuracy: 0.2730 - val_loss: 2.0863 - val_accuracy: 0.3013\n",
            "Epoch 5/100\n",
            "64/64 - 0s - loss: 2.0399 - accuracy: 0.2952 - val_loss: 1.9956 - val_accuracy: 0.3052\n",
            "Epoch 6/100\n",
            "64/64 - 0s - loss: 1.9438 - accuracy: 0.3047 - val_loss: 1.8825 - val_accuracy: 0.3406\n",
            "Epoch 7/100\n",
            "64/64 - 0s - loss: 1.8207 - accuracy: 0.3557 - val_loss: 1.7541 - val_accuracy: 0.3763\n",
            "Epoch 8/100\n",
            "64/64 - 0s - loss: 1.7139 - accuracy: 0.3800 - val_loss: 1.6720 - val_accuracy: 0.3963\n",
            "Epoch 9/100\n",
            "64/64 - 0s - loss: 1.6419 - accuracy: 0.4027 - val_loss: 1.6098 - val_accuracy: 0.4193\n",
            "Epoch 10/100\n",
            "64/64 - 0s - loss: 1.5861 - accuracy: 0.4202 - val_loss: 1.5588 - val_accuracy: 0.4409\n",
            "Epoch 11/100\n",
            "64/64 - 0s - loss: 1.5303 - accuracy: 0.4406 - val_loss: 1.5012 - val_accuracy: 0.4543\n",
            "Epoch 12/100\n",
            "64/64 - 0s - loss: 1.4668 - accuracy: 0.4603 - val_loss: 1.4277 - val_accuracy: 0.4725\n",
            "Epoch 13/100\n",
            "64/64 - 0s - loss: 1.4008 - accuracy: 0.4756 - val_loss: 1.3724 - val_accuracy: 0.4823\n",
            "Epoch 14/100\n",
            "64/64 - 0s - loss: 1.3459 - accuracy: 0.4889 - val_loss: 1.3260 - val_accuracy: 0.5015\n",
            "Epoch 15/100\n",
            "64/64 - 0s - loss: 1.2916 - accuracy: 0.5135 - val_loss: 1.2885 - val_accuracy: 0.5135\n",
            "Epoch 16/100\n",
            "64/64 - 0s - loss: 1.2511 - accuracy: 0.5259 - val_loss: 1.2506 - val_accuracy: 0.5259\n",
            "Epoch 17/100\n",
            "64/64 - 0s - loss: 1.2198 - accuracy: 0.5341 - val_loss: 1.2388 - val_accuracy: 0.5363\n",
            "Epoch 18/100\n",
            "64/64 - 0s - loss: 1.1932 - accuracy: 0.5435 - val_loss: 1.2210 - val_accuracy: 0.5365\n",
            "Epoch 19/100\n",
            "64/64 - 0s - loss: 1.1713 - accuracy: 0.5528 - val_loss: 1.2150 - val_accuracy: 0.5405\n",
            "Epoch 20/100\n",
            "64/64 - 0s - loss: 1.1535 - accuracy: 0.5564 - val_loss: 1.1961 - val_accuracy: 0.5494\n",
            "Epoch 21/100\n",
            "64/64 - 0s - loss: 1.1300 - accuracy: 0.5665 - val_loss: 1.1927 - val_accuracy: 0.5537\n",
            "Epoch 22/100\n",
            "64/64 - 0s - loss: 1.1230 - accuracy: 0.5692 - val_loss: 1.1715 - val_accuracy: 0.5584\n",
            "Epoch 23/100\n",
            "64/64 - 0s - loss: 1.1015 - accuracy: 0.5757 - val_loss: 1.1677 - val_accuracy: 0.5581\n",
            "Epoch 24/100\n",
            "64/64 - 0s - loss: 1.0904 - accuracy: 0.5821 - val_loss: 1.1663 - val_accuracy: 0.5598\n",
            "Epoch 25/100\n",
            "64/64 - 0s - loss: 1.0688 - accuracy: 0.5885 - val_loss: 1.1626 - val_accuracy: 0.5734\n",
            "Epoch 26/100\n",
            "64/64 - 0s - loss: 1.0622 - accuracy: 0.5945 - val_loss: 1.1495 - val_accuracy: 0.5711\n",
            "Epoch 27/100\n",
            "64/64 - 0s - loss: 1.0515 - accuracy: 0.5979 - val_loss: 1.1470 - val_accuracy: 0.5761\n",
            "Epoch 28/100\n",
            "64/64 - 0s - loss: 1.0367 - accuracy: 0.6056 - val_loss: 1.1292 - val_accuracy: 0.5805\n",
            "Epoch 29/100\n",
            "64/64 - 0s - loss: 1.0144 - accuracy: 0.6154 - val_loss: 1.1171 - val_accuracy: 0.5811\n",
            "Epoch 30/100\n",
            "64/64 - 0s - loss: 1.0110 - accuracy: 0.6170 - val_loss: 1.1138 - val_accuracy: 0.5863\n",
            "Epoch 31/100\n",
            "64/64 - 0s - loss: 0.9921 - accuracy: 0.6226 - val_loss: 1.1138 - val_accuracy: 0.5921\n",
            "Epoch 32/100\n",
            "64/64 - 0s - loss: 0.9805 - accuracy: 0.6267 - val_loss: 1.0977 - val_accuracy: 0.5897\n",
            "Epoch 33/100\n",
            "64/64 - 0s - loss: 0.9678 - accuracy: 0.6324 - val_loss: 1.0880 - val_accuracy: 0.6013\n",
            "Epoch 34/100\n",
            "64/64 - 0s - loss: 0.9559 - accuracy: 0.6381 - val_loss: 1.0863 - val_accuracy: 0.5981\n",
            "Epoch 35/100\n",
            "64/64 - 0s - loss: 0.9437 - accuracy: 0.6394 - val_loss: 1.0811 - val_accuracy: 0.5948\n",
            "Epoch 36/100\n",
            "64/64 - 0s - loss: 0.9355 - accuracy: 0.6464 - val_loss: 1.0696 - val_accuracy: 0.6077\n",
            "Epoch 37/100\n",
            "64/64 - 0s - loss: 0.9246 - accuracy: 0.6509 - val_loss: 1.0757 - val_accuracy: 0.6055\n",
            "Epoch 38/100\n",
            "64/64 - 0s - loss: 0.9229 - accuracy: 0.6521 - val_loss: 1.0604 - val_accuracy: 0.6115\n",
            "Epoch 39/100\n",
            "64/64 - 0s - loss: 0.9098 - accuracy: 0.6531 - val_loss: 1.0562 - val_accuracy: 0.6113\n",
            "Epoch 40/100\n",
            "64/64 - 0s - loss: 0.9190 - accuracy: 0.6532 - val_loss: 1.0660 - val_accuracy: 0.6103\n",
            "Epoch 41/100\n",
            "64/64 - 0s - loss: 0.8954 - accuracy: 0.6600 - val_loss: 1.0499 - val_accuracy: 0.6143\n",
            "Epoch 42/100\n",
            "64/64 - 0s - loss: 0.8850 - accuracy: 0.6629 - val_loss: 1.0634 - val_accuracy: 0.6203\n",
            "Epoch 43/100\n",
            "64/64 - 0s - loss: 0.8826 - accuracy: 0.6653 - val_loss: 1.0550 - val_accuracy: 0.6159\n",
            "Epoch 44/100\n",
            "64/64 - 0s - loss: 0.8705 - accuracy: 0.6661 - val_loss: 1.0343 - val_accuracy: 0.6170\n",
            "Epoch 45/100\n",
            "64/64 - 0s - loss: 0.8628 - accuracy: 0.6726 - val_loss: 1.0625 - val_accuracy: 0.6142\n",
            "Epoch 46/100\n",
            "64/64 - 0s - loss: 0.8606 - accuracy: 0.6721 - val_loss: 1.0451 - val_accuracy: 0.6163\n",
            "Epoch 47/100\n",
            "64/64 - 0s - loss: 0.8559 - accuracy: 0.6742 - val_loss: 1.0439 - val_accuracy: 0.6145\n",
            "Epoch 48/100\n",
            "64/64 - 0s - loss: 0.8523 - accuracy: 0.6760 - val_loss: 1.0446 - val_accuracy: 0.6187\n",
            "Epoch 49/100\n",
            "64/64 - 0s - loss: 0.8590 - accuracy: 0.6747 - val_loss: 1.0360 - val_accuracy: 0.6214\n",
            "Epoch 50/100\n",
            "64/64 - 0s - loss: 0.8388 - accuracy: 0.6789 - val_loss: 1.0489 - val_accuracy: 0.6198\n",
            "Epoch 51/100\n",
            "64/64 - 0s - loss: 0.8307 - accuracy: 0.6810 - val_loss: 1.0457 - val_accuracy: 0.6239\n",
            "Epoch 52/100\n",
            "64/64 - 0s - loss: 0.8347 - accuracy: 0.6843 - val_loss: 1.0447 - val_accuracy: 0.6239\n",
            "Epoch 53/100\n",
            "64/64 - 0s - loss: 0.8308 - accuracy: 0.6856 - val_loss: 1.0519 - val_accuracy: 0.6206\n",
            "Epoch 54/100\n",
            "64/64 - 0s - loss: 0.8257 - accuracy: 0.6842 - val_loss: 1.0677 - val_accuracy: 0.6206\n",
            "Epoch 55/100\n",
            "64/64 - 0s - loss: 0.8166 - accuracy: 0.6897 - val_loss: 1.0467 - val_accuracy: 0.6223\n",
            "Epoch 56/100\n",
            "64/64 - 0s - loss: 0.8129 - accuracy: 0.6901 - val_loss: 1.0521 - val_accuracy: 0.6214\n",
            "Epoch 57/100\n",
            "64/64 - 0s - loss: 0.8122 - accuracy: 0.6902 - val_loss: 1.0471 - val_accuracy: 0.6252\n",
            "Epoch 58/100\n",
            "64/64 - 0s - loss: 0.8166 - accuracy: 0.6884 - val_loss: 1.0442 - val_accuracy: 0.6209\n",
            "Epoch 59/100\n",
            "64/64 - 0s - loss: 0.8020 - accuracy: 0.6944 - val_loss: 1.0601 - val_accuracy: 0.6224\n",
            "Epoch 60/100\n",
            "64/64 - 0s - loss: 0.8027 - accuracy: 0.6942 - val_loss: 1.0502 - val_accuracy: 0.6261\n",
            "Epoch 61/100\n",
            "64/64 - 0s - loss: 0.8038 - accuracy: 0.6950 - val_loss: 1.0654 - val_accuracy: 0.6226\n",
            "Epoch 62/100\n",
            "64/64 - 0s - loss: 0.8016 - accuracy: 0.6942 - val_loss: 1.0720 - val_accuracy: 0.6233\n",
            "Epoch 63/100\n",
            "64/64 - 0s - loss: 0.8024 - accuracy: 0.6945 - val_loss: 1.0674 - val_accuracy: 0.6245\n",
            "Epoch 64/100\n",
            "64/64 - 0s - loss: 0.7916 - accuracy: 0.6989 - val_loss: 1.0580 - val_accuracy: 0.6243\n",
            "Epoch 65/100\n",
            "64/64 - 0s - loss: 0.7904 - accuracy: 0.6988 - val_loss: 1.0590 - val_accuracy: 0.6274\n",
            "Epoch 66/100\n",
            "64/64 - 0s - loss: 0.7824 - accuracy: 0.7024 - val_loss: 1.0698 - val_accuracy: 0.6209\n",
            "Epoch 67/100\n",
            "64/64 - 0s - loss: 0.7835 - accuracy: 0.7035 - val_loss: 1.0857 - val_accuracy: 0.6291\n",
            "Epoch 68/100\n",
            "64/64 - 0s - loss: 0.7841 - accuracy: 0.7022 - val_loss: 1.0727 - val_accuracy: 0.6283\n",
            "Epoch 69/100\n",
            "64/64 - 0s - loss: 0.7730 - accuracy: 0.7055 - val_loss: 1.0811 - val_accuracy: 0.6191\n",
            "Epoch 70/100\n",
            "64/64 - 0s - loss: 0.7686 - accuracy: 0.7067 - val_loss: 1.0817 - val_accuracy: 0.6200\n",
            "Epoch 71/100\n",
            "64/64 - 0s - loss: 0.7637 - accuracy: 0.7099 - val_loss: 1.0748 - val_accuracy: 0.6222\n",
            "Epoch 72/100\n",
            "64/64 - 0s - loss: 0.7638 - accuracy: 0.7077 - val_loss: 1.0836 - val_accuracy: 0.6269\n",
            "Epoch 73/100\n",
            "64/64 - 0s - loss: 0.7657 - accuracy: 0.7102 - val_loss: 1.0968 - val_accuracy: 0.6261\n",
            "Epoch 74/100\n",
            "64/64 - 0s - loss: 0.7625 - accuracy: 0.7110 - val_loss: 1.0973 - val_accuracy: 0.6202\n",
            "Epoch 75/100\n",
            "64/64 - 0s - loss: 0.7606 - accuracy: 0.7117 - val_loss: 1.0906 - val_accuracy: 0.6245\n",
            "Epoch 76/100\n",
            "64/64 - 0s - loss: 0.7583 - accuracy: 0.7122 - val_loss: 1.0998 - val_accuracy: 0.6243\n",
            "Epoch 77/100\n",
            "64/64 - 0s - loss: 0.7524 - accuracy: 0.7133 - val_loss: 1.0941 - val_accuracy: 0.6235\n",
            "Epoch 78/100\n",
            "64/64 - 0s - loss: 0.7512 - accuracy: 0.7158 - val_loss: 1.1066 - val_accuracy: 0.6258\n",
            "Epoch 79/100\n",
            "64/64 - 0s - loss: 0.7508 - accuracy: 0.7146 - val_loss: 1.1029 - val_accuracy: 0.6233\n",
            "Epoch 80/100\n",
            "64/64 - 0s - loss: 0.7478 - accuracy: 0.7164 - val_loss: 1.1011 - val_accuracy: 0.6229\n",
            "Epoch 81/100\n",
            "64/64 - 0s - loss: 0.7471 - accuracy: 0.7166 - val_loss: 1.1175 - val_accuracy: 0.6243\n",
            "Epoch 82/100\n",
            "64/64 - 0s - loss: 0.7431 - accuracy: 0.7200 - val_loss: 1.0995 - val_accuracy: 0.6252\n",
            "Epoch 83/100\n",
            "64/64 - 0s - loss: 0.7482 - accuracy: 0.7149 - val_loss: 1.1010 - val_accuracy: 0.6266\n",
            "Epoch 84/100\n",
            "64/64 - 0s - loss: 0.7485 - accuracy: 0.7180 - val_loss: 1.1060 - val_accuracy: 0.6234\n",
            "Epoch 85/100\n",
            "64/64 - 0s - loss: 0.7394 - accuracy: 0.7202 - val_loss: 1.1217 - val_accuracy: 0.6303\n",
            "Epoch 86/100\n",
            "64/64 - 0s - loss: 0.7403 - accuracy: 0.7210 - val_loss: 1.1234 - val_accuracy: 0.6256\n",
            "Epoch 87/100\n",
            "64/64 - 0s - loss: 0.7340 - accuracy: 0.7231 - val_loss: 1.0999 - val_accuracy: 0.6240\n",
            "Epoch 88/100\n",
            "64/64 - 0s - loss: 0.7279 - accuracy: 0.7253 - val_loss: 1.1323 - val_accuracy: 0.6312\n",
            "Epoch 89/100\n",
            "64/64 - 0s - loss: 0.7264 - accuracy: 0.7249 - val_loss: 1.1440 - val_accuracy: 0.6228\n",
            "Epoch 90/100\n",
            "64/64 - 0s - loss: 0.7337 - accuracy: 0.7230 - val_loss: 1.1068 - val_accuracy: 0.6268\n",
            "Epoch 91/100\n",
            "64/64 - 0s - loss: 0.7289 - accuracy: 0.7266 - val_loss: 1.1204 - val_accuracy: 0.6261\n",
            "Epoch 92/100\n",
            "64/64 - 0s - loss: 0.7202 - accuracy: 0.7277 - val_loss: 1.1381 - val_accuracy: 0.6258\n",
            "Epoch 93/100\n",
            "64/64 - 0s - loss: 0.7159 - accuracy: 0.7296 - val_loss: 1.1229 - val_accuracy: 0.6306\n",
            "Epoch 94/100\n",
            "64/64 - 0s - loss: 0.7175 - accuracy: 0.7306 - val_loss: 1.1255 - val_accuracy: 0.6256\n",
            "Epoch 95/100\n",
            "64/64 - 0s - loss: 0.7120 - accuracy: 0.7310 - val_loss: 1.1316 - val_accuracy: 0.6298\n",
            "Epoch 96/100\n",
            "64/64 - 0s - loss: 0.7138 - accuracy: 0.7313 - val_loss: 1.1270 - val_accuracy: 0.6285\n",
            "Epoch 97/100\n",
            "64/64 - 0s - loss: 0.7111 - accuracy: 0.7329 - val_loss: 1.1165 - val_accuracy: 0.6314\n",
            "Epoch 98/100\n",
            "64/64 - 0s - loss: 0.7115 - accuracy: 0.7321 - val_loss: 1.1642 - val_accuracy: 0.6211\n",
            "Epoch 99/100\n",
            "64/64 - 0s - loss: 0.7053 - accuracy: 0.7331 - val_loss: 1.1541 - val_accuracy: 0.6258\n",
            "Epoch 100/100\n",
            "64/64 - 0s - loss: 0.7048 - accuracy: 0.7359 - val_loss: 1.1397 - val_accuracy: 0.6271\n",
            "2533/2533 [==============================] - 9s 3ms/step - loss: 1.1472 - accuracy: 0.6221\n",
            "Test accuracy: 0.6220782399177551\n"
          ],
          "name": "stdout"
        }
      ]
    },
    {
      "cell_type": "code",
      "metadata": {
        "id": "Yp2fBbX-eFfm",
        "colab_type": "code",
        "colab": {
          "base_uri": "https://localhost:8080/",
          "height": 561
        },
        "outputId": "28e49f9a-288e-4816-813c-119a360a1c32"
      },
      "source": [
        "pip install git+https://github.com/tensorflow/cleverhans.git#egg=cleverhans"
      ],
      "execution_count": 10,
      "outputs": [
        {
          "output_type": "stream",
          "text": [
            "Collecting cleverhans\n",
            "  Cloning https://github.com/tensorflow/cleverhans.git to /tmp/pip-install-alzs3hny/cleverhans\n",
            "  Running command git clone -q https://github.com/tensorflow/cleverhans.git /tmp/pip-install-alzs3hny/cleverhans\n",
            "Collecting nose\n",
            "\u001b[?25l  Downloading https://files.pythonhosted.org/packages/15/d8/dd071918c040f50fa1cf80da16423af51ff8ce4a0f2399b7bf8de45ac3d9/nose-1.3.7-py3-none-any.whl (154kB)\n",
            "\u001b[K     |████████████████████████████████| 163kB 3.1MB/s \n",
            "\u001b[?25hCollecting pycodestyle\n",
            "\u001b[?25l  Downloading https://files.pythonhosted.org/packages/10/5b/88879fb861ab79aef45c7e199cae3ef7af487b5603dcb363517a50602dd7/pycodestyle-2.6.0-py2.py3-none-any.whl (41kB)\n",
            "\u001b[K     |████████████████████████████████| 51kB 5.3MB/s \n",
            "\u001b[?25hRequirement already satisfied: scipy in /usr/local/lib/python3.6/dist-packages (from cleverhans) (1.4.1)\n",
            "Requirement already satisfied: matplotlib in /usr/local/lib/python3.6/dist-packages (from cleverhans) (3.2.2)\n",
            "Collecting mnist~=0.2\n",
            "  Downloading https://files.pythonhosted.org/packages/c6/c4/5db3bfe009f8d71f1d532bbadbd0ec203764bba3a469e4703a889db8e5e0/mnist-0.2.2-py2.py3-none-any.whl\n",
            "Requirement already satisfied: numpy in /usr/local/lib/python3.6/dist-packages (from cleverhans) (1.18.5)\n",
            "Requirement already satisfied: tensorflow-probability in /usr/local/lib/python3.6/dist-packages (from cleverhans) (0.11.0)\n",
            "Requirement already satisfied: joblib in /usr/local/lib/python3.6/dist-packages (from cleverhans) (0.16.0)\n",
            "Requirement already satisfied: python-dateutil>=2.1 in /usr/local/lib/python3.6/dist-packages (from matplotlib->cleverhans) (2.8.1)\n",
            "Requirement already satisfied: kiwisolver>=1.0.1 in /usr/local/lib/python3.6/dist-packages (from matplotlib->cleverhans) (1.2.0)\n",
            "Requirement already satisfied: pyparsing!=2.0.4,!=2.1.2,!=2.1.6,>=2.0.1 in /usr/local/lib/python3.6/dist-packages (from matplotlib->cleverhans) (2.4.7)\n",
            "Requirement already satisfied: cycler>=0.10 in /usr/local/lib/python3.6/dist-packages (from matplotlib->cleverhans) (0.10.0)\n",
            "Requirement already satisfied: cloudpickle==1.3 in /usr/local/lib/python3.6/dist-packages (from tensorflow-probability->cleverhans) (1.3.0)\n",
            "Requirement already satisfied: gast>=0.3.2 in /usr/local/lib/python3.6/dist-packages (from tensorflow-probability->cleverhans) (0.3.3)\n",
            "Requirement already satisfied: decorator in /usr/local/lib/python3.6/dist-packages (from tensorflow-probability->cleverhans) (4.4.2)\n",
            "Requirement already satisfied: six>=1.10.0 in /usr/local/lib/python3.6/dist-packages (from tensorflow-probability->cleverhans) (1.15.0)\n",
            "Requirement already satisfied: dm-tree in /usr/local/lib/python3.6/dist-packages (from tensorflow-probability->cleverhans) (0.1.5)\n",
            "Building wheels for collected packages: cleverhans\n",
            "  Building wheel for cleverhans (setup.py) ... \u001b[?25l\u001b[?25hdone\n",
            "  Created wheel for cleverhans: filename=cleverhans-3.0.1-cp36-none-any.whl size=262573 sha256=c95094c0b4cc1bbde48f213bd992f73ed313ab0b150e5ef091492498a01eba13\n",
            "  Stored in directory: /tmp/pip-ephem-wheel-cache-jhpqzcis/wheels/6e/59/ec/723a6f654aaf62c8c40f0f0850fdf71a4948598697f56c3bfa\n",
            "Successfully built cleverhans\n",
            "Installing collected packages: nose, pycodestyle, mnist, cleverhans\n",
            "Successfully installed cleverhans-3.0.1 mnist-0.2.2 nose-1.3.7 pycodestyle-2.6.0\n"
          ],
          "name": "stdout"
        }
      ]
    },
    {
      "cell_type": "code",
      "metadata": {
        "id": "TnhaCPQbd5OL",
        "colab_type": "code",
        "colab": {}
      },
      "source": [
        "# Import the attack\n",
        "from cleverhans.future.tf2.attacks import fast_gradient_method\n",
        "\n",
        "#The attack requires the model to ouput the logits\n",
        "logits_model = tf.keras.Model(model.input,model.layers[-1].output)"
      ],
      "execution_count": 97,
      "outputs": []
    },
    {
      "cell_type": "code",
      "metadata": {
        "id": "uQiH5URmdCPX",
        "colab_type": "code",
        "colab": {
          "base_uri": "https://localhost:8080/",
          "height": 34
        },
        "outputId": "7881a34a-0248-43e3-f5a0-b88cc1d43800"
      },
      "source": [
        "random_index = 6000\n",
        "print(\"Y_test[random_index]=\",Y_test[random_index],\"Y_test_no[random_index]=\",Y_test_no[random_index],\"Y_test_snrs[random_index]=\",Y_test_snrs[random_index])"
      ],
      "execution_count": 166,
      "outputs": [
        {
          "output_type": "stream",
          "text": [
            "Y_test[random_index]= [1. 0. 0. 0. 0. 0. 0. 0. 0. 0. 0.] Y_test_no[random_index]= [0] Y_test_snrs[random_index]= [15]\n"
          ],
          "name": "stdout"
        }
      ]
    },
    {
      "cell_type": "code",
      "metadata": {
        "id": "CXAk_7NueKRN",
        "colab_type": "code",
        "colab": {
          "base_uri": "https://localhost:8080/",
          "height": 68
        },
        "outputId": "358eb08a-4231-42aa-d234-d843a9bbdb42"
      },
      "source": [
        "# 现在是随机选择一个无线电信号，后面重新固定SNR和调制方式进行选择\n",
        "# random_index = np.random.randint(X_test.shape[0])\n",
        "original_image_targeted = X_test[random_index]\n",
        "\n",
        "original_image = X_test[random_index] # EagerTensor with shape (1, 2, 128)\n",
        "original_image = tf.convert_to_tensor(original_image.reshape((1,2,128))) #The .reshape just gives it the proper form to input into the model, a batch of 1 a.k.a a tensor\n",
        "\n",
        "original_label = Y_test_no[random_index]\n",
        "original_label = np.reshape(original_label, (1,)).astype('int64')\n",
        "example_targeted_pred = model.predict(original_image) \n",
        "print(example_targeted_pred)\n",
        "#Show the image\n",
        "# plt.figure()\n",
        "# plt.grid(False)\n",
        "original_image_plt = np.reshape(original_image, (2,128))\n",
        "real = original_image_plt[0]  #取（2，128）的行\n",
        "imag = original_image_plt[1]\n",
        "# plt.axis([-1, 1, -1, 1])\n",
        "# plt.plot(real,label='real')\n",
        "# plt.plot(imag,label='imag')\n",
        "# plt.imshow(np.reshape(original_image, (2,128)))\n",
        "# plt.title(\"Label: {}\".format(original_label[0]))\n",
        "# plt.legend()  #设置 legend 图例"
      ],
      "execution_count": 168,
      "outputs": [
        {
          "output_type": "stream",
          "text": [
            "[[2.6731130e-01 1.6513339e-11 3.3736922e-07 1.4819792e-02 2.5806212e-01\n",
            "  2.2869710e-05 2.0977047e-06 1.2999048e-04 1.6719554e-04 4.5948428e-01\n",
            "  3.7509515e-09]]\n"
          ],
          "name": "stdout"
        }
      ]
    },
    {
      "cell_type": "code",
      "metadata": {
        "id": "zoBUkUxFhQfg",
        "colab_type": "code",
        "colab": {}
      },
      "source": [
        "target = 9\n",
        "target_label = np.reshape(target, (1,)).astype('int64')"
      ],
      "execution_count": 170,
      "outputs": []
    },
    {
      "cell_type": "code",
      "metadata": {
        "id": "_Uo1IH7OadgY",
        "colab_type": "code",
        "colab": {
          "base_uri": "https://localhost:8080/",
          "height": 394
        },
        "outputId": "9654fef1-ce54-4e5b-daf5-df43cbd388cd"
      },
      "source": [
        "# 定向攻击把FGSM里的参数设置为True即可\n",
        "# 调用fgsm迭代直到攻击成功为止\n",
        "epochs = 100\n",
        "\n",
        "epsilon = 0.05\n",
        "for epoch in range(epochs):\n",
        "  target_fgsm = fast_gradient_method(logits_model, original_image, epsilon, np.inf, y=target_label, targeted=True)\n",
        "  target_fgsm_pred = model.predict(target_fgsm)\n",
        "  attack = np.argmax(target_fgsm_pred)\n",
        "  if target == attack:\n",
        "    #  输出攻击成功的结果\n",
        "    print(\"target=\",attack,\"epoch=\",epoch,\"epsilon=\",epsilon,'\\n',\"target_fgsm_pred=\",target_fgsm_pred)\n",
        "\n",
        "    target_fgsm_plt = np.reshape(target_fgsm, (2,128))\n",
        "    real_adv = target_fgsm_plt[0]  #取（2，128）的行\n",
        "    imag_adv = target_fgsm_plt[1]\n",
        "    plt.figure()\n",
        "    # plt.suptitle('mods={},SNR={},attack={}'.format(np.argmax(example_untargeted_pred)),-10dB,np.argmax(adv_example_untargeted_label_pred)))\n",
        "    plt.subplot(2,1,1)\n",
        "    plt.plot(real,label='original')\n",
        "    plt.plot(real_adv,label='attack')\n",
        "    plt.title(\"real\")\n",
        "    plt.legend()  #设置 legend 图例\n",
        "    plt.figure()\n",
        "    plt.subplot(2,1,2)\n",
        "    plt.plot(imag,label='original')\n",
        "    plt.plot(imag_adv,label='attack')\n",
        "    plt.title(\"imag\")\n",
        "    plt.legend()  #设置 legend 图例\n",
        "    # 实虚部的均方根误差\n",
        "    x1 = original_image_plt\n",
        "    x2_FGSM = target_fgsm_plt\n",
        "    x1_2 = x1 - x2_FGSM\n",
        "    x1_2_2 = np.multiply(x1_2,x1_2)  # 矩阵对应元素相乘就相当于各个元素平方\n",
        "    x1_2_2_sum = x1_2_2.sum(axis=1)  # axis=1求行和\n",
        "    x1_2_2_sum_chu = x1_2_2_sum / 128\n",
        "    x_sqrt = np.sqrt(x1_2_2_sum_chu)\n",
        "    print(x_sqrt)\n",
        "    break\n",
        "  else:\n",
        "    epsilon = epsilon + 0.05\n",
        "    print(\"attack false\",epsilon)"
      ],
      "execution_count": 172,
      "outputs": [
        {
          "output_type": "stream",
          "text": [
            "target= 9 epoch= 0 epsilon= 0.05 \n",
            " target_fgsm_pred= [[2.39160821e-01 2.80749621e-12 1.08191735e-07 7.67933996e-03\n",
            "  2.91508678e-02 1.22330721e-06 1.05664162e-06 7.22467448e-05\n",
            "  5.70527736e-05 7.23877311e-01 2.27708422e-10]]\n",
            "[0.04999998 0.04999997]\n"
          ],
          "name": "stdout"
        },
        {
          "output_type": "display_data",
          "data": {
            "image/png": "[encoded data removed]",
            "text/plain": [
              "<Figure size 432x288 with 1 Axes>"
            ]
          },
          "metadata": {
            "tags": [],
            "needs_background": "light"
          }
        },
        {
          "output_type": "display_data",
          "data": {
            "image/png": "[encoded data removed]",
            "text/plain": [
              "<Figure size 432x288 with 1 Axes>"
            ]
          },
          "metadata": {
            "tags": [],
            "needs_background": "light"
          }
        }
      ]
    },
    {
      "cell_type": "code",
      "metadata": {
        "id": "OeVM2ouT55jU",
        "colab_type": "code",
        "colab": {}
      },
      "source": [
        ""
      ],
      "execution_count": null,
      "outputs": []
    },
    {
      "cell_type": "code",
      "metadata": {
        "id": "hnzXtt7d55ot",
        "colab_type": "code",
        "colab": {}
      },
      "source": [
        ""
      ],
      "execution_count": null,
      "outputs": []
    },
    {
      "cell_type": "code",
      "metadata": {
        "id": "7eRNMD4E56Xg",
        "colab_type": "code",
        "colab": {}
      },
      "source": [
        ""
      ],
      "execution_count": null,
      "outputs": []
    },
    {
      "cell_type": "markdown",
      "metadata": {
        "id": "5VT6cHDQw-wH",
        "colab_type": "text"
      },
      "source": [
        "下面是为了检查上次BIM中低识别准确率的8PSK信号存在问题：为什么10dB均方误差比-10dB大，但是从图上看反而-10dB下干扰更隐蔽？"
      ]
    },
    {
      "cell_type": "code",
      "metadata": {
        "id": "GSJwJbZMyNmj",
        "colab_type": "code",
        "colab": {}
      },
      "source": [
        "random_index = 6000\n",
        "original_image_targeted = X_test[random_index]\n",
        "\n",
        "original_image = X_test[random_index] # EagerTensor with shape (1, 2, 128)\n",
        "original_image = tf.convert_to_tensor(original_image.reshape((1,2,128))) #The .reshape just gives it the proper form to input into the model, a batch of 1 a.k.a a tensor\n",
        "\n",
        "original_label = Y_test_no[random_index]\n",
        "original_label = np.reshape(original_label, (1,)).astype('int64')\n",
        "example_targeted_pred = model.predict(original_image) \n",
        " \n",
        "original_image_plt = np.reshape(original_image, (2,128))\n",
        "real = original_image_plt[0]  #取（2，128）的行\n",
        "imag = original_image_plt[1]"
      ],
      "execution_count": 214,
      "outputs": []
    },
    {
      "cell_type": "code",
      "metadata": {
        "id": "q1IYwntsruUy",
        "colab_type": "code",
        "colab": {
          "base_uri": "https://localhost:8080/",
          "height": 428
        },
        "outputId": "4ccc205f-b1b4-4056-c00d-f8565bc65883"
      },
      "source": [
        "# 参数的设置问题： assert eps_iter <= eps, (eps_iter, eps)会报错，其中assert函数是判断语句\n",
        "# BIM aT=e\n",
        "from cleverhans.future.tf2.attacks import basic_iterative_method\n",
        "from cleverhans.future.tf2.attacks import projected_gradient_descent\n",
        "epsilon_BIM = 1\n",
        "eps_iter_BIM = 0.1\n",
        "nb_iter_BIM = 10\n",
        "\n",
        "adv_example_untargeted_label_BIM = basic_iterative_method(logits_model, original_image, epsilon_BIM, eps_iter_BIM, nb_iter_BIM, norm=np.inf, \n",
        "                        targeted=False, rand_minmax=0.3, sanity_checks=True)  # EagerTensor with shape (1, 2, 128)\n",
        "example_untargeted_pred = model.predict(original_image) \n",
        "adv_example_untargeted_label_pred_BIM  = model.predict(adv_example_untargeted_label_BIM )  # ndarray with shape (1, 11) 给出了11个概率\n",
        "print(np.argmax(example_untargeted_pred),example_untargeted_pred)\n",
        "print(np.argmax(adv_example_untargeted_label_pred_BIM ),adv_example_untargeted_label_pred_BIM )\n",
        "\n",
        "original_image_plt = np.reshape(original_image, (2,128))\n",
        "real = original_image_plt[0]  #取（2，128）的行\n",
        "imag = original_image_plt[1]\n",
        "\n",
        "adv_example_untargeted_label_BIM_plt = np.reshape(adv_example_untargeted_label_BIM , (2,128))\n",
        "real_adv = adv_example_untargeted_label_BIM_plt[0]  #取（2，128）的行\n",
        "imag_adv = adv_example_untargeted_label_BIM_plt[1]\n",
        "\n",
        "plt.figure()\n",
        "plt.subplot(2,1,1)\n",
        "plt.plot(real,label='original')\n",
        "plt.plot(real_adv,label='attack')\n",
        "plt.title(\"real\")\n",
        "plt.legend()  #设置 legend 图例\n",
        "plt.figure()\n",
        "plt.subplot(2,1,2)\n",
        "plt.plot(imag,label='original')\n",
        "plt.plot(imag_adv,label='attack')\n",
        "plt.title(\"imag\")\n",
        "plt.legend()  #设置 legend 图例"
      ],
      "execution_count": 215,
      "outputs": [
        {
          "output_type": "stream",
          "text": [
            "9 [[2.6731130e-01 1.6513339e-11 3.3736922e-07 1.4819792e-02 2.5806212e-01\n",
            "  2.2869710e-05 2.0977047e-06 1.2999048e-04 1.6719554e-04 4.5948428e-01\n",
            "  3.7509515e-09]]\n",
            "4 [[1.1183919e-08 7.3746799e-18 2.7589140e-14 8.6778130e-08 9.9999940e-01\n",
            "  4.6282705e-07 9.9068228e-15 9.1381987e-14 4.5600015e-13 2.8685885e-09\n",
            "  3.2392197e-11]]\n"
          ],
          "name": "stdout"
        },
        {
          "output_type": "execute_result",
          "data": {
            "text/plain": [
              "<matplotlib.legend.Legend at 0x7fc0dc9ab0b8>"
            ]
          },
          "metadata": {
            "tags": []
          },
          "execution_count": 215
        },
        {
          "output_type": "display_data",
          "data": {
            "image/png": "[encoded data removed]",
            "text/plain": [
              "<Figure size 432x288 with 1 Axes>"
            ]
          },
          "metadata": {
            "tags": [],
            "needs_background": "light"
          }
        },
        {
          "output_type": "display_data",
          "data": {
            "image/png": "[encoded data removed]",
            "text/plain": [
              "<Figure size 432x288 with 1 Axes>"
            ]
          },
          "metadata": {
            "tags": [],
            "needs_background": "light"
          }
        }
      ]
    },
    {
      "cell_type": "code",
      "metadata": {
        "id": "AGzIMYGT1A3-",
        "colab_type": "code",
        "colab": {
          "base_uri": "https://localhost:8080/",
          "height": 34
        },
        "outputId": "8d8beb87-18cc-4e7c-c4e4-fd338e11b4e3"
      },
      "source": [
        "x1 = original_image_plt\n",
        "x2_BIM = adv_example_untargeted_label_BIM_plt\n",
        "x1_2 = x1 - x2_BIM\n",
        "x1_2_2 = np.multiply(x1_2,x1_2)  # 矩阵对应元素相乘就相当于各个元素平方\n",
        "x1_2_2_sum = x1_2_2.sum(axis=1)  # axis=1求行和\n",
        "x1_2_2_sum_chu = x1_2_2_sum / 128\n",
        "x_sqrt = np.sqrt(x1_2_2_sum_chu)\n",
        "print(x_sqrt) "
      ],
      "execution_count": 218,
      "outputs": [
        {
          "output_type": "stream",
          "text": [
            "[0.557057   0.53180116]\n"
          ],
          "name": "stdout"
        }
      ]
    }
  ]
}