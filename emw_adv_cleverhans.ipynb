{
  "nbformat": 4,
  "nbformat_minor": 0,
  "metadata": {
    "colab": {
      "name": "emw_adv_cleverhans.ipynb",
      "provenance": [],
      "collapsed_sections": [],
      "mount_file_id": "1wgNO1yTKrbVfZ3UQa58t3sp9agLyMqFe",
      "authorship_tag": "ABX9TyNx/Xkr9dD8JuEMxXDwDx7C",
      "include_colab_link": true
    },
    "kernelspec": {
      "name": "python3",
      "display_name": "Python 3"
    },
    "accelerator": "GPU"
  },
  "cells": [
    {
      "cell_type": "markdown",
      "metadata": {
        "id": "view-in-github",
        "colab_type": "text"
      },
      "source": [
        "<a href=\"https://colab.research.google.com/github/tangshuting/daytoy/blob/master/emw_adv_cleverhans.ipynb\" target=\"_parent\"><img src=\"https://colab.research.google.com/assets/colab-badge.svg\" alt=\"Open In Colab\"/></a>"
      ]
    },
    {
      "cell_type": "code",
      "metadata": {
        "id": "8rASxHfNpznI",
        "colab_type": "code",
        "colab": {}
      },
      "source": [
        "# 参考链接 https://github.com/andantillon/fgsm_attack_guides_tf2.0/blob/master/Cleverhans_FGSM_attack.ipynb"
      ],
      "execution_count": null,
      "outputs": []
    },
    {
      "cell_type": "code",
      "metadata": {
        "id": "QjXFVDKkMk1d",
        "colab_type": "code",
        "colab": {
          "base_uri": "https://localhost:8080/",
          "height": 866
        },
        "outputId": "514bd856-b10e-4fc2-8a65-a7fc6b11b1bc"
      },
      "source": [
        "pip install git+https://github.com/tensorflow/cleverhans.git#egg=cleverhans"
      ],
      "execution_count": null,
      "outputs": [
        {
          "output_type": "stream",
          "text": [
            "Collecting cleverhans\n",
            "  Cloning https://github.com/tensorflow/cleverhans.git to /tmp/pip-install-ps17shqn/cleverhans\n",
            "  Running command git clone -q https://github.com/tensorflow/cleverhans.git /tmp/pip-install-ps17shqn/cleverhans\n",
            "Collecting nose\n",
            "\u001b[?25l  Downloading https://files.pythonhosted.org/packages/15/d8/dd071918c040f50fa1cf80da16423af51ff8ce4a0f2399b7bf8de45ac3d9/nose-1.3.7-py3-none-any.whl (154kB)\n",
            "\u001b[K     |████████████████████████████████| 163kB 6.3MB/s \n",
            "\u001b[?25hCollecting pycodestyle\n",
            "\u001b[?25l  Downloading https://files.pythonhosted.org/packages/10/5b/88879fb861ab79aef45c7e199cae3ef7af487b5603dcb363517a50602dd7/pycodestyle-2.6.0-py2.py3-none-any.whl (41kB)\n",
            "\u001b[K     |████████████████████████████████| 51kB 4.2MB/s \n",
            "\u001b[?25hRequirement already satisfied: scipy in /usr/local/lib/python3.6/dist-packages (from cleverhans) (1.4.1)\n",
            "Requirement already satisfied: matplotlib in /usr/local/lib/python3.6/dist-packages (from cleverhans) (3.2.2)\n",
            "Collecting mnist~=0.2\n",
            "  Downloading https://files.pythonhosted.org/packages/c6/c4/5db3bfe009f8d71f1d532bbadbd0ec203764bba3a469e4703a889db8e5e0/mnist-0.2.2-py2.py3-none-any.whl\n",
            "Requirement already satisfied: numpy in /usr/local/lib/python3.6/dist-packages (from cleverhans) (1.18.5)\n",
            "Requirement already satisfied: tensorflow-probability in /usr/local/lib/python3.6/dist-packages (from cleverhans) (0.10.0)\n",
            "Requirement already satisfied: joblib in /usr/local/lib/python3.6/dist-packages (from cleverhans) (0.16.0)\n",
            "Requirement already satisfied: cycler>=0.10 in /usr/local/lib/python3.6/dist-packages (from matplotlib->cleverhans) (0.10.0)\n",
            "Requirement already satisfied: python-dateutil>=2.1 in /usr/local/lib/python3.6/dist-packages (from matplotlib->cleverhans) (2.8.1)\n",
            "Requirement already satisfied: pyparsing!=2.0.4,!=2.1.2,!=2.1.6,>=2.0.1 in /usr/local/lib/python3.6/dist-packages (from matplotlib->cleverhans) (2.4.7)\n",
            "Requirement already satisfied: kiwisolver>=1.0.1 in /usr/local/lib/python3.6/dist-packages (from matplotlib->cleverhans) (1.2.0)\n",
            "Requirement already satisfied: six>=1.10.0 in /usr/local/lib/python3.6/dist-packages (from tensorflow-probability->cleverhans) (1.15.0)\n",
            "Requirement already satisfied: gast>=0.3.2 in /usr/local/lib/python3.6/dist-packages (from tensorflow-probability->cleverhans) (0.3.3)\n",
            "Requirement already satisfied: decorator in /usr/local/lib/python3.6/dist-packages (from tensorflow-probability->cleverhans) (4.4.2)\n",
            "Requirement already satisfied: cloudpickle>=1.2.2 in /usr/local/lib/python3.6/dist-packages (from tensorflow-probability->cleverhans) (1.3.0)\n",
            "Building wheels for collected packages: cleverhans\n",
            "  Building wheel for cleverhans (setup.py) ... \u001b[?25l\u001b[?25hdone\n",
            "  Created wheel for cleverhans: filename=cleverhans-3.0.1-cp36-none-any.whl size=262573 sha256=dca4782f98b26c0b357c3ccba7a9e9dce9b8642b2e29dc161baaa78075f6bc07\n",
            "  Stored in directory: /tmp/pip-ephem-wheel-cache-rscev2mc/wheels/6e/59/ec/723a6f654aaf62c8c40f0f0850fdf71a4948598697f56c3bfa\n",
            "Successfully built cleverhans\n",
            "Installing collected packages: nose, pycodestyle, mnist, cleverhans\n",
            "Successfully installed cleverhans-3.0.1 mnist-0.2.2 nose-1.3.7 pycodestyle-2.6.0\n",
            "Requirement already satisfied: cleverhans from git+https://github.com/tensorflow/cleverhans.git#egg=cleverhans in /usr/local/lib/python3.6/dist-packages (3.0.1)\n",
            "Requirement already satisfied: mnist~=0.2 in /usr/local/lib/python3.6/dist-packages (from cleverhans) (0.2.2)\n",
            "Requirement already satisfied: nose in /usr/local/lib/python3.6/dist-packages (from cleverhans) (1.3.7)\n",
            "Requirement already satisfied: tensorflow-probability in /usr/local/lib/python3.6/dist-packages (from cleverhans) (0.10.0)\n",
            "Requirement already satisfied: scipy in /usr/local/lib/python3.6/dist-packages (from cleverhans) (1.4.1)\n",
            "Requirement already satisfied: joblib in /usr/local/lib/python3.6/dist-packages (from cleverhans) (0.16.0)\n",
            "Requirement already satisfied: numpy in /usr/local/lib/python3.6/dist-packages (from cleverhans) (1.18.5)\n",
            "Requirement already satisfied: matplotlib in /usr/local/lib/python3.6/dist-packages (from cleverhans) (3.2.2)\n",
            "Requirement already satisfied: pycodestyle in /usr/local/lib/python3.6/dist-packages (from cleverhans) (2.6.0)\n",
            "Requirement already satisfied: decorator in /usr/local/lib/python3.6/dist-packages (from tensorflow-probability->cleverhans) (4.4.2)\n",
            "Requirement already satisfied: cloudpickle>=1.2.2 in /usr/local/lib/python3.6/dist-packages (from tensorflow-probability->cleverhans) (1.3.0)\n",
            "Requirement already satisfied: six>=1.10.0 in /usr/local/lib/python3.6/dist-packages (from tensorflow-probability->cleverhans) (1.15.0)\n",
            "Requirement already satisfied: gast>=0.3.2 in /usr/local/lib/python3.6/dist-packages (from tensorflow-probability->cleverhans) (0.3.3)\n",
            "Requirement already satisfied: cycler>=0.10 in /usr/local/lib/python3.6/dist-packages (from matplotlib->cleverhans) (0.10.0)\n",
            "Requirement already satisfied: pyparsing!=2.0.4,!=2.1.2,!=2.1.6,>=2.0.1 in /usr/local/lib/python3.6/dist-packages (from matplotlib->cleverhans) (2.4.7)\n",
            "Requirement already satisfied: python-dateutil>=2.1 in /usr/local/lib/python3.6/dist-packages (from matplotlib->cleverhans) (2.8.1)\n",
            "Requirement already satisfied: kiwisolver>=1.0.1 in /usr/local/lib/python3.6/dist-packages (from matplotlib->cleverhans) (1.2.0)\n"
          ],
          "name": "stdout"
        }
      ]
    },
    {
      "cell_type": "code",
      "metadata": {
        "id": "SjMdp7UPNAwG",
        "colab_type": "code",
        "colab": {
          "base_uri": "https://localhost:8080/",
          "height": 158
        },
        "outputId": "6c29352a-136b-406d-da6d-2715bbe44198"
      },
      "source": [
        "import cleverhans\n",
        "import tensorflow as tf\n",
        "import numpy as np\n",
        "import pandas as pd\n",
        "import matplotlib.pyplot as plt\n",
        "\n",
        "print(\"\\nTensorflow Version: \" + tf.__version__)\n",
        "print(\"Cleverhans Version: \" + cleverhans.__version__)\n",
        "print(\"GPU Available: \", tf.test.is_gpu_available())"
      ],
      "execution_count": null,
      "outputs": [
        {
          "output_type": "stream",
          "text": [
            "\n",
            "Tensorflow Version: 2.2.0\n",
            "Cleverhans Version: 3.0.1-15447acccf2628751c1e44ee30e141ec\n",
            "WARNING:tensorflow:From <ipython-input-4-2d72235303ea>:9: is_gpu_available (from tensorflow.python.framework.test_util) is deprecated and will be removed in a future version.\n",
            "Instructions for updating:\n",
            "Use `tf.config.list_physical_devices('GPU')` instead.\n",
            "GPU Available:  False\n"
          ],
          "name": "stdout"
        }
      ]
    },
    {
      "cell_type": "code",
      "metadata": {
        "id": "DWf7G5eHNmuD",
        "colab_type": "code",
        "colab": {
          "base_uri": "https://localhost:8080/",
          "height": 69
        },
        "outputId": "a8608582-3f9e-4f30-99c5-fd48a8f01adf"
      },
      "source": [
        "import pickle\n",
        "from google.colab import drive\n",
        "drive.mount('/content/drive')\n",
        "f = open(r'/content/drive/My Drive/EMW/2016.04C.multisnr.pkl','rb') #open的参数是pkl文件的路径\n",
        "Xd = pickle.load(f,encoding='bytes')\n",
        "print(type(Xd))   # dict\n",
        "print(len(Xd))  #220=11（类别）×20（20个snr）\n",
        "snrs,mods = map(lambda j: sorted(list(set(map(lambda x: x[j], Xd.keys())))), [1,0])  # set()创建一个无序的不重复元素序列\n",
        "X = []\n",
        "lbl = []\n",
        "for mod in mods:\n",
        "    for snr in snrs:\n",
        "        X.append(Xd[(mod,snr)])\n",
        "        for i in range(Xd[(mod,snr)].shape[0]):  lbl.append((mod,snr)) # append末尾添加对象\n",
        "X = np.vstack(X)"
      ],
      "execution_count": null,
      "outputs": [
        {
          "output_type": "stream",
          "text": [
            "Drive already mounted at /content/drive; to attempt to forcibly remount, call drive.mount(\"/content/drive\", force_remount=True).\n",
            "<class 'dict'>\n",
            "220\n"
          ],
          "name": "stdout"
        }
      ]
    },
    {
      "cell_type": "code",
      "metadata": {
        "id": "EQUh8AkUhn6X",
        "colab_type": "code",
        "colab": {
          "base_uri": "https://localhost:8080/",
          "height": 69
        },
        "outputId": "6956acf6-48e3-4948-b61f-1bbacffcc8fb"
      },
      "source": [
        "print(mods)\n",
        "mods_str = []\n",
        "for i in mods:\n",
        "  mods_str.append(str(i).split('\\'')[1])\n",
        "print(mods_str)\n",
        "\n",
        "print(snrs)"
      ],
      "execution_count": null,
      "outputs": [
        {
          "output_type": "stream",
          "text": [
            "[b'8PSK', b'AM-DSB', b'AM-SSB', b'BPSK', b'CPFSK', b'GFSK', b'PAM4', b'QAM16', b'QAM64', b'QPSK', b'WBFM']\n",
            "['8PSK', 'AM-DSB', 'AM-SSB', 'BPSK', 'CPFSK', 'GFSK', 'PAM4', 'QAM16', 'QAM64', 'QPSK', 'WBFM']\n",
            "[-20, -18, -16, -14, -12, -10, -8, -6, -4, -2, 0, 2, 4, 6, 8, 10, 12, 14, 16, 18]\n"
          ],
          "name": "stdout"
        }
      ]
    },
    {
      "cell_type": "code",
      "metadata": {
        "id": "qdjQp15ZOIpt",
        "colab_type": "code",
        "colab": {
          "base_uri": "https://localhost:8080/",
          "height": 35
        },
        "outputId": "b93dd352-e616-490e-ebac-9fe819dcf38f"
      },
      "source": [
        "# 读取输入并划分训练集和测试集\n",
        "# np.random.seed(2016)\n",
        "n_examples = X.shape[0]  # int 162060\n",
        "n_train = n_examples * 0.5\n",
        "train_idx = np.random.choice(range(0,n_examples), size= int(n_train), replace=False)  # ndarray with shape (81030,)\n",
        "test_idx = list(set(range(0,n_examples))-set(train_idx))   # list (81030 items total)\n",
        "\n",
        "X_train = X[train_idx]  # ndarray with shape (81030, 2, 128)\n",
        "X_test =  X[test_idx]   # 同上\n",
        "print(X_train.shape)"
      ],
      "execution_count": null,
      "outputs": [
        {
          "output_type": "stream",
          "text": [
            "(81030, 2, 128)\n"
          ],
          "name": "stdout"
        }
      ]
    },
    {
      "cell_type": "code",
      "metadata": {
        "id": "zo6JS2O2kpr-",
        "colab_type": "code",
        "colab": {
          "base_uri": "https://localhost:8080/",
          "height": 131
        },
        "outputId": "fac27f75-7773-4937-ac10-b7c0ee09ec23"
      },
      "source": [
        "# 读取输出的两个标签形式\n",
        "# Y_two = "
      ],
      "execution_count": null,
      "outputs": [
        {
          "output_type": "error",
          "ename": "SyntaxError",
          "evalue": "ignored",
          "traceback": [
            "\u001b[0;36m  File \u001b[0;32m\"<ipython-input-10-5676ad5bab73>\"\u001b[0;36m, line \u001b[0;32m2\u001b[0m\n\u001b[0;31m    Y_two =\u001b[0m\n\u001b[0m            ^\u001b[0m\n\u001b[0;31mSyntaxError\u001b[0m\u001b[0;31m:\u001b[0m invalid syntax\n"
          ]
        }
      ]
    },
    {
      "cell_type": "code",
      "metadata": {
        "id": "2yZOu-xOdg_K",
        "colab_type": "code",
        "colab": {
          "base_uri": "https://localhost:8080/",
          "height": 432
        },
        "outputId": "aaf5c87a-b3cc-4e17-e96b-7b0809fde125"
      },
      "source": [
        "# print(lbl.shape) # AttributeError: 'list' object has no attribute 'shape' 解决办法是使用vstack函数\n",
        "lbl_no = np.vstack(lbl)  # 这一步骤没必要，因为可以直接使用lbl去取出来调制方式\n",
        "print(lbl_no)  # ndarray with shape (162060, 2)  [b'8PSK' b'-20']\n",
        "\n",
        "lbl_mods = lbl_no[0]\n",
        "print(lbl_mods)\n",
        "\n",
        "\n",
        "Y_train_no = list(map(lambda x: mods.index(lbl[x][0]), train_idx))  # 显示的是1-11数字表示调制方式list (81030 items total)\n",
        "print(Y_train_no[1])\n",
        "Y_train_mods = np.vstack(Y_train_no)  # # ndarray with shape (81030, 1)\n",
        "\n",
        "Y_test_no = list(map(lambda x: mods.index(lbl[x][0]), test_idx))  \n",
        "Y_test_no = np.vstack(Y_test_no) \n",
        "print(Y_test_no)\n",
        "\n",
        "Y_train_mod = lbl_no[:,0]\n",
        "Y_train_mod_vsatck = np.vstack(Y_train_mod)  # 字幕显示调制方式\n",
        "print(Y_train_mod_vsatck)\n",
        "\n",
        "Y_train_snrs = list(map(lambda x: snrs.index(lbl[x][1]), train_idx))\n",
        "# print(Y_train_snrs)\n",
        "Y_train_snrs = np.vstack(Y_train_snrs)  \n",
        "Y_test_snrs = list(map(lambda x: snrs.index(lbl[x][1]), test_idx))\n",
        "print(Y_test_snrs[1])\n",
        "Y_test_snrs = np.vstack(Y_test_snrs)  "
      ],
      "execution_count": null,
      "outputs": [
        {
          "output_type": "stream",
          "text": [
            "[[b'8PSK' b'-20']\n",
            " [b'8PSK' b'-20']\n",
            " [b'8PSK' b'-20']\n",
            " ...\n",
            " [b'WBFM' b'18']\n",
            " [b'WBFM' b'18']\n",
            " [b'WBFM' b'18']]\n",
            "[b'8PSK' b'-20']\n",
            "10\n",
            "[[0]\n",
            " [0]\n",
            " [8]\n",
            " ...\n",
            " [8]\n",
            " [8]\n",
            " [8]]\n",
            "[[b'8PSK']\n",
            " [b'8PSK']\n",
            " [b'8PSK']\n",
            " ...\n",
            " [b'WBFM']\n",
            " [b'WBFM']\n",
            " [b'WBFM']]\n",
            "0\n"
          ],
          "name": "stdout"
        }
      ]
    },
    {
      "cell_type": "code",
      "metadata": {
        "id": "ClV7UOpDPto8",
        "colab_type": "code",
        "colab": {}
      },
      "source": [
        "def to_onehot(yy):\n",
        "    yy1 = np.zeros([len(yy), max(yy)+1])\n",
        "    yy1[np.arange(len(yy)),yy] = 1\n",
        "    return yy1\n",
        "Y_train = to_onehot(list(map(lambda x: mods.index(lbl[x][0]), train_idx)))\n",
        "Y_test = to_onehot(list(map(lambda x: mods.index(lbl[x][0]), test_idx)))  # ndarray with shape (81030, 11)"
      ],
      "execution_count": null,
      "outputs": []
    },
    {
      "cell_type": "code",
      "metadata": {
        "id": "WbwKifiTP1qE",
        "colab_type": "code",
        "colab": {
          "base_uri": "https://localhost:8080/",
          "height": 35
        },
        "outputId": "639da0e9-099f-4ba4-e7be-8f11fce86f13"
      },
      "source": [
        "in_shp = list(X_train.shape[1:])   # list [2, 128]\n",
        "\n",
        "classes = mods  # list [b'8PSK', b'AM-DSB', b'AM-SSB', b'BPSK', b'CPFSK', b'GFSK', b'PAM4', b'QAM16', b'QAM64', b'QPSK', b'WBFM'] (11 items total)\n",
        "\n",
        "mods_str = []\n",
        "for i in mods:\n",
        "  mods_str.append(str(i).split('\\'')[1])\n",
        "print(mods_str)   # list ['8PSK', 'AM-DSB', 'AM-SSB', 'BPSK', 'CPFSK', 'GFSK', 'PAM4', 'QAM16', 'QAM64', 'QPSK', 'WBFM']\n",
        "# print(Y_train[1])  # [0. 0. 0. 0. 0. 0. 0. 0. 0. 0. 1.]\n",
        "# print(Y_train.shape)  # ndarray with shape (81030, 11)"
      ],
      "execution_count": null,
      "outputs": [
        {
          "output_type": "stream",
          "text": [
            "['8PSK', 'AM-DSB', 'AM-SSB', 'BPSK', 'CPFSK', 'GFSK', 'PAM4', 'QAM16', 'QAM64', 'QPSK', 'WBFM']\n"
          ],
          "name": "stdout"
        }
      ]
    },
    {
      "cell_type": "code",
      "metadata": {
        "id": "JiiV6y2YQ16V",
        "colab_type": "code",
        "colab": {}
      },
      "source": [
        "num_classes = 11\n",
        "\n",
        "model = tf.keras.Sequential([\n",
        "    tf.keras.layers.Dense(128, input_shape=in_shp),\n",
        "    tf.keras.layers.Flatten(),\n",
        "    tf.keras.layers.Dense(512,activation=tf.nn.relu),\n",
        "    tf.keras.layers.Dropout(0.2),\n",
        "    tf.keras.layers.Dense(135,activation=tf.nn.relu),\n",
        "    tf.keras.layers.Dense(11),\n",
        "    tf.keras.layers.Activation(tf.nn.softmax) # We seperate the activation layer to be able to access the logits of the previous layer later\n",
        "])\n",
        "\n",
        "model.compile(optimizer='adam',\n",
        "              loss= 'categorical_crossentropy',\n",
        "              metrics=['accuracy'])\n",
        "# model.summary()"
      ],
      "execution_count": null,
      "outputs": []
    },
    {
      "cell_type": "code",
      "metadata": {
        "id": "NyKeILzRTYD7",
        "colab_type": "code",
        "colab": {
          "base_uri": "https://localhost:8080/",
          "height": 1000
        },
        "outputId": "942a856b-c96f-4313-d6e3-9755c52fe600"
      },
      "source": [
        "nb_epoch = 100    # number of epochs to train on\n",
        "batch_size = 1024  # training batch size\n",
        "model.fit(X_train, Y_train, batch_size=batch_size, epochs=nb_epoch, verbose=2, validation_split=0.2)\n",
        "# model.fit(X_train, Y_train,  epochs=nb_epoch, verbose=2, validation_split=0.2)\n",
        "\n",
        "test_loss, test_acc = model.evaluate(X_test, Y_test)\n",
        "print('Test accuracy:', test_acc)"
      ],
      "execution_count": null,
      "outputs": [
        {
          "output_type": "stream",
          "text": [
            "Epoch 1/100\n",
            "64/64 - 2s - loss: 4.3794 - accuracy: 0.1675 - val_loss: 2.2853 - val_accuracy: 0.1910\n",
            "Epoch 2/100\n",
            "64/64 - 2s - loss: 2.2483 - accuracy: 0.1933 - val_loss: 2.2037 - val_accuracy: 0.1922\n",
            "Epoch 3/100\n",
            "64/64 - 2s - loss: 2.1837 - accuracy: 0.2029 - val_loss: 2.1582 - val_accuracy: 0.2438\n",
            "Epoch 4/100\n",
            "64/64 - 2s - loss: 2.1316 - accuracy: 0.2564 - val_loss: 2.1082 - val_accuracy: 0.2816\n",
            "Epoch 5/100\n",
            "64/64 - 2s - loss: 2.0815 - accuracy: 0.2923 - val_loss: 2.0554 - val_accuracy: 0.3040\n",
            "Epoch 6/100\n",
            "64/64 - 2s - loss: 2.0105 - accuracy: 0.3056 - val_loss: 1.9697 - val_accuracy: 0.3039\n",
            "Epoch 7/100\n",
            "64/64 - 3s - loss: 1.9024 - accuracy: 0.3104 - val_loss: 1.8432 - val_accuracy: 0.3364\n",
            "Epoch 8/100\n",
            "64/64 - 3s - loss: 1.7837 - accuracy: 0.3541 - val_loss: 1.7306 - val_accuracy: 0.3731\n",
            "Epoch 9/100\n",
            "64/64 - 2s - loss: 1.6853 - accuracy: 0.3838 - val_loss: 1.6460 - val_accuracy: 0.3986\n",
            "Epoch 10/100\n",
            "64/64 - 2s - loss: 1.6041 - accuracy: 0.4116 - val_loss: 1.5713 - val_accuracy: 0.4264\n",
            "Epoch 11/100\n",
            "64/64 - 2s - loss: 1.5164 - accuracy: 0.4378 - val_loss: 1.4689 - val_accuracy: 0.4544\n",
            "Epoch 12/100\n",
            "64/64 - 2s - loss: 1.4296 - accuracy: 0.4631 - val_loss: 1.3936 - val_accuracy: 0.4837\n",
            "Epoch 13/100\n",
            "64/64 - 2s - loss: 1.3630 - accuracy: 0.4893 - val_loss: 1.3358 - val_accuracy: 0.5016\n",
            "Epoch 14/100\n",
            "64/64 - 2s - loss: 1.3133 - accuracy: 0.5048 - val_loss: 1.2954 - val_accuracy: 0.5143\n",
            "Epoch 15/100\n",
            "64/64 - 2s - loss: 1.2745 - accuracy: 0.5189 - val_loss: 1.2708 - val_accuracy: 0.5267\n",
            "Epoch 16/100\n",
            "64/64 - 2s - loss: 1.2462 - accuracy: 0.5285 - val_loss: 1.2465 - val_accuracy: 0.5323\n",
            "Epoch 17/100\n",
            "64/64 - 2s - loss: 1.2179 - accuracy: 0.5363 - val_loss: 1.2251 - val_accuracy: 0.5392\n",
            "Epoch 18/100\n",
            "64/64 - 2s - loss: 1.1912 - accuracy: 0.5463 - val_loss: 1.2111 - val_accuracy: 0.5416\n",
            "Epoch 19/100\n",
            "64/64 - 2s - loss: 1.1706 - accuracy: 0.5543 - val_loss: 1.2034 - val_accuracy: 0.5438\n",
            "Epoch 20/100\n",
            "64/64 - 2s - loss: 1.1540 - accuracy: 0.5578 - val_loss: 1.1873 - val_accuracy: 0.5491\n",
            "Epoch 21/100\n",
            "64/64 - 2s - loss: 1.1435 - accuracy: 0.5634 - val_loss: 1.1762 - val_accuracy: 0.5555\n",
            "Epoch 22/100\n",
            "64/64 - 2s - loss: 1.1230 - accuracy: 0.5705 - val_loss: 1.1641 - val_accuracy: 0.5608\n",
            "Epoch 23/100\n",
            "64/64 - 2s - loss: 1.1070 - accuracy: 0.5775 - val_loss: 1.1631 - val_accuracy: 0.5642\n",
            "Epoch 24/100\n",
            "64/64 - 2s - loss: 1.0966 - accuracy: 0.5798 - val_loss: 1.1571 - val_accuracy: 0.5661\n",
            "Epoch 25/100\n",
            "64/64 - 2s - loss: 1.0787 - accuracy: 0.5874 - val_loss: 1.1420 - val_accuracy: 0.5711\n",
            "Epoch 26/100\n",
            "64/64 - 2s - loss: 1.0633 - accuracy: 0.5954 - val_loss: 1.1283 - val_accuracy: 0.5808\n",
            "Epoch 27/100\n",
            "64/64 - 2s - loss: 1.0461 - accuracy: 0.6048 - val_loss: 1.1168 - val_accuracy: 0.5826\n",
            "Epoch 28/100\n",
            "64/64 - 2s - loss: 1.0236 - accuracy: 0.6110 - val_loss: 1.0981 - val_accuracy: 0.5928\n",
            "Epoch 29/100\n",
            "64/64 - 2s - loss: 1.0115 - accuracy: 0.6155 - val_loss: 1.0960 - val_accuracy: 0.5895\n",
            "Epoch 30/100\n",
            "64/64 - 2s - loss: 1.0018 - accuracy: 0.6191 - val_loss: 1.0879 - val_accuracy: 0.5970\n",
            "Epoch 31/100\n",
            "64/64 - 2s - loss: 1.0009 - accuracy: 0.6230 - val_loss: 1.0913 - val_accuracy: 0.5904\n",
            "Epoch 32/100\n",
            "64/64 - 2s - loss: 0.9862 - accuracy: 0.6255 - val_loss: 1.0916 - val_accuracy: 0.5974\n",
            "Epoch 33/100\n",
            "64/64 - 2s - loss: 0.9810 - accuracy: 0.6283 - val_loss: 1.0783 - val_accuracy: 0.6013\n",
            "Epoch 34/100\n",
            "64/64 - 2s - loss: 0.9659 - accuracy: 0.6307 - val_loss: 1.0802 - val_accuracy: 0.5970\n",
            "Epoch 35/100\n",
            "64/64 - 2s - loss: 0.9583 - accuracy: 0.6357 - val_loss: 1.0762 - val_accuracy: 0.6027\n",
            "Epoch 36/100\n",
            "64/64 - 2s - loss: 0.9502 - accuracy: 0.6384 - val_loss: 1.0679 - val_accuracy: 0.5983\n",
            "Epoch 37/100\n",
            "64/64 - 2s - loss: 0.9390 - accuracy: 0.6411 - val_loss: 1.0759 - val_accuracy: 0.6006\n",
            "Epoch 38/100\n",
            "64/64 - 2s - loss: 0.9317 - accuracy: 0.6467 - val_loss: 1.0732 - val_accuracy: 0.6050\n",
            "Epoch 39/100\n",
            "64/64 - 2s - loss: 0.9178 - accuracy: 0.6507 - val_loss: 1.0505 - val_accuracy: 0.6032\n",
            "Epoch 40/100\n",
            "64/64 - 2s - loss: 0.9136 - accuracy: 0.6534 - val_loss: 1.0468 - val_accuracy: 0.6108\n",
            "Epoch 41/100\n",
            "64/64 - 2s - loss: 0.9063 - accuracy: 0.6554 - val_loss: 1.0422 - val_accuracy: 0.6138\n",
            "Epoch 42/100\n",
            "64/64 - 2s - loss: 0.8883 - accuracy: 0.6622 - val_loss: 1.0516 - val_accuracy: 0.6150\n",
            "Epoch 43/100\n",
            "64/64 - 2s - loss: 0.8834 - accuracy: 0.6644 - val_loss: 1.0525 - val_accuracy: 0.6100\n",
            "Epoch 44/100\n",
            "64/64 - 2s - loss: 0.8816 - accuracy: 0.6665 - val_loss: 1.0538 - val_accuracy: 0.6169\n",
            "Epoch 45/100\n",
            "64/64 - 2s - loss: 0.8784 - accuracy: 0.6651 - val_loss: 1.0487 - val_accuracy: 0.6171\n",
            "Epoch 46/100\n",
            "64/64 - 2s - loss: 0.8792 - accuracy: 0.6664 - val_loss: 1.0409 - val_accuracy: 0.6162\n",
            "Epoch 47/100\n",
            "64/64 - 2s - loss: 0.8654 - accuracy: 0.6711 - val_loss: 1.0369 - val_accuracy: 0.6213\n",
            "Epoch 48/100\n",
            "64/64 - 2s - loss: 0.8599 - accuracy: 0.6720 - val_loss: 1.0417 - val_accuracy: 0.6207\n",
            "Epoch 49/100\n",
            "64/64 - 2s - loss: 0.8546 - accuracy: 0.6727 - val_loss: 1.0407 - val_accuracy: 0.6169\n",
            "Epoch 50/100\n",
            "64/64 - 2s - loss: 0.8525 - accuracy: 0.6756 - val_loss: 1.0385 - val_accuracy: 0.6117\n",
            "Epoch 51/100\n",
            "64/64 - 2s - loss: 0.8494 - accuracy: 0.6781 - val_loss: 1.0592 - val_accuracy: 0.6237\n",
            "Epoch 52/100\n",
            "64/64 - 2s - loss: 0.8418 - accuracy: 0.6808 - val_loss: 1.0480 - val_accuracy: 0.6212\n",
            "Epoch 53/100\n",
            "64/64 - 2s - loss: 0.8423 - accuracy: 0.6807 - val_loss: 1.0507 - val_accuracy: 0.6205\n",
            "Epoch 54/100\n",
            "64/64 - 2s - loss: 0.8366 - accuracy: 0.6831 - val_loss: 1.0461 - val_accuracy: 0.6234\n",
            "Epoch 55/100\n",
            "64/64 - 2s - loss: 0.8314 - accuracy: 0.6836 - val_loss: 1.0575 - val_accuracy: 0.6221\n",
            "Epoch 56/100\n",
            "64/64 - 2s - loss: 0.8311 - accuracy: 0.6867 - val_loss: 1.0595 - val_accuracy: 0.6155\n",
            "Epoch 57/100\n",
            "64/64 - 2s - loss: 0.8334 - accuracy: 0.6847 - val_loss: 1.0587 - val_accuracy: 0.6242\n",
            "Epoch 58/100\n",
            "64/64 - 2s - loss: 0.8231 - accuracy: 0.6868 - val_loss: 1.0504 - val_accuracy: 0.6207\n",
            "Epoch 59/100\n",
            "64/64 - 2s - loss: 0.8184 - accuracy: 0.6892 - val_loss: 1.0663 - val_accuracy: 0.6248\n",
            "Epoch 60/100\n",
            "64/64 - 2s - loss: 0.8154 - accuracy: 0.6895 - val_loss: 1.0745 - val_accuracy: 0.6229\n",
            "Epoch 61/100\n",
            "64/64 - 2s - loss: 0.8054 - accuracy: 0.6932 - val_loss: 1.0720 - val_accuracy: 0.6292\n",
            "Epoch 62/100\n",
            "64/64 - 2s - loss: 0.8017 - accuracy: 0.6943 - val_loss: 1.0648 - val_accuracy: 0.6225\n",
            "Epoch 63/100\n",
            "64/64 - 2s - loss: 0.8066 - accuracy: 0.6950 - val_loss: 1.0642 - val_accuracy: 0.6255\n",
            "Epoch 64/100\n",
            "64/64 - 2s - loss: 0.8085 - accuracy: 0.6967 - val_loss: 1.0643 - val_accuracy: 0.6175\n",
            "Epoch 65/100\n",
            "64/64 - 2s - loss: 0.8041 - accuracy: 0.6963 - val_loss: 1.0740 - val_accuracy: 0.6247\n",
            "Epoch 66/100\n",
            "64/64 - 2s - loss: 0.7966 - accuracy: 0.6991 - val_loss: 1.0793 - val_accuracy: 0.6138\n",
            "Epoch 67/100\n",
            "64/64 - 2s - loss: 0.8012 - accuracy: 0.6969 - val_loss: 1.0884 - val_accuracy: 0.6190\n",
            "Epoch 68/100\n",
            "64/64 - 2s - loss: 0.7982 - accuracy: 0.6979 - val_loss: 1.0810 - val_accuracy: 0.6200\n",
            "Epoch 69/100\n",
            "64/64 - 2s - loss: 0.7883 - accuracy: 0.7011 - val_loss: 1.0726 - val_accuracy: 0.6238\n",
            "Epoch 70/100\n",
            "64/64 - 2s - loss: 0.7891 - accuracy: 0.7006 - val_loss: 1.0848 - val_accuracy: 0.6211\n",
            "Epoch 71/100\n",
            "64/64 - 2s - loss: 0.7808 - accuracy: 0.7045 - val_loss: 1.0781 - val_accuracy: 0.6219\n",
            "Epoch 72/100\n",
            "64/64 - 2s - loss: 0.7784 - accuracy: 0.7043 - val_loss: 1.0853 - val_accuracy: 0.6241\n",
            "Epoch 73/100\n",
            "64/64 - 2s - loss: 0.7755 - accuracy: 0.7083 - val_loss: 1.0733 - val_accuracy: 0.6259\n",
            "Epoch 74/100\n",
            "64/64 - 2s - loss: 0.7699 - accuracy: 0.7095 - val_loss: 1.0716 - val_accuracy: 0.6275\n",
            "Epoch 75/100\n",
            "64/64 - 2s - loss: 0.7730 - accuracy: 0.7090 - val_loss: 1.0811 - val_accuracy: 0.6232\n",
            "Epoch 76/100\n",
            "64/64 - 2s - loss: 0.7627 - accuracy: 0.7105 - val_loss: 1.0982 - val_accuracy: 0.6233\n",
            "Epoch 77/100\n",
            "64/64 - 2s - loss: 0.7597 - accuracy: 0.7128 - val_loss: 1.1018 - val_accuracy: 0.6194\n",
            "Epoch 78/100\n",
            "64/64 - 2s - loss: 0.7648 - accuracy: 0.7108 - val_loss: 1.1139 - val_accuracy: 0.6163\n",
            "Epoch 79/100\n",
            "64/64 - 2s - loss: 0.7681 - accuracy: 0.7102 - val_loss: 1.0929 - val_accuracy: 0.6233\n",
            "Epoch 80/100\n",
            "64/64 - 2s - loss: 0.7636 - accuracy: 0.7132 - val_loss: 1.0897 - val_accuracy: 0.6218\n",
            "Epoch 81/100\n",
            "64/64 - 2s - loss: 0.7596 - accuracy: 0.7128 - val_loss: 1.0999 - val_accuracy: 0.6219\n",
            "Epoch 82/100\n",
            "64/64 - 2s - loss: 0.7587 - accuracy: 0.7126 - val_loss: 1.1067 - val_accuracy: 0.6226\n",
            "Epoch 83/100\n",
            "64/64 - 2s - loss: 0.7560 - accuracy: 0.7148 - val_loss: 1.0934 - val_accuracy: 0.6232\n",
            "Epoch 84/100\n",
            "64/64 - 2s - loss: 0.7557 - accuracy: 0.7151 - val_loss: 1.0999 - val_accuracy: 0.6201\n",
            "Epoch 85/100\n",
            "64/64 - 2s - loss: 0.7595 - accuracy: 0.7158 - val_loss: 1.1136 - val_accuracy: 0.6224\n",
            "Epoch 86/100\n",
            "64/64 - 2s - loss: 0.7529 - accuracy: 0.7167 - val_loss: 1.1185 - val_accuracy: 0.6201\n",
            "Epoch 87/100\n",
            "64/64 - 2s - loss: 0.7576 - accuracy: 0.7146 - val_loss: 1.1280 - val_accuracy: 0.6198\n",
            "Epoch 88/100\n",
            "64/64 - 2s - loss: 0.7425 - accuracy: 0.7179 - val_loss: 1.1286 - val_accuracy: 0.6206\n",
            "Epoch 89/100\n",
            "64/64 - 2s - loss: 0.7375 - accuracy: 0.7210 - val_loss: 1.1295 - val_accuracy: 0.6167\n",
            "Epoch 90/100\n",
            "64/64 - 2s - loss: 0.7386 - accuracy: 0.7203 - val_loss: 1.1363 - val_accuracy: 0.6203\n",
            "Epoch 91/100\n",
            "64/64 - 2s - loss: 0.7415 - accuracy: 0.7216 - val_loss: 1.1384 - val_accuracy: 0.6221\n",
            "Epoch 92/100\n",
            "64/64 - 2s - loss: 0.7343 - accuracy: 0.7235 - val_loss: 1.1476 - val_accuracy: 0.6216\n",
            "Epoch 93/100\n",
            "64/64 - 2s - loss: 0.7383 - accuracy: 0.7235 - val_loss: 1.1294 - val_accuracy: 0.6208\n",
            "Epoch 94/100\n",
            "64/64 - 2s - loss: 0.7238 - accuracy: 0.7260 - val_loss: 1.1547 - val_accuracy: 0.6219\n",
            "Epoch 95/100\n",
            "64/64 - 2s - loss: 0.7239 - accuracy: 0.7305 - val_loss: 1.1270 - val_accuracy: 0.6221\n",
            "Epoch 96/100\n",
            "64/64 - 2s - loss: 0.7199 - accuracy: 0.7284 - val_loss: 1.1424 - val_accuracy: 0.6127\n",
            "Epoch 97/100\n",
            "64/64 - 2s - loss: 0.7243 - accuracy: 0.7264 - val_loss: 1.1542 - val_accuracy: 0.6220\n",
            "Epoch 98/100\n",
            "64/64 - 2s - loss: 0.7202 - accuracy: 0.7291 - val_loss: 1.1323 - val_accuracy: 0.6164\n",
            "Epoch 99/100\n",
            "64/64 - 2s - loss: 0.7209 - accuracy: 0.7283 - val_loss: 1.1617 - val_accuracy: 0.6184\n",
            "Epoch 100/100\n",
            "64/64 - 2s - loss: 0.7133 - accuracy: 0.7310 - val_loss: 1.1616 - val_accuracy: 0.6203\n",
            "2533/2533 [==============================] - 4s 2ms/step - loss: 1.1531 - accuracy: 0.6219\n",
            "Test accuracy: 0.6218931078910828\n"
          ],
          "name": "stdout"
        }
      ]
    },
    {
      "cell_type": "code",
      "metadata": {
        "id": "G1uptg2TXrMY",
        "colab_type": "code",
        "colab": {}
      },
      "source": [
        "# Import the attack\n",
        "from cleverhans.future.tf2.attacks import fast_gradient_method\n",
        "\n",
        "#The attack requires the model to ouput the logits\n",
        "logits_model = tf.keras.Model(model.input,model.layers[-1].output)"
      ],
      "execution_count": null,
      "outputs": []
    },
    {
      "cell_type": "code",
      "metadata": {
        "id": "41ZOW3_oXyqv",
        "colab_type": "code",
        "colab": {
          "base_uri": "https://localhost:8080/",
          "height": 252
        },
        "outputId": "988d1d81-5f0f-4523-9e45-84f487fd00f0"
      },
      "source": [
        "# 现在是随机选择一个无线电信号，后面重新固定SNR和调制方式进行选择\n",
        "# random_index = np.random.randint(X_test.shape[0])\n",
        "original_image = X_test[random_index] # EagerTensor with shape (1, 2, 128)\n",
        "original_image = tf.convert_to_tensor(original_image.reshape((1,2,128))) #The .reshape just gives it the proper form to input into the model, a batch of 1 a.k.a a tensor\n",
        "\n",
        "original_label = Y_test_no[random_index]\n",
        "original_label = np.reshape(original_label, (1,)).astype('int64')\n",
        "\n",
        "#Show the image\n",
        "plt.figure()\n",
        "plt.grid(False)\n",
        "original_image_plt = np.reshape(original_image, (2,128))\n",
        "real = original_image_plt[0]  #取（2，128）的行\n",
        "imag = original_image_plt[1]\n",
        "# plt.axis([-1, 1, -1, 1])\n",
        "plt.plot(real,label='real')\n",
        "plt.plot(imag,label='imag')\n",
        "# plt.imshow(np.reshape(original_image, (2,128)))\n",
        "plt.title(\"Label: {}\".format(original_label[0]))\n",
        "plt.legend()  #设置 legend 图例"
      ],
      "execution_count": null,
      "outputs": [
        {
          "output_type": "error",
          "ename": "NameError",
          "evalue": "ignored",
          "traceback": [
            "\u001b[0;31m---------------------------------------------------------------------------\u001b[0m",
            "\u001b[0;31mNameError\u001b[0m                                 Traceback (most recent call last)",
            "\u001b[0;32m<ipython-input-17-cd81f643e1b3>\u001b[0m in \u001b[0;36m<module>\u001b[0;34m()\u001b[0m\n\u001b[1;32m      1\u001b[0m \u001b[0;31m# 现在是随机选择一个无线电信号，后面重新固定SNR和调制方式进行选择\u001b[0m\u001b[0;34m\u001b[0m\u001b[0;34m\u001b[0m\u001b[0;34m\u001b[0m\u001b[0m\n\u001b[1;32m      2\u001b[0m \u001b[0;31m# random_index = np.random.randint(X_test.shape[0])\u001b[0m\u001b[0;34m\u001b[0m\u001b[0;34m\u001b[0m\u001b[0;34m\u001b[0m\u001b[0m\n\u001b[0;32m----> 3\u001b[0;31m \u001b[0moriginal_image\u001b[0m \u001b[0;34m=\u001b[0m \u001b[0mX_test\u001b[0m\u001b[0;34m[\u001b[0m\u001b[0mrandom_index\u001b[0m\u001b[0;34m]\u001b[0m \u001b[0;31m# EagerTensor with shape (1, 2, 128)\u001b[0m\u001b[0;34m\u001b[0m\u001b[0;34m\u001b[0m\u001b[0m\n\u001b[0m\u001b[1;32m      4\u001b[0m \u001b[0moriginal_image\u001b[0m \u001b[0;34m=\u001b[0m \u001b[0mtf\u001b[0m\u001b[0;34m.\u001b[0m\u001b[0mconvert_to_tensor\u001b[0m\u001b[0;34m(\u001b[0m\u001b[0moriginal_image\u001b[0m\u001b[0;34m.\u001b[0m\u001b[0mreshape\u001b[0m\u001b[0;34m(\u001b[0m\u001b[0;34m(\u001b[0m\u001b[0;36m1\u001b[0m\u001b[0;34m,\u001b[0m\u001b[0;36m2\u001b[0m\u001b[0;34m,\u001b[0m\u001b[0;36m128\u001b[0m\u001b[0;34m)\u001b[0m\u001b[0;34m)\u001b[0m\u001b[0;34m)\u001b[0m \u001b[0;31m#The .reshape just gives it the proper form to input into the model, a batch of 1 a.k.a a tensor\u001b[0m\u001b[0;34m\u001b[0m\u001b[0;34m\u001b[0m\u001b[0m\n\u001b[1;32m      5\u001b[0m \u001b[0;34m\u001b[0m\u001b[0m\n",
            "\u001b[0;31mNameError\u001b[0m: name 'random_index' is not defined"
          ]
        }
      ]
    },
    {
      "cell_type": "code",
      "metadata": {
        "id": "TtRpkSVmZmM6",
        "colab_type": "code",
        "colab": {}
      },
      "source": [
        "epsilon = 10\n",
        "\n",
        "adv_example_untargeted_label = fast_gradient_method(logits_model, original_image, epsilon, np.inf, targeted=False)  # EagerTensor with shape (1, 2, 128)\n",
        "example_untargeted_pred = model.predict(original_image) \n",
        "adv_example_untargeted_label_pred = model.predict(adv_example_untargeted_label)  # ndarray with shape (1, 11) 给出了11个概率\n",
        "\n",
        "# print(adv_example_untargeted_label.shape)\n",
        "print(np.argmax(example_untargeted_pred),example_untargeted_pred)\n",
        "print(np.argmax(adv_example_untargeted_label_pred),adv_example_untargeted_label_pred)"
      ],
      "execution_count": null,
      "outputs": []
    },
    {
      "cell_type": "code",
      "metadata": {
        "id": "J-v382yTiTtg",
        "colab_type": "code",
        "colab": {}
      },
      "source": [
        "\n",
        "#Show the image\n",
        "plt.figure()\n",
        "plt.grid(False)\n",
        "\n",
        "adv_example_untargeted_label_plt = np.reshape(adv_example_untargeted_label, (2,128))\n",
        "real_adv = adv_example_untargeted_label_plt[0]  #取（2，128）的行\n",
        "imag_adv = adv_example_untargeted_label_plt[1]\n",
        "# plt.axis([-1, 1, -1, 1])\n",
        "\n",
        "plt.plot(real_adv,label='real_adv')\n",
        "plt.plot(imag_adv,label='imag_adv')\n",
        "\n",
        "plt.title(\"Model Prediction: {}\".format(np.argmax(adv_example_untargeted_label_pred)))\n",
        "plt.xlabel(\"Original Label: {}\".format(original_label[0]))\n",
        "plt.legend()  #设置 legend 图例\n",
        "plt.show()"
      ],
      "execution_count": null,
      "outputs": []
    },
    {
      "cell_type": "code",
      "metadata": {
        "id": "kQXiUOHTjARs",
        "colab_type": "code",
        "colab": {}
      },
      "source": [
        "plt.figure()\n",
        "plt.plot(real,label='real')\n",
        "plt.plot(real_adv,label='real_adv')\n",
        "plt.title(\"real\")\n",
        "plt.legend()  #设置 legend 图例\n",
        "plt.figure()\n",
        "plt.plot(imag,label='imag')\n",
        "plt.plot(imag_adv,label='imag_adv')\n",
        "plt.title(\"imag\")\n",
        "\n",
        "plt.legend()  #设置 legend 图例"
      ],
      "execution_count": null,
      "outputs": []
    },
    {
      "cell_type": "code",
      "metadata": {
        "id": "saQftmuxiCid",
        "colab_type": "code",
        "colab": {}
      },
      "source": [
        ""
      ],
      "execution_count": null,
      "outputs": []
    },
    {
      "cell_type": "code",
      "metadata": {
        "id": "_A_9Fy1eiCu4",
        "colab_type": "code",
        "colab": {}
      },
      "source": [
        ""
      ],
      "execution_count": null,
      "outputs": []
    },
    {
      "cell_type": "code",
      "metadata": {
        "id": "-inQjTSSiC0C",
        "colab_type": "code",
        "colab": {
          "base_uri": "https://localhost:8080/",
          "height": 35
        },
        "outputId": "786f8009-1445-4597-e560-70e947e43108"
      },
      "source": [
        "# 选择不同参数和不同输入数据进行比较结果\n",
        "random_index = 2222\n",
        "print(Y_test[random_index],Y_test_no[random_index],Y_test_snrs[random_index])"
      ],
      "execution_count": null,
      "outputs": [
        {
          "output_type": "stream",
          "text": [
            "[1. 0. 0. 0. 0. 0. 0. 0. 0. 0. 0.] [0] [5]\n"
          ],
          "name": "stdout"
        }
      ]
    },
    {
      "cell_type": "code",
      "metadata": {
        "id": "RUpQSr6rmma3",
        "colab_type": "code",
        "colab": {}
      },
      "source": [
        "# snr_10 = 10\n",
        "# random_index = np.random.randint(X_test.shape[0])\n",
        "# -20 -18 0 2 4 6.....\n",
        "\n",
        "original_image = X_test[random_index] # EagerTensor with shape (1, 2, 128)\n",
        "# plt.figure()\n",
        "# real = original_image_plt[0]  #取（2，128）的行\n",
        "# imag = original_image_plt[1]\n",
        "# # plt.axis([-1, 1, -1, 1])\n",
        "# plt.plot(real,label='real')\n",
        "# plt.plot(imag,label='imag')\n",
        "\n",
        "original_image = tf.convert_to_tensor(original_image.reshape((1,2,128))) #The .reshape just gives it the proper form to input into the model, a batch of 1 a.k.a a tensor\n",
        "original_label = Y_test_no[random_index]\n",
        "original_label = np.reshape(original_label, (1,)).astype('int64')"
      ],
      "execution_count": null,
      "outputs": []
    },
    {
      "cell_type": "code",
      "metadata": {
        "id": "4PqyPMqUiLsT",
        "colab_type": "code",
        "colab": {
          "base_uri": "https://localhost:8080/",
          "height": 413
        },
        "outputId": "5e9892c6-d5cd-4864-8ef9-6ecb3650dd59"
      },
      "source": [
        "epsilon = 0.1\n",
        "\n",
        "adv_example_untargeted_label = fast_gradient_method(logits_model, original_image, epsilon, np.inf, targeted=False)  # EagerTensor with shape (1, 2, 128)\n",
        "example_untargeted_pred = model.predict(original_image) \n",
        "adv_example_untargeted_label_pred = model.predict(adv_example_untargeted_label)  # ndarray with shape (1, 11) 给出了11个概率\n",
        "\n",
        "# print(adv_example_untargeted_label.shape)\n",
        "original = np.argmax(example_untargeted_pred)\n",
        "attack = np.argmax(adv_example_untargeted_label_pred)\n",
        "print(np.argmax(example_untargeted_pred),example_untargeted_pred)\n",
        "print(np.argmax(adv_example_untargeted_label_pred),adv_example_untargeted_label_pred)\n",
        "\n",
        "original_image_plt = np.reshape(original_image, (2,128))\n",
        "real = original_image_plt[0]  #取（2，128）的行\n",
        "imag = original_image_plt[1]\n",
        "\n",
        "adv_example_untargeted_label_plt = np.reshape(adv_example_untargeted_label, (2,128))\n",
        "real_adv = adv_example_untargeted_label_plt[0]  #取（2，128）的行\n",
        "imag_adv = adv_example_untargeted_label_plt[1]\n",
        "\n",
        "plt.figure()\n",
        "# plt.suptitle('mods={},SNR={},attack={}'.format(np.argmax(example_untargeted_pred)),-10dB,np.argmax(adv_example_untargeted_label_pred)))\n",
        "plt.subplot(2,1,1)\n",
        "plt.plot(real,label='original')\n",
        "plt.plot(real_adv,label='attack')\n",
        "plt.title(\"real\")\n",
        "plt.legend()  #设置 legend 图例\n",
        "plt.figure()\n",
        "plt.subplot(2,1,2)\n",
        "plt.plot(imag,label='original')\n",
        "plt.plot(imag_adv,label='attack')\n",
        "plt.title(\"imag\")\n",
        "\n",
        "plt.legend()  #设置 legend 图例"
      ],
      "execution_count": null,
      "outputs": [
        {
          "output_type": "stream",
          "text": [
            "4 [[8.1937931e-02 2.2653403e-02 1.2367004e-01 1.9832979e-01 2.1767503e-01\n",
            "  1.9720879e-01 2.9364018e-02 6.5612230e-03 7.1140683e-05 9.1848321e-02\n",
            "  3.0680265e-02]]\n",
            "3 [[0.07293826 0.0410277  0.10343859 0.19161074 0.18597385 0.18191339\n",
            "  0.05653907 0.01686073 0.00025997 0.1002379  0.04919979]]\n"
          ],
          "name": "stdout"
        },
        {
          "output_type": "execute_result",
          "data": {
            "text/plain": [
              "<matplotlib.legend.Legend at 0x7f3414e0ef60>"
            ]
          },
          "metadata": {
            "tags": []
          },
          "execution_count": 69
        },
        {
          "output_type": "display_data",
          "data": {
            "image/png": "[encoded data removed]",
            "text/plain": [
              "<Figure size 432x288 with 1 Axes>"
            ]
          },
          "metadata": {
            "tags": [],
            "needs_background": "light"
          }
        },
        {
          "output_type": "display_data",
          "data": {
            "image/png": "[encoded data removed]",
            "text/plain": [
              "<Figure size 432x288 with 1 Axes>"
            ]
          },
          "metadata": {
            "tags": [],
            "needs_background": "light"
          }
        }
      ]
    },
    {
      "cell_type": "code",
      "metadata": {
        "id": "HSdalvqt0Rsy",
        "colab_type": "code",
        "colab": {
          "base_uri": "https://localhost:8080/",
          "height": 35
        },
        "outputId": "8c5cd881-34a7-4b10-a876-afe74a034aab"
      },
      "source": [
        "x1 = original_image_plt\n",
        "x2 = adv_example_untargeted_label_plt\n",
        "# print(x1,x2)\n",
        "x1_2 = x1 - x2\n",
        "# print(x1_2)\n",
        "x1_2_2 = np.multiply(x1_2,x1_2)  # 矩阵对应元素相乘就相当于各个元素平方\n",
        "# print(x1_2_2.shape)\n",
        "x1_2_2_sum = x1_2_2.sum(axis=1)  # axis=1求行和\n",
        "x1_2_2_sum_chu = x1_2_2_sum / 128\n",
        "# print(x1_2_2_sum,x1_2_2_sum_chu)\n",
        "# print(x1_2_sum,abs(x1_2_sum))\n",
        "x_sqrt = np.sqrt(x1_2_2_sum_chu)\n",
        "print(x_sqrt) "
      ],
      "execution_count": null,
      "outputs": [
        {
          "output_type": "stream",
          "text": [
            "[0.1        0.10000002]\n"
          ],
          "name": "stdout"
        }
      ]
    }
  ]
}